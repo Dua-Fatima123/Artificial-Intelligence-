{
  "cells": [
    {
      "cell_type": "markdown",
      "metadata": {
        "id": "view-in-github",
        "colab_type": "text"
      },
      "source": [
        "<a href=\"https://colab.research.google.com/github/Dua-Fatima123/Artificial-Intelligence-/blob/main/bitwise_identity_oper.ipynb\" target=\"_parent\"><img src=\"https://colab.research.google.com/assets/colab-badge.svg\" alt=\"Open In Colab\"/></a>"
      ]
    },
    {
      "cell_type": "code",
      "execution_count": null,
      "id": "0835ba93-62b6-4cec-b0b3-b3522d8dc636",
      "metadata": {
        "id": "0835ba93-62b6-4cec-b0b3-b3522d8dc636",
        "outputId": "4df1ed65-2611-4c9f-871c-69c5163c312d"
      },
      "outputs": [
        {
          "data": {
            "text/plain": [
              "'PakistanZindabad'"
            ]
          },
          "execution_count": 2,
          "metadata": {},
          "output_type": "execute_result"
        }
      ],
      "source": [
        "a = 'Pakistan'\n",
        "b = 'Zindabad'\n",
        "c = a + b\n",
        "c\n"
      ]
    },
    {
      "cell_type": "code",
      "execution_count": null,
      "id": "1ead9c94-7298-4460-9188-44cd73e78f7e",
      "metadata": {
        "id": "1ead9c94-7298-4460-9188-44cd73e78f7e",
        "outputId": "af777dae-a68e-4565-bbc0-055c41d30b31"
      },
      "outputs": [
        {
          "data": {
            "text/plain": [
              "'PakistanZindabadPakistanZindabadPakistanZindabadPakistanZindabadPakistanZindabad'"
            ]
          },
          "execution_count": 4,
          "metadata": {},
          "output_type": "execute_result"
        }
      ],
      "source": [
        "d = c * 5\n",
        "d"
      ]
    },
    {
      "cell_type": "code",
      "execution_count": null,
      "id": "1ace331d-71b1-456a-afce-70e8ccaea724",
      "metadata": {
        "id": "1ace331d-71b1-456a-afce-70e8ccaea724",
        "outputId": "a84c276d-39a6-44e2-9b3c-75c36d31b335"
      },
      "outputs": [
        {
          "name": "stdout",
          "output_type": "stream",
          "text": [
            "Help on built-in function print in module builtins:\n",
            "\n",
            "print(*args, sep=' ', end='\\n', file=None, flush=False)\n",
            "    Prints the values to a stream, or to sys.stdout by default.\n",
            "\n",
            "    sep\n",
            "      string inserted between values, default a space.\n",
            "    end\n",
            "      string appended after the last value, default a newline.\n",
            "    file\n",
            "      a file-like object (stream); defaults to the current sys.stdout.\n",
            "    flush\n",
            "      whether to forcibly flush the stream.\n",
            "\n"
          ]
        }
      ],
      "source": [
        "help(print)"
      ]
    },
    {
      "cell_type": "code",
      "execution_count": null,
      "id": "a88e51aa-179c-4c8b-a18f-e3740e804d19",
      "metadata": {
        "id": "a88e51aa-179c-4c8b-a18f-e3740e804d19",
        "outputId": "1637be9d-24ad-4a5d-c875-e4a6639f2d26"
      },
      "outputs": [
        {
          "name": "stdout",
          "output_type": "stream",
          "text": [
            "Help on built-in function len in module builtins:\n",
            "\n",
            "len(obj, /)\n",
            "    Return the number of items in a container.\n",
            "\n"
          ]
        }
      ],
      "source": [
        "help(len)"
      ]
    },
    {
      "cell_type": "code",
      "execution_count": null,
      "id": "c048d4eb-6793-4832-a7f3-5c9c45683447",
      "metadata": {
        "id": "c048d4eb-6793-4832-a7f3-5c9c45683447",
        "outputId": "6daec18b-3d9c-4f52-93e4-056e603a5140"
      },
      "outputs": [
        {
          "data": {
            "text/plain": [
              "True"
            ]
          },
          "execution_count": 14,
          "metadata": {},
          "output_type": "execute_result"
        }
      ],
      "source": [
        "len(a) == len(b) and a.startswith('P')"
      ]
    },
    {
      "cell_type": "code",
      "execution_count": null,
      "id": "202d312e-5241-4157-957e-5e7c09471e5d",
      "metadata": {
        "id": "202d312e-5241-4157-957e-5e7c09471e5d",
        "outputId": "70c1a9ce-27fa-4027-96c2-9e91a2e06551"
      },
      "outputs": [
        {
          "data": {
            "text/plain": [
              "True"
            ]
          },
          "execution_count": 16,
          "metadata": {},
          "output_type": "execute_result"
        }
      ],
      "source": [
        "len(a) == len(b) or a.startswith('P')"
      ]
    },
    {
      "cell_type": "code",
      "execution_count": null,
      "id": "fa185a84-3c26-4c62-b761-d8ab798102aa",
      "metadata": {
        "id": "fa185a84-3c26-4c62-b761-d8ab798102aa",
        "outputId": "2b523335-254d-47b9-e444-f3991afcfefc"
      },
      "outputs": [
        {
          "data": {
            "text/plain": [
              "False"
            ]
          },
          "execution_count": 18,
          "metadata": {},
          "output_type": "execute_result"
        }
      ],
      "source": [
        "not True"
      ]
    },
    {
      "cell_type": "markdown",
      "id": "3c18c307-fa89-4f43-a111-00a58388c64a",
      "metadata": {
        "id": "3c18c307-fa89-4f43-a111-00a58388c64a"
      },
      "source": [
        "## Identity Operator"
      ]
    },
    {
      "cell_type": "code",
      "execution_count": null,
      "id": "2cdb7141-1d8e-4529-ae20-b74e885796cf",
      "metadata": {
        "id": "2cdb7141-1d8e-4529-ae20-b74e885796cf",
        "outputId": "24282edf-c84e-48e8-ed21-52770c4d2766"
      },
      "outputs": [
        {
          "data": {
            "text/plain": [
              "False"
            ]
          },
          "execution_count": 21,
          "metadata": {},
          "output_type": "execute_result"
        }
      ],
      "source": [
        "a is b"
      ]
    },
    {
      "cell_type": "code",
      "execution_count": null,
      "id": "9edfbf8d-f223-4370-b042-42752d5cb8d0",
      "metadata": {
        "id": "9edfbf8d-f223-4370-b042-42752d5cb8d0",
        "outputId": "ffba0ffc-9204-402f-9d26-7a115d48b78a"
      },
      "outputs": [
        {
          "data": {
            "text/plain": [
              "True"
            ]
          },
          "execution_count": 23,
          "metadata": {},
          "output_type": "execute_result"
        }
      ],
      "source": [
        "a is not b"
      ]
    },
    {
      "cell_type": "markdown",
      "id": "5ccd969a-95d6-45ca-95f1-5ab485bd182e",
      "metadata": {
        "id": "5ccd969a-95d6-45ca-95f1-5ab485bd182e"
      },
      "source": [
        "### Membership Operator"
      ]
    },
    {
      "cell_type": "code",
      "execution_count": null,
      "id": "39b07082-0ff1-4ee9-bb94-f3be06055442",
      "metadata": {
        "id": "39b07082-0ff1-4ee9-bb94-f3be06055442",
        "outputId": "4223297a-fa18-4f24-f905-9060f3b904cc"
      },
      "outputs": [
        {
          "data": {
            "text/plain": [
              "True"
            ]
          },
          "execution_count": 26,
          "metadata": {},
          "output_type": "execute_result"
        }
      ],
      "source": [
        "e = [1,2,3,4,5,6,7,8,9]\n",
        "5 in e"
      ]
    },
    {
      "cell_type": "code",
      "execution_count": null,
      "id": "34203180-db05-4288-b720-719758b97456",
      "metadata": {
        "id": "34203180-db05-4288-b720-719758b97456",
        "outputId": "293a6f96-552b-4517-ca0d-ac30a0a7b5a5"
      },
      "outputs": [
        {
          "data": {
            "text/plain": [
              "False"
            ]
          },
          "execution_count": 28,
          "metadata": {},
          "output_type": "execute_result"
        }
      ],
      "source": [
        "5 not in e"
      ]
    },
    {
      "cell_type": "markdown",
      "id": "d7d484eb-e910-4e88-bd3c-4391533b3069",
      "metadata": {
        "id": "d7d484eb-e910-4e88-bd3c-4391533b3069"
      },
      "source": [
        "### Bitwise Operators"
      ]
    },
    {
      "cell_type": "code",
      "execution_count": null,
      "id": "063506f7-2fbb-4833-8cda-572104f09699",
      "metadata": {
        "id": "063506f7-2fbb-4833-8cda-572104f09699"
      },
      "outputs": [],
      "source": [
        "a = 10\n",
        "b = 8"
      ]
    },
    {
      "cell_type": "code",
      "execution_count": null,
      "id": "32d86376-7321-425e-9842-b8b1380d3553",
      "metadata": {
        "id": "32d86376-7321-425e-9842-b8b1380d3553",
        "outputId": "9ec6c9f4-94cd-4398-9476-797eef8a8037"
      },
      "outputs": [
        {
          "data": {
            "text/plain": [
              "8"
            ]
          },
          "execution_count": 33,
          "metadata": {},
          "output_type": "execute_result"
        }
      ],
      "source": [
        "a & b"
      ]
    },
    {
      "cell_type": "code",
      "execution_count": null,
      "id": "39fcd47b-41aa-4da5-b264-7f478b66673a",
      "metadata": {
        "id": "39fcd47b-41aa-4da5-b264-7f478b66673a",
        "outputId": "4f38d836-a95f-4bdc-85b6-1299be6bb7a5"
      },
      "outputs": [
        {
          "data": {
            "text/plain": [
              "10"
            ]
          },
          "execution_count": 35,
          "metadata": {},
          "output_type": "execute_result"
        }
      ],
      "source": [
        "a | b"
      ]
    },
    {
      "cell_type": "code",
      "execution_count": null,
      "id": "420112f4-da81-4109-802c-0c33457dda4a",
      "metadata": {
        "id": "420112f4-da81-4109-802c-0c33457dda4a",
        "outputId": "ca73a429-ea21-4e39-fdfe-d7b7bf778387"
      },
      "outputs": [
        {
          "data": {
            "text/plain": [
              "2"
            ]
          },
          "execution_count": 37,
          "metadata": {},
          "output_type": "execute_result"
        }
      ],
      "source": [
        "a ^ b"
      ]
    },
    {
      "cell_type": "code",
      "execution_count": null,
      "id": "29258897-3eff-4340-a3dc-b627ad6abb9b",
      "metadata": {
        "id": "29258897-3eff-4340-a3dc-b627ad6abb9b",
        "outputId": "d29def03-7a9c-4d18-ce70-c1baa9c51849"
      },
      "outputs": [
        {
          "data": {
            "text/plain": [
              "-11"
            ]
          },
          "execution_count": 39,
          "metadata": {},
          "output_type": "execute_result"
        }
      ],
      "source": [
        "~ a"
      ]
    },
    {
      "cell_type": "code",
      "execution_count": null,
      "id": "04e18dfb-0360-4402-86d3-0f40f75f208a",
      "metadata": {
        "id": "04e18dfb-0360-4402-86d3-0f40f75f208a",
        "outputId": "4acc9688-e33b-43a8-a931-fe04c98a5b8d"
      },
      "outputs": [
        {
          "data": {
            "text/plain": [
              "-1"
            ]
          },
          "execution_count": 41,
          "metadata": {},
          "output_type": "execute_result"
        }
      ],
      "source": [
        "~ 0"
      ]
    },
    {
      "cell_type": "code",
      "execution_count": null,
      "id": "b013eb95-3b01-4080-b830-495495118312",
      "metadata": {
        "id": "b013eb95-3b01-4080-b830-495495118312",
        "outputId": "74686314-1b16-4fec-882c-a8b35732ae80"
      },
      "outputs": [
        {
          "data": {
            "text/plain": [
              "2"
            ]
          },
          "execution_count": 43,
          "metadata": {},
          "output_type": "execute_result"
        }
      ],
      "source": [
        "a >> 2"
      ]
    },
    {
      "cell_type": "code",
      "execution_count": null,
      "id": "b48a71c9-d2ae-44dd-bf88-47e01feccb87",
      "metadata": {
        "id": "b48a71c9-d2ae-44dd-bf88-47e01feccb87",
        "outputId": "5c36da63-6a2c-457e-fb27-484ed282c297"
      },
      "outputs": [
        {
          "data": {
            "text/plain": [
              "40"
            ]
          },
          "execution_count": 45,
          "metadata": {},
          "output_type": "execute_result"
        }
      ],
      "source": [
        "a << 2"
      ]
    },
    {
      "cell_type": "code",
      "execution_count": null,
      "id": "53ba089b-2ea3-4379-930b-27a7d7a67e65",
      "metadata": {
        "id": "53ba089b-2ea3-4379-930b-27a7d7a67e65"
      },
      "outputs": [],
      "source": []
    }
  ],
  "metadata": {
    "kernelspec": {
      "display_name": "Python 3 (ipykernel)",
      "language": "python",
      "name": "python3"
    },
    "language_info": {
      "codemirror_mode": {
        "name": "ipython",
        "version": 3
      },
      "file_extension": ".py",
      "mimetype": "text/x-python",
      "name": "python",
      "nbconvert_exporter": "python",
      "pygments_lexer": "ipython3",
      "version": "3.12.4"
    },
    "colab": {
      "provenance": [],
      "include_colab_link": true
    }
  },
  "nbformat": 4,
  "nbformat_minor": 5
}