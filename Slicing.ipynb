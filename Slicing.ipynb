{
  "cells": [
    {
      "cell_type": "markdown",
      "metadata": {
        "id": "view-in-github",
        "colab_type": "text"
      },
      "source": [
        "<a href=\"https://colab.research.google.com/github/Dua-Fatima123/Artificial-Intelligence-/blob/main/Slicing.ipynb\" target=\"_parent\"><img src=\"https://colab.research.google.com/assets/colab-badge.svg\" alt=\"Open In Colab\"/></a>"
      ]
    },
    {
      "cell_type": "code",
      "execution_count": 1,
      "id": "1f6a54ae-94b5-42c7-a013-f2a960c88c09",
      "metadata": {
        "id": "1f6a54ae-94b5-42c7-a013-f2a960c88c09",
        "outputId": "2aa9a8a8-7215-44f3-ea89-60d21430a25b",
        "colab": {
          "base_uri": "https://localhost:8080/"
        }
      },
      "outputs": [
        {
          "name": "stdout",
          "output_type": "stream",
          "text": [
            "Enter the First Name : Dua\n"
          ]
        }
      ],
      "source": [
        "first_name = input('Enter the First Name : ')"
      ]
    },
    {
      "cell_type": "code",
      "execution_count": 2,
      "id": "ebc6ef6b-dc14-441a-9be0-21cf0a459e69",
      "metadata": {
        "id": "ebc6ef6b-dc14-441a-9be0-21cf0a459e69",
        "outputId": "093a3eaf-a898-4a0a-9cfa-9539ddd7295d",
        "colab": {
          "base_uri": "https://localhost:8080/"
        }
      },
      "outputs": [
        {
          "name": "stdout",
          "output_type": "stream",
          "text": [
            "Enter Second Name : Fatima\n"
          ]
        }
      ],
      "source": [
        "second_name = input('Enter Second Name : ')"
      ]
    },
    {
      "cell_type": "code",
      "execution_count": 3,
      "id": "2b278c39-a5ba-499b-b7b3-3a245e6fff66",
      "metadata": {
        "id": "2b278c39-a5ba-499b-b7b3-3a245e6fff66",
        "outputId": "9b91ad8c-2c1b-4b8e-d241-7014aee73b3d",
        "colab": {
          "base_uri": "https://localhost:8080/",
          "height": 35
        }
      },
      "outputs": [
        {
          "output_type": "execute_result",
          "data": {
            "text/plain": [
              "'DuaFatima'"
            ],
            "application/vnd.google.colaboratory.intrinsic+json": {
              "type": "string"
            }
          },
          "metadata": {},
          "execution_count": 3
        }
      ],
      "source": [
        "full_name = first_name + second_name\n",
        "full_name"
      ]
    },
    {
      "cell_type": "code",
      "execution_count": 4,
      "id": "6fe53fb6-c9ac-4be1-9536-0cde125df1b3",
      "metadata": {
        "id": "6fe53fb6-c9ac-4be1-9536-0cde125df1b3"
      },
      "outputs": [],
      "source": [
        "#help(display)"
      ]
    },
    {
      "cell_type": "code",
      "execution_count": 6,
      "id": "090271a7-2ce9-4662-9a08-391bed79f4af",
      "metadata": {
        "id": "090271a7-2ce9-4662-9a08-391bed79f4af",
        "outputId": "2077d0d1-a2a2-49c8-fc05-323f88ae6342",
        "colab": {
          "base_uri": "https://localhost:8080/"
        }
      },
      "outputs": [
        {
          "output_type": "stream",
          "name": "stdout",
          "text": [
            "Enter any Number : 12\n",
            "Enter another Number : 22\n",
            "The sum is: 34\n"
          ]
        }
      ],
      "source": [
        "a = input('Enter any Number : ')\n",
        "try:\n",
        "    a = int(a)  # Convert input to integer\n",
        "    b = int(input('Enter another Number : '))\n",
        "    c = a + b\n",
        "    print('The sum is:', c)\n",
        "except ValueError:\n",
        "    print(\"Please enter valid numbers!\")\n"
      ]
    },
    {
      "cell_type": "code",
      "execution_count": 7,
      "id": "c5623867-2074-40c8-8def-8a236d759410",
      "metadata": {
        "id": "c5623867-2074-40c8-8def-8a236d759410",
        "outputId": "9d0086a6-0cc2-41bd-e2d0-d8445b787092",
        "colab": {
          "base_uri": "https://localhost:8080/"
        }
      },
      "outputs": [
        {
          "output_type": "execute_result",
          "data": {
            "text/plain": [
              "34"
            ]
          },
          "metadata": {},
          "execution_count": 7
        }
      ],
      "source": [
        "c"
      ]
    },
    {
      "cell_type": "markdown",
      "id": "c7a0e27b-5303-4bcd-90da-d932ac41e3d5",
      "metadata": {
        "id": "c7a0e27b-5303-4bcd-90da-d932ac41e3d5"
      },
      "source": [
        "# Collections"
      ]
    },
    {
      "cell_type": "code",
      "execution_count": 8,
      "id": "b5296a0f-f518-4ef0-8b8e-7ce51e45324b",
      "metadata": {
        "id": "b5296a0f-f518-4ef0-8b8e-7ce51e45324b"
      },
      "outputs": [],
      "source": [
        "a = [1,2,3,4,5,6,7]"
      ]
    },
    {
      "cell_type": "markdown",
      "id": "7b77ff48-278f-42eb-81cf-047ee47f4253",
      "metadata": {
        "id": "7b77ff48-278f-42eb-81cf-047ee47f4253"
      },
      "source": [
        "## Indexing"
      ]
    },
    {
      "cell_type": "code",
      "execution_count": 9,
      "id": "d851de61-e276-47b4-bb27-06f44aa84cc6",
      "metadata": {
        "id": "d851de61-e276-47b4-bb27-06f44aa84cc6",
        "outputId": "ba1b7345-fb2b-4bbe-cb08-919fb2e9142c",
        "colab": {
          "base_uri": "https://localhost:8080/"
        }
      },
      "outputs": [
        {
          "output_type": "execute_result",
          "data": {
            "text/plain": [
              "1"
            ]
          },
          "metadata": {},
          "execution_count": 9
        }
      ],
      "source": [
        "a[0]"
      ]
    },
    {
      "cell_type": "code",
      "execution_count": 10,
      "id": "85e42896-2fdb-46ed-a238-e10233fa9748",
      "metadata": {
        "id": "85e42896-2fdb-46ed-a238-e10233fa9748",
        "outputId": "c30fdb56-39b8-4e68-9b8f-1be89f5c3f41",
        "colab": {
          "base_uri": "https://localhost:8080/"
        }
      },
      "outputs": [
        {
          "output_type": "execute_result",
          "data": {
            "text/plain": [
              "6"
            ]
          },
          "metadata": {},
          "execution_count": 10
        }
      ],
      "source": [
        "a[5]"
      ]
    },
    {
      "cell_type": "code",
      "execution_count": 11,
      "id": "3dc0e978-7790-4214-af19-27d1fd6d3469",
      "metadata": {
        "id": "3dc0e978-7790-4214-af19-27d1fd6d3469"
      },
      "outputs": [],
      "source": [
        "#a[89]"
      ]
    },
    {
      "cell_type": "code",
      "execution_count": 12,
      "id": "bbd76d8c-eb05-447f-acec-ca9a0f269175",
      "metadata": {
        "id": "bbd76d8c-eb05-447f-acec-ca9a0f269175",
        "outputId": "8fda70d9-24b2-4742-8eb0-67652dc018fd",
        "colab": {
          "base_uri": "https://localhost:8080/"
        }
      },
      "outputs": [
        {
          "output_type": "execute_result",
          "data": {
            "text/plain": [
              "7"
            ]
          },
          "metadata": {},
          "execution_count": 12
        }
      ],
      "source": [
        "a[-1]"
      ]
    },
    {
      "cell_type": "code",
      "execution_count": 13,
      "id": "5f62f86a-56be-4a38-960f-847946ba77ee",
      "metadata": {
        "id": "5f62f86a-56be-4a38-960f-847946ba77ee",
        "outputId": "fee0a49d-0d20-48e0-e1f6-4a0ea1c79a3d",
        "colab": {
          "base_uri": "https://localhost:8080/"
        }
      },
      "outputs": [
        {
          "output_type": "execute_result",
          "data": {
            "text/plain": [
              "5"
            ]
          },
          "metadata": {},
          "execution_count": 13
        }
      ],
      "source": [
        "a[-3]"
      ]
    },
    {
      "cell_type": "code",
      "execution_count": 14,
      "id": "ad265a9a-b2a1-4127-a9f0-cbacf9e9d775",
      "metadata": {
        "id": "ad265a9a-b2a1-4127-a9f0-cbacf9e9d775"
      },
      "outputs": [],
      "source": [
        "a[-1] = 22"
      ]
    },
    {
      "cell_type": "code",
      "execution_count": 15,
      "id": "290a1fbb-a558-4335-b81c-61b3a0249de0",
      "metadata": {
        "id": "290a1fbb-a558-4335-b81c-61b3a0249de0",
        "outputId": "df574e11-a8b5-4f8c-e678-5e547414e315",
        "colab": {
          "base_uri": "https://localhost:8080/"
        }
      },
      "outputs": [
        {
          "output_type": "execute_result",
          "data": {
            "text/plain": [
              "[1, 2, 3, 4, 5, 6, 22]"
            ]
          },
          "metadata": {},
          "execution_count": 15
        }
      ],
      "source": [
        "a"
      ]
    },
    {
      "cell_type": "markdown",
      "id": "cd36b49a-00b4-4c28-bd70-95e3a5204fc7",
      "metadata": {
        "id": "cd36b49a-00b4-4c28-bd70-95e3a5204fc7"
      },
      "source": [
        "## Slicing"
      ]
    },
    {
      "cell_type": "code",
      "execution_count": 16,
      "id": "d1f1136d-1f8f-4518-b512-5c22d70ed2c0",
      "metadata": {
        "id": "d1f1136d-1f8f-4518-b512-5c22d70ed2c0"
      },
      "outputs": [],
      "source": [
        "b = a[2:5]"
      ]
    },
    {
      "cell_type": "code",
      "execution_count": 17,
      "id": "656e828c-59a2-40a6-bf6b-d5fe9196dca5",
      "metadata": {
        "id": "656e828c-59a2-40a6-bf6b-d5fe9196dca5",
        "outputId": "7f5a5cde-e7d5-4354-dc97-ccad297d64f9",
        "colab": {
          "base_uri": "https://localhost:8080/"
        }
      },
      "outputs": [
        {
          "output_type": "execute_result",
          "data": {
            "text/plain": [
              "[3, 4, 5]"
            ]
          },
          "metadata": {},
          "execution_count": 17
        }
      ],
      "source": [
        "b"
      ]
    },
    {
      "cell_type": "code",
      "execution_count": 18,
      "id": "197e3b02-1f33-4936-92b5-a48a6cfdf7ae",
      "metadata": {
        "id": "197e3b02-1f33-4936-92b5-a48a6cfdf7ae",
        "outputId": "52aff7f5-988d-4e76-8164-f66e76123b67",
        "colab": {
          "base_uri": "https://localhost:8080/"
        }
      },
      "outputs": [
        {
          "output_type": "execute_result",
          "data": {
            "text/plain": [
              "[1, 2, 3, 4, 5, 6, 22]"
            ]
          },
          "metadata": {},
          "execution_count": 18
        }
      ],
      "source": [
        "b = a[:]\n",
        "b"
      ]
    },
    {
      "cell_type": "code",
      "execution_count": 19,
      "id": "02529d3b-ab8e-4148-a5ea-ece07686aed5",
      "metadata": {
        "id": "02529d3b-ab8e-4148-a5ea-ece07686aed5",
        "outputId": "d9610bd6-f9a3-4d6e-a7c7-351690699d9b",
        "colab": {
          "base_uri": "https://localhost:8080/"
        }
      },
      "outputs": [
        {
          "output_type": "execute_result",
          "data": {
            "text/plain": [
              "[1, 2, 3, 4]"
            ]
          },
          "metadata": {},
          "execution_count": 19
        }
      ],
      "source": [
        "b = a[:4]\n",
        "b"
      ]
    },
    {
      "cell_type": "code",
      "execution_count": 20,
      "id": "8c8b14e2-73c4-4f92-abbc-49ff908597cf",
      "metadata": {
        "id": "8c8b14e2-73c4-4f92-abbc-49ff908597cf",
        "outputId": "b6323cb2-b49a-44f7-c8ca-1ec9e372f555",
        "colab": {
          "base_uri": "https://localhost:8080/"
        }
      },
      "outputs": [
        {
          "output_type": "execute_result",
          "data": {
            "text/plain": [
              "[1, 2, 3, 4, 5, 6]"
            ]
          },
          "metadata": {},
          "execution_count": 20
        }
      ],
      "source": [
        "b = a[:-1]\n",
        "b"
      ]
    },
    {
      "cell_type": "code",
      "execution_count": 21,
      "id": "36a48393-fecd-4d62-b8be-cbf585b668ea",
      "metadata": {
        "id": "36a48393-fecd-4d62-b8be-cbf585b668ea",
        "outputId": "b9bf287c-ede9-4ee2-9050-d37f25f9f6dd",
        "colab": {
          "base_uri": "https://localhost:8080/"
        }
      },
      "outputs": [
        {
          "output_type": "execute_result",
          "data": {
            "text/plain": [
              "[22, 6, 5, 4, 3, 2, 1]"
            ]
          },
          "metadata": {},
          "execution_count": 21
        }
      ],
      "source": [
        "b = a[::-1]\n",
        "b"
      ]
    },
    {
      "cell_type": "code",
      "execution_count": 22,
      "id": "3a4e6126-7994-4fe0-ae37-114d5aa5f021",
      "metadata": {
        "id": "3a4e6126-7994-4fe0-ae37-114d5aa5f021",
        "outputId": "c823b7c8-e2a8-4a86-e3ca-0968b011ced8",
        "colab": {
          "base_uri": "https://localhost:8080/"
        }
      },
      "outputs": [
        {
          "output_type": "execute_result",
          "data": {
            "text/plain": [
              "[1, 3, 5, 22]"
            ]
          },
          "metadata": {},
          "execution_count": 22
        }
      ],
      "source": [
        "b = a[::2]\n",
        "b"
      ]
    },
    {
      "cell_type": "code",
      "execution_count": 23,
      "id": "11374252-3167-4895-9725-d9f95219dc97",
      "metadata": {
        "id": "11374252-3167-4895-9725-d9f95219dc97",
        "outputId": "e9909ca3-8458-4443-cde6-bf385c66d762",
        "colab": {
          "base_uri": "https://localhost:8080/"
        }
      },
      "outputs": [
        {
          "output_type": "execute_result",
          "data": {
            "text/plain": [
              "[22, 5, 3, 1]"
            ]
          },
          "metadata": {},
          "execution_count": 23
        }
      ],
      "source": [
        "b = a[::-2]\n",
        "b"
      ]
    },
    {
      "cell_type": "code",
      "execution_count": 24,
      "id": "216c9f47-533f-4b97-b95b-6ca8779255c2",
      "metadata": {
        "id": "216c9f47-533f-4b97-b95b-6ca8779255c2",
        "outputId": "ca6534f8-e8b2-4a61-d8ae-50e0ed36443e",
        "colab": {
          "base_uri": "https://localhost:8080/"
        }
      },
      "outputs": [
        {
          "output_type": "execute_result",
          "data": {
            "text/plain": [
              "[3, 4]"
            ]
          },
          "metadata": {},
          "execution_count": 24
        }
      ],
      "source": [
        "b = a[-5:-3]\n",
        "b"
      ]
    },
    {
      "cell_type": "code",
      "execution_count": 25,
      "id": "89ecf19c-f3a2-45c9-9978-f26d5c0b6a8b",
      "metadata": {
        "id": "89ecf19c-f3a2-45c9-9978-f26d5c0b6a8b",
        "outputId": "66d55b31-4a20-4fc4-90e0-35af44ebce0a",
        "colab": {
          "base_uri": "https://localhost:8080/"
        }
      },
      "outputs": [
        {
          "output_type": "execute_result",
          "data": {
            "text/plain": [
              "[]"
            ]
          },
          "metadata": {},
          "execution_count": 25
        }
      ],
      "source": [
        "b = a[-3:-5]\n",
        "b"
      ]
    },
    {
      "cell_type": "code",
      "execution_count": 26,
      "id": "e3ddbe26-21f0-4c66-93f2-e8974a3e8ec8",
      "metadata": {
        "id": "e3ddbe26-21f0-4c66-93f2-e8974a3e8ec8",
        "outputId": "adb9a193-2735-4507-8d51-feaaa409a1be",
        "colab": {
          "base_uri": "https://localhost:8080/"
        }
      },
      "outputs": [
        {
          "output_type": "execute_result",
          "data": {
            "text/plain": [
              "[1, 3, 5]"
            ]
          },
          "metadata": {},
          "execution_count": 26
        }
      ],
      "source": [
        "b = a[:5:2]\n",
        "b"
      ]
    },
    {
      "cell_type": "code",
      "execution_count": 27,
      "id": "9e1908ea-cec5-4537-831a-86af4ef3bcff",
      "metadata": {
        "id": "9e1908ea-cec5-4537-831a-86af4ef3bcff",
        "outputId": "76e1a6d5-2bd0-4ef2-ad50-a7cdd5d3ea51",
        "colab": {
          "base_uri": "https://localhost:8080/"
        }
      },
      "outputs": [
        {
          "output_type": "execute_result",
          "data": {
            "text/plain": [
              "[4, 6]"
            ]
          },
          "metadata": {},
          "execution_count": 27
        }
      ],
      "source": [
        "b = a[3::2]\n",
        "b"
      ]
    },
    {
      "cell_type": "code",
      "execution_count": 28,
      "id": "93c5620a-1b36-4885-85b8-f30d80aeb95f",
      "metadata": {
        "id": "93c5620a-1b36-4885-85b8-f30d80aeb95f",
        "outputId": "fb4429d8-b133-4b87-9c4e-80e92d717a51",
        "colab": {
          "base_uri": "https://localhost:8080/"
        }
      },
      "outputs": [
        {
          "output_type": "execute_result",
          "data": {
            "text/plain": [
              "[22, 6, 5, 4, 3, 2, 1]"
            ]
          },
          "metadata": {},
          "execution_count": 28
        }
      ],
      "source": [
        "b = a[::-1]\n",
        "b"
      ]
    },
    {
      "cell_type": "code",
      "execution_count": 29,
      "id": "6f6c3322-cf6f-4230-9845-732880ef23aa",
      "metadata": {
        "id": "6f6c3322-cf6f-4230-9845-732880ef23aa"
      },
      "outputs": [],
      "source": [
        "name  = 'Rashid Abbas'"
      ]
    },
    {
      "cell_type": "code",
      "execution_count": 30,
      "id": "93b6b44f-b1fd-4999-834a-48dece2ed037",
      "metadata": {
        "id": "93b6b44f-b1fd-4999-834a-48dece2ed037",
        "outputId": "b04d603f-fbdb-4851-8566-204d7e242fa7",
        "colab": {
          "base_uri": "https://localhost:8080/",
          "height": 35
        }
      },
      "outputs": [
        {
          "output_type": "execute_result",
          "data": {
            "text/plain": [
              "'Rashid Abbas'"
            ],
            "application/vnd.google.colaboratory.intrinsic+json": {
              "type": "string"
            }
          },
          "metadata": {},
          "execution_count": 30
        }
      ],
      "source": [
        "b = name[:]\n",
        "b"
      ]
    },
    {
      "cell_type": "code",
      "execution_count": 31,
      "id": "1c1519f4-7266-44f7-9147-a28c08d710c9",
      "metadata": {
        "id": "1c1519f4-7266-44f7-9147-a28c08d710c9",
        "outputId": "69feefe3-8e96-4a1a-9fef-e4308726bd08",
        "colab": {
          "base_uri": "https://localhost:8080/",
          "height": 35
        }
      },
      "outputs": [
        {
          "output_type": "execute_result",
          "data": {
            "text/plain": [
              "'sabbA dihsaR'"
            ],
            "application/vnd.google.colaboratory.intrinsic+json": {
              "type": "string"
            }
          },
          "metadata": {},
          "execution_count": 31
        }
      ],
      "source": [
        "b = name[::-1]\n",
        "b"
      ]
    },
    {
      "cell_type": "code",
      "execution_count": 32,
      "id": "978f2b96-4f4e-4efd-b478-759ac1bf3255",
      "metadata": {
        "id": "978f2b96-4f4e-4efd-b478-759ac1bf3255",
        "outputId": "88f59191-f0e5-4864-d96d-907c672da206",
        "colab": {
          "base_uri": "https://localhost:8080/",
          "height": 35
        }
      },
      "outputs": [
        {
          "output_type": "execute_result",
          "data": {
            "text/plain": [
              "' Abbas'"
            ],
            "application/vnd.google.colaboratory.intrinsic+json": {
              "type": "string"
            }
          },
          "metadata": {},
          "execution_count": 32
        }
      ],
      "source": [
        "b = name[6:]\n",
        "b"
      ]
    },
    {
      "cell_type": "code",
      "execution_count": 33,
      "id": "78300635-1364-4a1a-a90f-3b945b8d6819",
      "metadata": {
        "id": "78300635-1364-4a1a-a90f-3b945b8d6819",
        "outputId": "cbb739d0-7e42-440c-c168-bcea0091259e",
        "colab": {
          "base_uri": "https://localhost:8080/"
        }
      },
      "outputs": [
        {
          "output_type": "execute_result",
          "data": {
            "text/plain": [
              "[True, 'Hamiz', 'Rashid Abbas']"
            ]
          },
          "metadata": {},
          "execution_count": 33
        }
      ],
      "source": [
        "b = ['Rashid Abbas', 'Hamiz',True]\n",
        "b[::-1]"
      ]
    },
    {
      "cell_type": "markdown",
      "id": "0ebb717a-ab15-4ad2-8ef1-74c5e10ffbc4",
      "metadata": {
        "id": "0ebb717a-ab15-4ad2-8ef1-74c5e10ffbc4"
      },
      "source": [
        "c:int = 10"
      ]
    },
    {
      "cell_type": "code",
      "execution_count": 34,
      "id": "1228b523-4e2d-4fdb-b55f-b5db0caa97a6",
      "metadata": {
        "id": "1228b523-4e2d-4fdb-b55f-b5db0caa97a6",
        "outputId": "ee55c506-60c0-42b5-820b-8154bf68ccdf",
        "colab": {
          "base_uri": "https://localhost:8080/"
        }
      },
      "outputs": [
        {
          "output_type": "execute_result",
          "data": {
            "text/plain": [
              "34"
            ]
          },
          "metadata": {},
          "execution_count": 34
        }
      ],
      "source": [
        "c"
      ]
    },
    {
      "cell_type": "code",
      "execution_count": 35,
      "id": "a9c872d5-8fa0-4f89-be19-2d63a549773c",
      "metadata": {
        "id": "a9c872d5-8fa0-4f89-be19-2d63a549773c"
      },
      "outputs": [],
      "source": [
        "c = True"
      ]
    },
    {
      "cell_type": "code",
      "execution_count": 36,
      "id": "869cedc8-20b6-412a-8042-ecb107bce613",
      "metadata": {
        "id": "869cedc8-20b6-412a-8042-ecb107bce613",
        "outputId": "899239d9-67b1-4325-9320-4903bc1327fc",
        "colab": {
          "base_uri": "https://localhost:8080/"
        }
      },
      "outputs": [
        {
          "output_type": "execute_result",
          "data": {
            "text/plain": [
              "True"
            ]
          },
          "metadata": {},
          "execution_count": 36
        }
      ],
      "source": [
        "c"
      ]
    },
    {
      "cell_type": "markdown",
      "id": "9c477ab8-4b64-4d11-a339-480b947e7902",
      "metadata": {
        "id": "9c477ab8-4b64-4d11-a339-480b947e7902"
      },
      "source": [
        "## Methods"
      ]
    },
    {
      "cell_type": "code",
      "execution_count": 37,
      "id": "682e5cfa-65e3-464d-8de1-f87de7149ae4",
      "metadata": {
        "id": "682e5cfa-65e3-464d-8de1-f87de7149ae4"
      },
      "outputs": [],
      "source": [
        "a = [1,2,3,4,5,6,7,8,9,10]"
      ]
    },
    {
      "cell_type": "code",
      "execution_count": 38,
      "id": "b5392f22-8e35-4bc9-a3a4-f69fb7fbb27a",
      "metadata": {
        "id": "b5392f22-8e35-4bc9-a3a4-f69fb7fbb27a",
        "outputId": "a962041e-c889-40d0-ba76-70910368c83b",
        "colab": {
          "base_uri": "https://localhost:8080/"
        }
      },
      "outputs": [
        {
          "output_type": "execute_result",
          "data": {
            "text/plain": [
              "[1, 2, 3, 4, 5, 6, 7, 8, 9, 10, 11]"
            ]
          },
          "metadata": {},
          "execution_count": 38
        }
      ],
      "source": [
        "a.append(11)\n",
        "a"
      ]
    },
    {
      "cell_type": "code",
      "execution_count": 39,
      "id": "c188f1d7-2bba-435a-8c53-0d59c463b324",
      "metadata": {
        "id": "c188f1d7-2bba-435a-8c53-0d59c463b324"
      },
      "outputs": [],
      "source": [
        "#a.append([21,22,23])"
      ]
    },
    {
      "cell_type": "code",
      "execution_count": 40,
      "id": "224ffa87-10fd-42b5-afca-fdf8e774f68f",
      "metadata": {
        "id": "224ffa87-10fd-42b5-afca-fdf8e774f68f"
      },
      "outputs": [],
      "source": [
        "#a"
      ]
    },
    {
      "cell_type": "code",
      "execution_count": 41,
      "id": "5e016112-5b4b-468e-ba33-f22fbc8c2ce6",
      "metadata": {
        "id": "5e016112-5b4b-468e-ba33-f22fbc8c2ce6",
        "outputId": "6b773814-756d-41a1-a64b-a0dd92e8ff05",
        "colab": {
          "base_uri": "https://localhost:8080/"
        }
      },
      "outputs": [
        {
          "output_type": "execute_result",
          "data": {
            "text/plain": [
              "[1, 2, 3, 4, 5, 6, 7, 8, 9, 10, 11, 21, 22, 23]"
            ]
          },
          "metadata": {},
          "execution_count": 41
        }
      ],
      "source": [
        "a.extend([21,22,23])\n",
        "a"
      ]
    },
    {
      "cell_type": "code",
      "execution_count": 42,
      "id": "72667011-4d85-42a9-ae84-5444aa34ada7",
      "metadata": {
        "id": "72667011-4d85-42a9-ae84-5444aa34ada7",
        "outputId": "84dc1654-b8dd-4f05-ae3e-9f202a7ea027",
        "colab": {
          "base_uri": "https://localhost:8080/"
        }
      },
      "outputs": [
        {
          "output_type": "stream",
          "name": "stdout",
          "text": [
            "Help on built-in function extend:\n",
            "\n",
            "extend(iterable, /) method of builtins.list instance\n",
            "    Extend list by appending elements from the iterable.\n",
            "\n"
          ]
        }
      ],
      "source": [
        "help(a.extend)"
      ]
    },
    {
      "cell_type": "code",
      "execution_count": 43,
      "id": "a1e7f891-678f-4705-a765-28459c079428",
      "metadata": {
        "id": "a1e7f891-678f-4705-a765-28459c079428",
        "outputId": "67d11268-0176-47ce-94ae-f442ee51d657",
        "colab": {
          "base_uri": "https://localhost:8080/"
        }
      },
      "outputs": [
        {
          "output_type": "execute_result",
          "data": {
            "text/plain": [
              "1"
            ]
          },
          "metadata": {},
          "execution_count": 43
        }
      ],
      "source": [
        "a.count(4)"
      ]
    },
    {
      "cell_type": "code",
      "execution_count": 44,
      "id": "21e00a26-b0d1-465e-853e-276cf0c5d97f",
      "metadata": {
        "id": "21e00a26-b0d1-465e-853e-276cf0c5d97f",
        "outputId": "f3ea3d0b-61a7-4f46-e934-b6f915bcafcd",
        "colab": {
          "base_uri": "https://localhost:8080/"
        }
      },
      "outputs": [
        {
          "output_type": "execute_result",
          "data": {
            "text/plain": [
              "1"
            ]
          },
          "metadata": {},
          "execution_count": 44
        }
      ],
      "source": [
        "a.index(2)"
      ]
    },
    {
      "cell_type": "code",
      "execution_count": 45,
      "id": "bc8ca6ef-df96-4a8f-8117-913a4a0053fa",
      "metadata": {
        "id": "bc8ca6ef-df96-4a8f-8117-913a4a0053fa",
        "outputId": "c9436dab-44fe-4665-8da4-34bf05f6f705",
        "colab": {
          "base_uri": "https://localhost:8080/"
        }
      },
      "outputs": [
        {
          "output_type": "stream",
          "name": "stdout",
          "text": [
            "Help on built-in function insert:\n",
            "\n",
            "insert(index, object, /) method of builtins.list instance\n",
            "    Insert object before index.\n",
            "\n"
          ]
        }
      ],
      "source": [
        "help(a.insert)"
      ]
    },
    {
      "cell_type": "code",
      "execution_count": 46,
      "id": "be190402-124e-4422-a243-51ca9b7c257c",
      "metadata": {
        "id": "be190402-124e-4422-a243-51ca9b7c257c",
        "outputId": "423613d5-7b76-4fe5-dfdf-513a902bc288",
        "colab": {
          "base_uri": "https://localhost:8080/"
        }
      },
      "outputs": [
        {
          "output_type": "execute_result",
          "data": {
            "text/plain": [
              "[1, 45, 2, 3, 4, 5, 6, 7, 8, 9, 10, 11, 21, 22, 23]"
            ]
          },
          "metadata": {},
          "execution_count": 46
        }
      ],
      "source": [
        "a.insert(1,45)\n",
        "a"
      ]
    },
    {
      "cell_type": "code",
      "execution_count": 47,
      "id": "3004152d-b665-444f-9411-ca67f95c8b85",
      "metadata": {
        "id": "3004152d-b665-444f-9411-ca67f95c8b85",
        "outputId": "c1ce8f83-9a17-4dac-fe40-1f5377323459",
        "colab": {
          "base_uri": "https://localhost:8080/"
        }
      },
      "outputs": [
        {
          "output_type": "stream",
          "name": "stdout",
          "text": [
            "Help on built-in function sort:\n",
            "\n",
            "sort(*, key=None, reverse=False) method of builtins.list instance\n",
            "    Sort the list in ascending order and return None.\n",
            "    \n",
            "    The sort is in-place (i.e. the list itself is modified) and stable (i.e. the\n",
            "    order of two equal elements is maintained).\n",
            "    \n",
            "    If a key function is given, apply it once to each list item and sort them,\n",
            "    ascending or descending, according to their function values.\n",
            "    \n",
            "    The reverse flag can be set to sort in descending order.\n",
            "\n"
          ]
        }
      ],
      "source": [
        "help(a.sort)"
      ]
    },
    {
      "cell_type": "code",
      "execution_count": 48,
      "id": "34c8c4c1-f730-4585-872f-931d22d1e927",
      "metadata": {
        "id": "34c8c4c1-f730-4585-872f-931d22d1e927",
        "outputId": "4d8f4de1-f667-4694-d4d1-86b0378a4eb7",
        "colab": {
          "base_uri": "https://localhost:8080/"
        }
      },
      "outputs": [
        {
          "output_type": "execute_result",
          "data": {
            "text/plain": [
              "[45, 23, 22, 21, 11, 10, 9, 8, 7, 6, 5, 4, 3, 2, 1]"
            ]
          },
          "metadata": {},
          "execution_count": 48
        }
      ],
      "source": [
        "a.sort(reverse=True)\n",
        "a"
      ]
    },
    {
      "cell_type": "code",
      "execution_count": 49,
      "id": "9884b3de-169e-4457-9c1f-35a6ad02b429",
      "metadata": {
        "id": "9884b3de-169e-4457-9c1f-35a6ad02b429",
        "outputId": "27e40f89-772f-4a9c-d5c2-5c3c65a7f75f",
        "colab": {
          "base_uri": "https://localhost:8080/"
        }
      },
      "outputs": [
        {
          "output_type": "execute_result",
          "data": {
            "text/plain": [
              "1"
            ]
          },
          "metadata": {},
          "execution_count": 49
        }
      ],
      "source": [
        "a.pop()"
      ]
    },
    {
      "cell_type": "markdown",
      "id": "f91f29ac-4abd-4649-a0c7-6fdd6b9627aa",
      "metadata": {
        "id": "f91f29ac-4abd-4649-a0c7-6fdd6b9627aa"
      },
      "source": [
        "# Functions"
      ]
    },
    {
      "cell_type": "code",
      "execution_count": 50,
      "id": "9ab7e009-ed6e-44b0-bcae-421f8df199e8",
      "metadata": {
        "id": "9ab7e009-ed6e-44b0-bcae-421f8df199e8",
        "outputId": "8d23372b-9bc5-4e8a-ed62-ab7ad5067a04",
        "colab": {
          "base_uri": "https://localhost:8080/"
        }
      },
      "outputs": [
        {
          "output_type": "execute_result",
          "data": {
            "text/plain": [
              "14"
            ]
          },
          "metadata": {},
          "execution_count": 50
        }
      ],
      "source": [
        "len(a)"
      ]
    },
    {
      "cell_type": "code",
      "execution_count": 51,
      "id": "190a63e3-4eb0-44fe-889d-1f25798a3ed2",
      "metadata": {
        "id": "190a63e3-4eb0-44fe-889d-1f25798a3ed2",
        "outputId": "46f27f84-370c-4357-8dcf-9e6c2ac922f3",
        "colab": {
          "base_uri": "https://localhost:8080/"
        }
      },
      "outputs": [
        {
          "output_type": "stream",
          "name": "stdout",
          "text": [
            "<enumerate object at 0x7d2a4328d3c0>\n"
          ]
        }
      ],
      "source": [
        "a = ['Ali','Ahmed','Usman','Umer','Raza']\n",
        "b = enumerate(a)\n",
        "print(b)"
      ]
    },
    {
      "cell_type": "code",
      "execution_count": 52,
      "id": "dbddc9e6-8f4a-4bd9-af3c-45783f40d59e",
      "metadata": {
        "id": "dbddc9e6-8f4a-4bd9-af3c-45783f40d59e",
        "outputId": "d46a0e49-0b9b-4385-c4f5-83b8e552e45e",
        "colab": {
          "base_uri": "https://localhost:8080/"
        }
      },
      "outputs": [
        {
          "output_type": "stream",
          "name": "stdout",
          "text": [
            "<zip object at 0x7d2a4328d500>\n"
          ]
        }
      ],
      "source": [
        "a = [1,2,3]\n",
        "b = ['a','b','c']\n",
        "c = zip(a,b)\n",
        "print(c)"
      ]
    },
    {
      "cell_type": "code",
      "execution_count": 52,
      "id": "5028e240-990c-40e8-9e5b-cedb0a1cfb23",
      "metadata": {
        "id": "5028e240-990c-40e8-9e5b-cedb0a1cfb23"
      },
      "outputs": [],
      "source": []
    },
    {
      "cell_type": "code",
      "execution_count": 52,
      "id": "bf2a7940-ab20-40fa-8e9f-5c5d7b2542ef",
      "metadata": {
        "id": "bf2a7940-ab20-40fa-8e9f-5c5d7b2542ef"
      },
      "outputs": [],
      "source": []
    }
  ],
  "metadata": {
    "kernelspec": {
      "display_name": "Python 3 (ipykernel)",
      "language": "python",
      "name": "python3"
    },
    "language_info": {
      "codemirror_mode": {
        "name": "ipython",
        "version": 3
      },
      "file_extension": ".py",
      "mimetype": "text/x-python",
      "name": "python",
      "nbconvert_exporter": "python",
      "pygments_lexer": "ipython3",
      "version": "3.12.4"
    },
    "colab": {
      "provenance": [],
      "include_colab_link": true
    }
  },
  "nbformat": 4,
  "nbformat_minor": 5
}