{
  "cells": [
    {
      "cell_type": "markdown",
      "metadata": {
        "id": "view-in-github",
        "colab_type": "text"
      },
      "source": [
        "<a href=\"https://colab.research.google.com/github/Dua-Fatima123/Artificial-Intelligence-/blob/main/Data_Collections_Operators.ipynb\" target=\"_parent\"><img src=\"https://colab.research.google.com/assets/colab-badge.svg\" alt=\"Open In Colab\"/></a>"
      ]
    },
    {
      "cell_type": "markdown",
      "id": "f6173e79-09dc-4504-b591-8680c6862561",
      "metadata": {
        "id": "f6173e79-09dc-4504-b591-8680c6862561"
      },
      "source": [
        "### Void"
      ]
    },
    {
      "cell_type": "code",
      "execution_count": null,
      "id": "7daf47c8-ad5d-4402-b265-5e9689285b5a",
      "metadata": {
        "id": "7daf47c8-ad5d-4402-b265-5e9689285b5a"
      },
      "outputs": [],
      "source": [
        "a = None"
      ]
    },
    {
      "cell_type": "code",
      "execution_count": null,
      "id": "147c8d48-8279-4066-87dd-0f75ebbbd142",
      "metadata": {
        "id": "147c8d48-8279-4066-87dd-0f75ebbbd142",
        "outputId": "e9b3596a-4c1f-4c7e-f3c3-69144662f6aa"
      },
      "outputs": [
        {
          "data": {
            "text/plain": [
              "NoneType"
            ]
          },
          "execution_count": 10,
          "metadata": {},
          "output_type": "execute_result"
        }
      ],
      "source": [
        "type(a)"
      ]
    },
    {
      "cell_type": "code",
      "execution_count": null,
      "id": "cb87ecf4-8ccf-435a-bc70-b2657f6fe5b6",
      "metadata": {
        "id": "cb87ecf4-8ccf-435a-bc70-b2657f6fe5b6"
      },
      "outputs": [],
      "source": [
        "a = 5"
      ]
    },
    {
      "cell_type": "code",
      "execution_count": null,
      "id": "b934f936-39c5-4caf-8368-16a43ef0965f",
      "metadata": {
        "id": "b934f936-39c5-4caf-8368-16a43ef0965f",
        "outputId": "866ae699-db6e-494b-a043-86397d512f84"
      },
      "outputs": [
        {
          "data": {
            "text/plain": [
              "9771944"
            ]
          },
          "execution_count": 20,
          "metadata": {},
          "output_type": "execute_result"
        }
      ],
      "source": [
        "id(a)"
      ]
    },
    {
      "cell_type": "code",
      "execution_count": null,
      "id": "1b50a2da-2f51-4c2b-a178-c4a9c8d08f88",
      "metadata": {
        "id": "1b50a2da-2f51-4c2b-a178-c4a9c8d08f88"
      },
      "outputs": [],
      "source": [
        "del a"
      ]
    },
    {
      "cell_type": "code",
      "execution_count": null,
      "id": "021260b8-2b9c-4748-8e85-ddd2b091bc1c",
      "metadata": {
        "id": "021260b8-2b9c-4748-8e85-ddd2b091bc1c",
        "outputId": "3b22c064-ae1c-4101-d5d5-1afed71d57a5"
      },
      "outputs": [
        {
          "data": {
            "text/plain": [
              "9771944"
            ]
          },
          "execution_count": 24,
          "metadata": {},
          "output_type": "execute_result"
        }
      ],
      "source": [
        "id(5)"
      ]
    },
    {
      "cell_type": "code",
      "execution_count": null,
      "id": "904fa3e7-8534-40e8-935f-d781d48c63a8",
      "metadata": {
        "id": "904fa3e7-8534-40e8-935f-d781d48c63a8"
      },
      "outputs": [],
      "source": [
        "a = 5"
      ]
    },
    {
      "cell_type": "code",
      "execution_count": null,
      "id": "567c2bcc-519d-4a4a-8a58-41a6a9446505",
      "metadata": {
        "id": "567c2bcc-519d-4a4a-8a58-41a6a9446505",
        "outputId": "fb17d2a8-9d66-4406-ad6e-be87c08c7a47"
      },
      "outputs": [
        {
          "data": {
            "text/plain": [
              "9771944"
            ]
          },
          "execution_count": 28,
          "metadata": {},
          "output_type": "execute_result"
        }
      ],
      "source": [
        "id(5)"
      ]
    },
    {
      "cell_type": "code",
      "execution_count": null,
      "id": "b3fe465e-3420-49e5-a355-7ca4f88fdd65",
      "metadata": {
        "id": "b3fe465e-3420-49e5-a355-7ca4f88fdd65"
      },
      "outputs": [],
      "source": [
        "a =  1356867"
      ]
    },
    {
      "cell_type": "code",
      "execution_count": null,
      "id": "a1018539-d04b-455c-b1e7-c2ee3af4ef9c",
      "metadata": {
        "id": "a1018539-d04b-455c-b1e7-c2ee3af4ef9c",
        "outputId": "8bd6cf91-56bf-4112-ffbc-a741951e5f12"
      },
      "outputs": [
        {
          "data": {
            "text/plain": [
              "137045145839312"
            ]
          },
          "execution_count": 61,
          "metadata": {},
          "output_type": "execute_result"
        }
      ],
      "source": [
        "id(a)"
      ]
    },
    {
      "cell_type": "code",
      "execution_count": null,
      "id": "859ae709-ce14-4c68-9a74-82dcf10485e6",
      "metadata": {
        "id": "859ae709-ce14-4c68-9a74-82dcf10485e6"
      },
      "outputs": [],
      "source": [
        "del a"
      ]
    },
    {
      "cell_type": "code",
      "execution_count": null,
      "id": "62ea23a5-0ad9-4b3a-adda-9f470c117443",
      "metadata": {
        "id": "62ea23a5-0ad9-4b3a-adda-9f470c117443",
        "outputId": "090995ad-77b1-426e-cef2-e20bb6687e87"
      },
      "outputs": [
        {
          "data": {
            "text/plain": [
              "137045145841872"
            ]
          },
          "execution_count": 65,
          "metadata": {},
          "output_type": "execute_result"
        }
      ],
      "source": [
        "b = 1356867\n",
        "id(b)"
      ]
    },
    {
      "cell_type": "code",
      "execution_count": null,
      "id": "9a7fc4c7-b259-4e78-95d9-af3d6b28ebc9",
      "metadata": {
        "id": "9a7fc4c7-b259-4e78-95d9-af3d6b28ebc9",
        "outputId": "8f5dac7f-9603-4ac0-d448-d262de6d6149"
      },
      "outputs": [
        {
          "data": {
            "text/plain": [
              "137045145843728"
            ]
          },
          "execution_count": 67,
          "metadata": {},
          "output_type": "execute_result"
        }
      ],
      "source": [
        "id(1356867)"
      ]
    },
    {
      "cell_type": "markdown",
      "id": "bb58ef1b-5a36-4190-8284-6e4640fbb61a",
      "metadata": {
        "id": "bb58ef1b-5a36-4190-8284-6e4640fbb61a"
      },
      "source": [
        "# Collactions\n",
        "## List"
      ]
    },
    {
      "cell_type": "code",
      "execution_count": null,
      "id": "6da74bcb-4c80-4278-bc8c-524d4589c924",
      "metadata": {
        "id": "6da74bcb-4c80-4278-bc8c-524d4589c924",
        "outputId": "7dbffdf9-5f5c-4190-9475-4df608ffd197"
      },
      "outputs": [
        {
          "data": {
            "text/plain": [
              "[1, 2, 3, 4, 5, 6, 'Pak', True]"
            ]
          },
          "execution_count": 74,
          "metadata": {},
          "output_type": "execute_result"
        }
      ],
      "source": [
        "a = [1,2,3,4,5,6,'Pak',True]\n",
        "a"
      ]
    },
    {
      "cell_type": "code",
      "execution_count": null,
      "id": "1c98b0bf-4e9d-47db-8569-a9d79d1a66e6",
      "metadata": {
        "id": "1c98b0bf-4e9d-47db-8569-a9d79d1a66e6"
      },
      "outputs": [],
      "source": [
        "def foo(value):\n",
        "    print(value*2)"
      ]
    },
    {
      "cell_type": "code",
      "execution_count": null,
      "id": "173c69e6-36bd-4b7b-b65c-4d35942a8ee8",
      "metadata": {
        "id": "173c69e6-36bd-4b7b-b65c-4d35942a8ee8",
        "outputId": "8bf07523-7802-4bcd-893d-b834a35172c0"
      },
      "outputs": [
        {
          "data": {
            "text/plain": [
              "[1, 2, 3, 4, 5, <function __main__.foo(value)>]"
            ]
          },
          "execution_count": 95,
          "metadata": {},
          "output_type": "execute_result"
        }
      ],
      "source": [
        "a = [1,2,3,4,5,foo]\n",
        "a"
      ]
    },
    {
      "cell_type": "code",
      "execution_count": null,
      "id": "557a1d05-a930-4bf1-817b-ee948c285081",
      "metadata": {
        "id": "557a1d05-a930-4bf1-817b-ee948c285081",
        "outputId": "c53dee86-f809-45ed-bf43-6b0dd52140e0"
      },
      "outputs": [
        {
          "data": {
            "text/plain": [
              "list"
            ]
          },
          "execution_count": 97,
          "metadata": {},
          "output_type": "execute_result"
        }
      ],
      "source": [
        "type(a)"
      ]
    },
    {
      "cell_type": "code",
      "execution_count": null,
      "id": "bee90ed4-fb00-474e-9dbb-7b25c7741fae",
      "metadata": {
        "id": "bee90ed4-fb00-474e-9dbb-7b25c7741fae",
        "outputId": "81f57791-688c-484f-88cb-3e96aa963b16"
      },
      "outputs": [
        {
          "name": "stdout",
          "output_type": "stream",
          "text": [
            "40\n"
          ]
        }
      ],
      "source": [
        "a[5](20)"
      ]
    },
    {
      "cell_type": "code",
      "execution_count": null,
      "id": "69d7afc7-66ab-4ce5-9245-8450022f50d7",
      "metadata": {
        "id": "69d7afc7-66ab-4ce5-9245-8450022f50d7",
        "outputId": "ae670373-e01c-4e9c-c081-fb506069f3f7"
      },
      "outputs": [
        {
          "data": {
            "text/plain": [
              "(1, 2, 3, 4, 5)"
            ]
          },
          "execution_count": 103,
          "metadata": {},
          "output_type": "execute_result"
        }
      ],
      "source": [
        "a = (1,2,3,4,5)\n",
        "a"
      ]
    },
    {
      "cell_type": "code",
      "execution_count": null,
      "id": "80d98629-01af-4d35-9c8d-1b9ec28252ab",
      "metadata": {
        "id": "80d98629-01af-4d35-9c8d-1b9ec28252ab",
        "outputId": "f61761d4-b36f-432e-f892-9213f00e2ee8"
      },
      "outputs": [
        {
          "data": {
            "text/plain": [
              "tuple"
            ]
          },
          "execution_count": 105,
          "metadata": {},
          "output_type": "execute_result"
        }
      ],
      "source": [
        "type(a)"
      ]
    },
    {
      "cell_type": "code",
      "execution_count": null,
      "id": "b7485721-7b2c-4fe9-aec1-6dea229a1de9",
      "metadata": {
        "id": "b7485721-7b2c-4fe9-aec1-6dea229a1de9",
        "outputId": "b131e5fc-57fd-4c19-d527-cdc2fbab29f6"
      },
      "outputs": [
        {
          "data": {
            "text/plain": [
              "{1, 2, 3, 4, 5}"
            ]
          },
          "execution_count": 107,
          "metadata": {},
          "output_type": "execute_result"
        }
      ],
      "source": [
        "a = {1,2,3,4,5}\n",
        "a"
      ]
    },
    {
      "cell_type": "code",
      "execution_count": null,
      "id": "eeafa113-9550-4ee4-9716-79804cdf21ab",
      "metadata": {
        "id": "eeafa113-9550-4ee4-9716-79804cdf21ab",
        "outputId": "acfeeabc-f724-480c-82d0-f92f1cbc0b0a"
      },
      "outputs": [
        {
          "data": {
            "text/plain": [
              "set"
            ]
          },
          "execution_count": 109,
          "metadata": {},
          "output_type": "execute_result"
        }
      ],
      "source": [
        "type(a)"
      ]
    },
    {
      "cell_type": "code",
      "execution_count": null,
      "id": "88ec32f3-1d6d-4b0d-9f19-4db7626ccce4",
      "metadata": {
        "id": "88ec32f3-1d6d-4b0d-9f19-4db7626ccce4",
        "outputId": "063fc05b-8079-4f7c-939b-28ea37b05a52"
      },
      "outputs": [
        {
          "data": {
            "text/plain": [
              "{12: 'Ali', 13: 'Usman', 14: 'Jamshad'}"
            ]
          },
          "execution_count": 111,
          "metadata": {},
          "output_type": "execute_result"
        }
      ],
      "source": [
        "a = {12:'Ali',13:'Usman',14:'Jamshad'}\n",
        "a"
      ]
    },
    {
      "cell_type": "code",
      "execution_count": null,
      "id": "53a618c6-5f7c-4854-912e-b03a025e1f22",
      "metadata": {
        "id": "53a618c6-5f7c-4854-912e-b03a025e1f22",
        "outputId": "15d79de5-2ead-43dc-a8b3-29d2d6cbebe4"
      },
      "outputs": [
        {
          "data": {
            "text/plain": [
              "dict"
            ]
          },
          "execution_count": 113,
          "metadata": {},
          "output_type": "execute_result"
        }
      ],
      "source": [
        "type(a)"
      ]
    },
    {
      "cell_type": "code",
      "execution_count": null,
      "id": "b3599a1e-b1ba-46fa-a24b-68354b26966e",
      "metadata": {
        "id": "b3599a1e-b1ba-46fa-a24b-68354b26966e",
        "outputId": "d53c0da3-1183-4781-862c-ecdc278997ee"
      },
      "outputs": [
        {
          "data": {
            "text/plain": [
              "(1,)"
            ]
          },
          "execution_count": 122,
          "metadata": {},
          "output_type": "execute_result"
        }
      ],
      "source": [
        "a = (1,)\n",
        "a"
      ]
    },
    {
      "cell_type": "code",
      "execution_count": null,
      "id": "9772da89-6fe9-4ec2-8a41-b409afd88ee8",
      "metadata": {
        "id": "9772da89-6fe9-4ec2-8a41-b409afd88ee8",
        "outputId": "4dac0ce7-bd6f-4b0e-e33d-8f4de4f7100d"
      },
      "outputs": [
        {
          "data": {
            "text/plain": [
              "tuple"
            ]
          },
          "execution_count": 124,
          "metadata": {},
          "output_type": "execute_result"
        }
      ],
      "source": [
        "type(a)"
      ]
    },
    {
      "cell_type": "markdown",
      "id": "be27c040-01e7-4811-8aec-635e235dafba",
      "metadata": {
        "id": "be27c040-01e7-4811-8aec-635e235dafba"
      },
      "source": [
        "# Operators\n",
        "## Arithmetic Operators"
      ]
    },
    {
      "cell_type": "code",
      "execution_count": null,
      "id": "1a6c0fe4-6302-4d29-93bb-8a84eb4199c0",
      "metadata": {
        "id": "1a6c0fe4-6302-4d29-93bb-8a84eb4199c0",
        "outputId": "99db4070-5642-439a-e6da-3282627b6188"
      },
      "outputs": [
        {
          "data": {
            "text/plain": [
              "85"
            ]
          },
          "execution_count": 139,
          "metadata": {},
          "output_type": "execute_result"
        }
      ],
      "source": [
        "a = 65\n",
        "b = 20\n",
        "a + b"
      ]
    },
    {
      "cell_type": "code",
      "execution_count": null,
      "id": "16b9b107-7b1c-48cb-8859-ff8c6c51b77c",
      "metadata": {
        "id": "16b9b107-7b1c-48cb-8859-ff8c6c51b77c",
        "outputId": "adc07d14-4132-4f95-c71a-6a258931bbd1"
      },
      "outputs": [
        {
          "data": {
            "text/plain": [
              "45"
            ]
          },
          "execution_count": 141,
          "metadata": {},
          "output_type": "execute_result"
        }
      ],
      "source": [
        "a - b"
      ]
    },
    {
      "cell_type": "code",
      "execution_count": null,
      "id": "8066c22d-151b-4ffb-a088-8a103c1f0f4a",
      "metadata": {
        "id": "8066c22d-151b-4ffb-a088-8a103c1f0f4a",
        "outputId": "05a8997c-ea9b-4ec7-9a78-03b97615526e"
      },
      "outputs": [
        {
          "data": {
            "text/plain": [
              "1300"
            ]
          },
          "execution_count": 143,
          "metadata": {},
          "output_type": "execute_result"
        }
      ],
      "source": [
        "a * b"
      ]
    },
    {
      "cell_type": "code",
      "execution_count": null,
      "id": "a16b15b2-c7d3-41ca-8891-a2e289559271",
      "metadata": {
        "id": "a16b15b2-c7d3-41ca-8891-a2e289559271",
        "outputId": "ddc8fa79-6467-4bd4-e17d-bbf2e99b8bd2"
      },
      "outputs": [
        {
          "data": {
            "text/plain": [
              "3.25"
            ]
          },
          "execution_count": 145,
          "metadata": {},
          "output_type": "execute_result"
        }
      ],
      "source": [
        "a / b"
      ]
    },
    {
      "cell_type": "code",
      "execution_count": null,
      "id": "e46344ff-dc47-4a65-b183-38bcca0d5076",
      "metadata": {
        "id": "e46344ff-dc47-4a65-b183-38bcca0d5076",
        "outputId": "2677aa40-87d6-472f-e2f9-5a263ed3804a"
      },
      "outputs": [
        {
          "data": {
            "text/plain": [
              "3"
            ]
          },
          "execution_count": 147,
          "metadata": {},
          "output_type": "execute_result"
        }
      ],
      "source": [
        "a // b"
      ]
    },
    {
      "cell_type": "code",
      "execution_count": null,
      "id": "9c338c06-162e-4ac3-9692-dbb2773463aa",
      "metadata": {
        "id": "9c338c06-162e-4ac3-9692-dbb2773463aa",
        "outputId": "93896c3c-c0b4-4b94-817c-c64aba45fa46"
      },
      "outputs": [
        {
          "data": {
            "text/plain": [
              "1"
            ]
          },
          "execution_count": 149,
          "metadata": {},
          "output_type": "execute_result"
        }
      ],
      "source": [
        "a % 2"
      ]
    },
    {
      "cell_type": "code",
      "execution_count": null,
      "id": "3844cf43-d002-40b7-bea8-6811f5ba0cdd",
      "metadata": {
        "id": "3844cf43-d002-40b7-bea8-6811f5ba0cdd",
        "outputId": "33fe77e1-12de-429c-c883-f75e6274b6ab"
      },
      "outputs": [
        {
          "data": {
            "text/plain": [
              "400"
            ]
          },
          "execution_count": 151,
          "metadata": {},
          "output_type": "execute_result"
        }
      ],
      "source": [
        "b ** 2"
      ]
    },
    {
      "cell_type": "code",
      "execution_count": null,
      "id": "c9d00d26-150e-45ae-b2f6-338fbf3da171",
      "metadata": {
        "id": "c9d00d26-150e-45ae-b2f6-338fbf3da171",
        "outputId": "4fbfaff2-4102-4508-8874-4034be540f28"
      },
      "outputs": [
        {
          "data": {
            "text/plain": [
              "1812454583633499091987705230712890625"
            ]
          },
          "execution_count": 153,
          "metadata": {},
          "output_type": "execute_result"
        }
      ],
      "source": [
        "a ** b"
      ]
    },
    {
      "cell_type": "markdown",
      "id": "16be8613-6db5-435c-a540-f74c7ba72ed4",
      "metadata": {
        "id": "16be8613-6db5-435c-a540-f74c7ba72ed4"
      },
      "source": [
        "## Relational Operators"
      ]
    },
    {
      "cell_type": "code",
      "execution_count": null,
      "id": "a5539366-48ed-4a26-9d0b-757806fa61c9",
      "metadata": {
        "id": "a5539366-48ed-4a26-9d0b-757806fa61c9",
        "outputId": "d04b3652-8865-4136-d8d2-2ec5f8f99489"
      },
      "outputs": [
        {
          "data": {
            "text/plain": [
              "True"
            ]
          },
          "execution_count": 156,
          "metadata": {},
          "output_type": "execute_result"
        }
      ],
      "source": [
        "a > b"
      ]
    },
    {
      "cell_type": "code",
      "execution_count": null,
      "id": "22648256-a655-4206-95d8-b80f531c007a",
      "metadata": {
        "id": "22648256-a655-4206-95d8-b80f531c007a",
        "outputId": "43245716-09e7-4e74-eca6-f0ece0381c46"
      },
      "outputs": [
        {
          "data": {
            "text/plain": [
              "False"
            ]
          },
          "execution_count": 158,
          "metadata": {},
          "output_type": "execute_result"
        }
      ],
      "source": [
        "a < b"
      ]
    },
    {
      "cell_type": "code",
      "execution_count": null,
      "id": "4e690156-6744-4abe-8bcd-324d23de3834",
      "metadata": {
        "id": "4e690156-6744-4abe-8bcd-324d23de3834",
        "outputId": "60bfd633-91e9-4dc7-b130-0b18c1c2b946"
      },
      "outputs": [
        {
          "data": {
            "text/plain": [
              "True"
            ]
          },
          "execution_count": 160,
          "metadata": {},
          "output_type": "execute_result"
        }
      ],
      "source": [
        "a >= b"
      ]
    },
    {
      "cell_type": "code",
      "execution_count": null,
      "id": "c66bb2f0-c26d-4fc3-a689-8ce353524b51",
      "metadata": {
        "id": "c66bb2f0-c26d-4fc3-a689-8ce353524b51",
        "outputId": "d0d56acb-e1d5-4328-c884-62f12aaf9f40"
      },
      "outputs": [
        {
          "data": {
            "text/plain": [
              "False"
            ]
          },
          "execution_count": 162,
          "metadata": {},
          "output_type": "execute_result"
        }
      ],
      "source": [
        "a <= b"
      ]
    },
    {
      "cell_type": "code",
      "execution_count": null,
      "id": "01e90cad-2e2e-4ee1-9a77-4938117ff391",
      "metadata": {
        "id": "01e90cad-2e2e-4ee1-9a77-4938117ff391",
        "outputId": "67d65b64-3635-4d98-8fd6-c1da173d15ae"
      },
      "outputs": [
        {
          "data": {
            "text/plain": [
              "False"
            ]
          },
          "execution_count": 164,
          "metadata": {},
          "output_type": "execute_result"
        }
      ],
      "source": [
        "a == b"
      ]
    },
    {
      "cell_type": "code",
      "execution_count": null,
      "id": "b6ae5e13-ec27-4e14-82d7-f66bb6e56e06",
      "metadata": {
        "id": "b6ae5e13-ec27-4e14-82d7-f66bb6e56e06",
        "outputId": "3bfda226-3910-4cd2-9fa6-e34f8f44f8c3"
      },
      "outputs": [
        {
          "data": {
            "text/plain": [
              "True"
            ]
          },
          "execution_count": 166,
          "metadata": {},
          "output_type": "execute_result"
        }
      ],
      "source": [
        "a != b"
      ]
    },
    {
      "cell_type": "code",
      "execution_count": null,
      "id": "282c0436-fc42-42ac-ae37-dd84d708e2a7",
      "metadata": {
        "id": "282c0436-fc42-42ac-ae37-dd84d708e2a7",
        "outputId": "9e256e13-e0ad-4bc2-8518-2277e5240680"
      },
      "outputs": [
        {
          "data": {
            "text/plain": [
              "False"
            ]
          },
          "execution_count": 170,
          "metadata": {},
          "output_type": "execute_result"
        }
      ],
      "source": [
        "'Ali' > 'Bilal'"
      ]
    },
    {
      "cell_type": "code",
      "execution_count": null,
      "id": "d2984967-b386-4244-b123-2d065218b403",
      "metadata": {
        "id": "d2984967-b386-4244-b123-2d065218b403",
        "outputId": "9ff2b695-a314-470c-f16f-ae25636fa59d"
      },
      "outputs": [
        {
          "data": {
            "text/plain": [
              "True"
            ]
          },
          "execution_count": 172,
          "metadata": {},
          "output_type": "execute_result"
        }
      ],
      "source": [
        "'Ali' < 'Bilal'"
      ]
    },
    {
      "cell_type": "code",
      "execution_count": null,
      "id": "298fc0a0-2522-453b-8ffd-fee9394dd870",
      "metadata": {
        "id": "298fc0a0-2522-453b-8ffd-fee9394dd870",
        "outputId": "766e25e7-30a8-4dc5-eae1-c429c3f61cde"
      },
      "outputs": [
        {
          "data": {
            "text/plain": [
              "False"
            ]
          },
          "execution_count": 182,
          "metadata": {},
          "output_type": "execute_result"
        }
      ],
      "source": [
        "'Ali' == 'ali'"
      ]
    },
    {
      "cell_type": "code",
      "execution_count": null,
      "id": "a0a2474b-141c-4273-a97a-364e99dce784",
      "metadata": {
        "id": "a0a2474b-141c-4273-a97a-364e99dce784"
      },
      "outputs": [],
      "source": []
    }
  ],
  "metadata": {
    "kernelspec": {
      "display_name": "Python 3 (ipykernel)",
      "language": "python",
      "name": "python3"
    },
    "language_info": {
      "codemirror_mode": {
        "name": "ipython",
        "version": 3
      },
      "file_extension": ".py",
      "mimetype": "text/x-python",
      "name": "python",
      "nbconvert_exporter": "python",
      "pygments_lexer": "ipython3",
      "version": "3.12.4"
    },
    "colab": {
      "provenance": [],
      "include_colab_link": true
    }
  },
  "nbformat": 4,
  "nbformat_minor": 5
}