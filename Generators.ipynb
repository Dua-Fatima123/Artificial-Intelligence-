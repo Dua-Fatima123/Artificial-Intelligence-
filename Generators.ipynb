{
  "cells": [
    {
      "cell_type": "markdown",
      "metadata": {
        "id": "view-in-github",
        "colab_type": "text"
      },
      "source": [
        "<a href=\"https://colab.research.google.com/github/Dua-Fatima123/Artificial-Intelligence-/blob/main/Generators.ipynb\" target=\"_parent\"><img src=\"https://colab.research.google.com/assets/colab-badge.svg\" alt=\"Open In Colab\"/></a>"
      ]
    },
    {
      "cell_type": "markdown",
      "id": "1b308931-2d0b-4678-a4a5-946a1b6e1166",
      "metadata": {
        "id": "1b308931-2d0b-4678-a4a5-946a1b6e1166"
      },
      "source": [
        "def foo(x:int)-> None:\n",
        "    \"\"\"\n",
        "    foo is very important function\n",
        "    \"\"\"\n",
        "    if type(x) == int :\n",
        "       print(x)\n",
        "    return 45"
      ]
    },
    {
      "cell_type": "code",
      "execution_count": null,
      "id": "dbcf00ce-0a95-41a8-950b-a3d677a1d1e6",
      "metadata": {
        "id": "dbcf00ce-0a95-41a8-950b-a3d677a1d1e6",
        "outputId": "57119039-216d-4b09-8d17-e775a2535a3d"
      },
      "outputs": [
        {
          "name": "stdout",
          "output_type": "stream",
          "text": [
            "12\n"
          ]
        },
        {
          "data": {
            "text/plain": [
              "45"
            ]
          },
          "execution_count": 16,
          "metadata": {},
          "output_type": "execute_result"
        }
      ],
      "source": [
        "foo(12)"
      ]
    },
    {
      "cell_type": "markdown",
      "id": "f47d804d-7d01-4f28-bf93-9953f4be108c",
      "metadata": {
        "id": "f47d804d-7d01-4f28-bf93-9953f4be108c"
      },
      "source": [
        "a:int\n",
        "int a;"
      ]
    },
    {
      "cell_type": "code",
      "execution_count": null,
      "id": "d43de42e-4c03-4f05-8904-327acddd7669",
      "metadata": {
        "id": "d43de42e-4c03-4f05-8904-327acddd7669",
        "outputId": "6e488620-4cb8-4594-f3ca-7faae4005af5"
      },
      "outputs": [
        {
          "name": "stdout",
          "output_type": "stream",
          "text": [
            "Pakistan\n"
          ]
        }
      ],
      "source": [
        "foo('Pakistan')"
      ]
    },
    {
      "cell_type": "markdown",
      "id": "7c022a48-2edb-4323-86b2-14b698a094f2",
      "metadata": {
        "id": "7c022a48-2edb-4323-86b2-14b698a094f2"
      },
      "source": [
        "# Generator"
      ]
    },
    {
      "cell_type": "code",
      "execution_count": null,
      "id": "18061c46-d55a-4741-93a5-b2af22cf8d56",
      "metadata": {
        "id": "18061c46-d55a-4741-93a5-b2af22cf8d56"
      },
      "outputs": [],
      "source": [
        "def genNo(max):\n",
        "    no = 0\n",
        "    while no < max :\n",
        "        yield no\n",
        "        no += 1"
      ]
    },
    {
      "cell_type": "code",
      "execution_count": null,
      "id": "4d551f27-cf2f-4b79-b850-87736fca2600",
      "metadata": {
        "id": "4d551f27-cf2f-4b79-b850-87736fca2600",
        "outputId": "c46820ed-64a4-4604-8f77-4727cd63bd60"
      },
      "outputs": [
        {
          "data": {
            "text/plain": [
              "0"
            ]
          },
          "execution_count": 35,
          "metadata": {},
          "output_type": "execute_result"
        }
      ],
      "source": [
        "gen = genNo(4)\n",
        "next(gen)"
      ]
    },
    {
      "cell_type": "code",
      "execution_count": null,
      "id": "6504acdf-f66c-467d-bc49-4e2e9f1da9bc",
      "metadata": {
        "id": "6504acdf-f66c-467d-bc49-4e2e9f1da9bc",
        "outputId": "ffc9f2ed-d08b-4633-d1c8-a27c05cbaf0e"
      },
      "outputs": [
        {
          "data": {
            "text/plain": [
              "1"
            ]
          },
          "execution_count": 37,
          "metadata": {},
          "output_type": "execute_result"
        }
      ],
      "source": [
        "next(gen)"
      ]
    },
    {
      "cell_type": "code",
      "execution_count": null,
      "id": "79122032-9dd0-47f3-b232-fad1c930073c",
      "metadata": {
        "id": "79122032-9dd0-47f3-b232-fad1c930073c",
        "outputId": "d5bda19b-ecf1-42fc-94bb-c854c3a68a37"
      },
      "outputs": [
        {
          "data": {
            "text/plain": [
              "2"
            ]
          },
          "execution_count": 39,
          "metadata": {},
          "output_type": "execute_result"
        }
      ],
      "source": [
        "next(gen)"
      ]
    },
    {
      "cell_type": "code",
      "execution_count": null,
      "id": "3f87092f-dbcb-427f-91d5-aeb040e91b8e",
      "metadata": {
        "id": "3f87092f-dbcb-427f-91d5-aeb040e91b8e",
        "outputId": "47f95aac-6728-44d1-b6d5-5fe92be00c6e"
      },
      "outputs": [
        {
          "data": {
            "text/plain": [
              "3"
            ]
          },
          "execution_count": 41,
          "metadata": {},
          "output_type": "execute_result"
        }
      ],
      "source": [
        "next(gen)"
      ]
    },
    {
      "cell_type": "code",
      "execution_count": null,
      "id": "ce2587b3-fd45-4950-9b58-1bb6d07f3180",
      "metadata": {
        "id": "ce2587b3-fd45-4950-9b58-1bb6d07f3180",
        "outputId": "236d80ae-a347-438f-ab92-a3b7ab5d4d6a"
      },
      "outputs": [
        {
          "data": {
            "text/plain": [
              "-1"
            ]
          },
          "execution_count": 45,
          "metadata": {},
          "output_type": "execute_result"
        }
      ],
      "source": [
        "next(gen,-1)"
      ]
    },
    {
      "cell_type": "code",
      "execution_count": null,
      "id": "bed997ec-a1dc-4031-8730-10bf022e1f42",
      "metadata": {
        "id": "bed997ec-a1dc-4031-8730-10bf022e1f42",
        "outputId": "7bf775a7-7197-4b3b-8266-2464570dee61"
      },
      "outputs": [
        {
          "name": "stdout",
          "output_type": "stream",
          "text": [
            "0\n",
            "1\n",
            "2\n",
            "3\n",
            "4\n"
          ]
        }
      ],
      "source": [
        "g = genNo(5)\n",
        "while True:\n",
        "    try:\n",
        "        print(next(g))\n",
        "    except StopIteration:\n",
        "        break"
      ]
    },
    {
      "cell_type": "code",
      "execution_count": null,
      "id": "60eacc0a-8c36-4e6a-89c8-8eb5f65121a9",
      "metadata": {
        "id": "60eacc0a-8c36-4e6a-89c8-8eb5f65121a9"
      },
      "outputs": [],
      "source": [
        "def soo():\n",
        "    yield 10\n",
        "    yield 20\n",
        "    yield 30"
      ]
    },
    {
      "cell_type": "code",
      "execution_count": null,
      "id": "2b16b26f-c0b3-40a6-aa3f-4906d01f675e",
      "metadata": {
        "id": "2b16b26f-c0b3-40a6-aa3f-4906d01f675e"
      },
      "outputs": [],
      "source": [
        "s = soo()"
      ]
    },
    {
      "cell_type": "code",
      "execution_count": null,
      "id": "e866324e-fa07-4baa-9acb-b639780fed71",
      "metadata": {
        "id": "e866324e-fa07-4baa-9acb-b639780fed71",
        "outputId": "3a911b5d-ab94-4cc4-be0e-57df69e267c9"
      },
      "outputs": [
        {
          "data": {
            "text/plain": [
              "10"
            ]
          },
          "execution_count": 53,
          "metadata": {},
          "output_type": "execute_result"
        }
      ],
      "source": [
        "next(s)"
      ]
    },
    {
      "cell_type": "code",
      "execution_count": null,
      "id": "cba433ab-4c4c-48f1-a5bc-fadb831bac20",
      "metadata": {
        "id": "cba433ab-4c4c-48f1-a5bc-fadb831bac20",
        "outputId": "ce4b36a0-3e55-4e70-95cc-2f65e28eae2d"
      },
      "outputs": [
        {
          "data": {
            "text/plain": [
              "20"
            ]
          },
          "execution_count": 55,
          "metadata": {},
          "output_type": "execute_result"
        }
      ],
      "source": [
        "next(s)"
      ]
    },
    {
      "cell_type": "code",
      "execution_count": null,
      "id": "9e5f3f04-da0d-45c1-b5b3-4832f6ebae29",
      "metadata": {
        "id": "9e5f3f04-da0d-45c1-b5b3-4832f6ebae29",
        "outputId": "03102b65-5339-49c8-c1c3-bcb065819b40"
      },
      "outputs": [
        {
          "data": {
            "text/plain": [
              "30"
            ]
          },
          "execution_count": 57,
          "metadata": {},
          "output_type": "execute_result"
        }
      ],
      "source": [
        "next(s)"
      ]
    },
    {
      "cell_type": "code",
      "execution_count": null,
      "id": "33ad424b-2917-4abe-825a-98edbc5ec3c3",
      "metadata": {
        "id": "33ad424b-2917-4abe-825a-98edbc5ec3c3",
        "outputId": "83694c40-3dbb-42b1-f314-03dbe9daeace"
      },
      "outputs": [
        {
          "ename": "StopIteration",
          "evalue": "",
          "output_type": "error",
          "traceback": [
            "\u001b[0;31m---------------------------------------------------------------------------\u001b[0m",
            "\u001b[0;31mStopIteration\u001b[0m                             Traceback (most recent call last)",
            "Cell \u001b[0;32mIn[59], line 1\u001b[0m\n\u001b[0;32m----> 1\u001b[0m \u001b[38;5;28mnext\u001b[39m(s)\n",
            "\u001b[0;31mStopIteration\u001b[0m: "
          ]
        }
      ],
      "source": [
        "next(s)"
      ]
    },
    {
      "cell_type": "code",
      "execution_count": null,
      "id": "b737ab5c-3284-4e6f-88e2-63b8b41743a4",
      "metadata": {
        "id": "b737ab5c-3284-4e6f-88e2-63b8b41743a4"
      },
      "outputs": [],
      "source": [
        "import sys"
      ]
    },
    {
      "cell_type": "code",
      "execution_count": null,
      "id": "a43edc7a-ee8b-4059-9637-889e404aecda",
      "metadata": {
        "id": "a43edc7a-ee8b-4059-9637-889e404aecda"
      },
      "outputs": [],
      "source": [
        "list = [no for no in range(10000)]"
      ]
    },
    {
      "cell_type": "code",
      "execution_count": null,
      "id": "13437b3c-0a4f-4fbf-838b-cc7cf5f6be74",
      "metadata": {
        "id": "13437b3c-0a4f-4fbf-838b-cc7cf5f6be74"
      },
      "outputs": [],
      "source": [
        "gen2 = genNo(10000)"
      ]
    },
    {
      "cell_type": "code",
      "execution_count": null,
      "id": "c78c012e-5f9f-41c6-8677-21a816019155",
      "metadata": {
        "id": "c78c012e-5f9f-41c6-8677-21a816019155",
        "outputId": "d504e345-267e-46ac-dc4b-047b2a1f0478"
      },
      "outputs": [
        {
          "data": {
            "text/plain": [
              "85176"
            ]
          },
          "execution_count": 67,
          "metadata": {},
          "output_type": "execute_result"
        }
      ],
      "source": [
        "sys.getsizeof(list)"
      ]
    },
    {
      "cell_type": "code",
      "execution_count": null,
      "id": "9510b717-4ef3-4145-abac-37dda2a30f09",
      "metadata": {
        "id": "9510b717-4ef3-4145-abac-37dda2a30f09",
        "outputId": "84738580-497b-47ed-8000-ff82be16d54a"
      },
      "outputs": [
        {
          "data": {
            "text/plain": [
              "192"
            ]
          },
          "execution_count": 69,
          "metadata": {},
          "output_type": "execute_result"
        }
      ],
      "source": [
        "sys.getsizeof(gen2)"
      ]
    },
    {
      "cell_type": "code",
      "execution_count": null,
      "id": "66556379-24f8-4369-b7fc-60c5d201e94e",
      "metadata": {
        "id": "66556379-24f8-4369-b7fc-60c5d201e94e",
        "outputId": "15fde7ed-c03a-4a8f-e95f-dc8b29e5950a"
      },
      "outputs": [
        {
          "data": {
            "text/plain": [
              "<generator object soo at 0x7cb0f24ece00>"
            ]
          },
          "execution_count": 71,
          "metadata": {},
          "output_type": "execute_result"
        }
      ],
      "source": [
        "s1 = soo()\n",
        "s1"
      ]
    },
    {
      "cell_type": "markdown",
      "id": "ea506df8-ce02-4b8f-b967-802f6e7d19a3",
      "metadata": {
        "id": "ea506df8-ce02-4b8f-b967-802f6e7d19a3"
      },
      "source": [
        "__iter__\n",
        "__next__"
      ]
    },
    {
      "cell_type": "code",
      "execution_count": null,
      "id": "07202c87-7ab4-4321-a845-fffbee8feb1a",
      "metadata": {
        "id": "07202c87-7ab4-4321-a845-fffbee8feb1a",
        "outputId": "030cdaf6-6e6b-47c8-8167-f57956166f3e"
      },
      "outputs": [
        {
          "name": "stdout",
          "output_type": "stream",
          "text": [
            "10\n",
            "20\n",
            "30\n"
          ]
        }
      ],
      "source": [
        "for n in s1:\n",
        "    print(n)\n",
        ""
      ]
    },
    {
      "cell_type": "code",
      "execution_count": null,
      "id": "8d6d9984-1345-4300-86dd-2efdd96b2073",
      "metadata": {
        "id": "8d6d9984-1345-4300-86dd-2efdd96b2073",
        "outputId": "858e4551-0cd5-457b-8921-d2e9a84fc49b"
      },
      "outputs": [
        {
          "data": {
            "text/plain": [
              "0"
            ]
          },
          "execution_count": 80,
          "metadata": {},
          "output_type": "execute_result"
        }
      ],
      "source": [
        "r = iter(range(5))\n",
        "next(r)"
      ]
    },
    {
      "cell_type": "code",
      "execution_count": null,
      "id": "9537c64e-e14a-4770-a5c0-abef254e5369",
      "metadata": {
        "id": "9537c64e-e14a-4770-a5c0-abef254e5369",
        "outputId": "33ba9790-9a1b-4ffd-f53a-1144aeca8175"
      },
      "outputs": [
        {
          "name": "stdout",
          "output_type": "stream",
          "text": [
            "0\n",
            "1\n",
            "2\n",
            "3\n",
            "4\n"
          ]
        }
      ],
      "source": [
        "for n in range(5):\n",
        "    print(n)"
      ]
    },
    {
      "cell_type": "code",
      "execution_count": null,
      "id": "bd68f754-90b4-46a6-a822-ed75ddb3618a",
      "metadata": {
        "id": "bd68f754-90b4-46a6-a822-ed75ddb3618a",
        "outputId": "4ea60730-af94-4de3-d78c-60777f650523"
      },
      "outputs": [
        {
          "data": {
            "text/plain": [
              "0"
            ]
          },
          "execution_count": 86,
          "metadata": {},
          "output_type": "execute_result"
        }
      ],
      "source": [
        "it = iter(list)\n",
        "next(it)"
      ]
    },
    {
      "cell_type": "code",
      "execution_count": null,
      "id": "058e470e-1962-4a1c-924a-52532deb3039",
      "metadata": {
        "id": "058e470e-1962-4a1c-924a-52532deb3039"
      },
      "outputs": [],
      "source": [
        "import itertools as it"
      ]
    },
    {
      "cell_type": "code",
      "execution_count": null,
      "id": "ae88a6ea-e875-4699-8084-58fc9ec7ca89",
      "metadata": {
        "id": "ae88a6ea-e875-4699-8084-58fc9ec7ca89",
        "outputId": "3c1c5c44-e92e-4ee9-8c7d-b7c4f3aaaac5"
      },
      "outputs": [
        {
          "name": "stdout",
          "output_type": "stream",
          "text": [
            "90\n",
            "91\n",
            "92\n",
            "93\n",
            "94\n",
            "95\n",
            "96\n",
            "97\n",
            "98\n",
            "99\n"
          ]
        }
      ],
      "source": [
        "for n in it.count(90):\n",
        "    if n == 100:\n",
        "        break\n",
        "    else:\n",
        "        print(n)"
      ]
    },
    {
      "cell_type": "code",
      "execution_count": null,
      "id": "a868d31a-170e-48b9-997c-a03223654681",
      "metadata": {
        "id": "a868d31a-170e-48b9-997c-a03223654681",
        "outputId": "18d73e3a-e62e-4036-cf44-1290f81a6d17"
      },
      "outputs": [
        {
          "data": {
            "text/plain": [
              "<itertools.chain at 0x7baa3b904b20>"
            ]
          },
          "execution_count": 11,
          "metadata": {},
          "output_type": "execute_result"
        }
      ],
      "source": [
        "d = it.chain([1,2,3,4,5],[9,8,7,6,5])\n",
        "d"
      ]
    },
    {
      "cell_type": "code",
      "execution_count": null,
      "id": "efd24056-2380-42f3-a354-8393385d2741",
      "metadata": {
        "id": "efd24056-2380-42f3-a354-8393385d2741",
        "outputId": "ad1020e0-ef68-484b-8794-43feb0188fe0"
      },
      "outputs": [
        {
          "name": "stdout",
          "output_type": "stream",
          "text": [
            "1\n",
            "2\n",
            "3\n",
            "4\n",
            "5\n",
            "9\n",
            "8\n",
            "7\n",
            "6\n",
            "5\n"
          ]
        }
      ],
      "source": [
        "for n in d:\n",
        "    print(n)"
      ]
    },
    {
      "cell_type": "code",
      "execution_count": null,
      "id": "7c41c9fc-c86e-49a7-bea5-d5e4cf0b833f",
      "metadata": {
        "id": "7c41c9fc-c86e-49a7-bea5-d5e4cf0b833f",
        "outputId": "be0b5b15-1bb5-4479-8a65-690b268a6fe9"
      },
      "outputs": [
        {
          "data": {
            "text/plain": [
              "<generator object <genexpr> at 0x7baa32107b80>"
            ]
          },
          "execution_count": 15,
          "metadata": {},
          "output_type": "execute_result"
        }
      ],
      "source": [
        "g = (n for n in range(1000))\n",
        "g"
      ]
    },
    {
      "cell_type": "code",
      "execution_count": null,
      "id": "816d89a3-b959-4c16-b999-468d5228f841",
      "metadata": {
        "id": "816d89a3-b959-4c16-b999-468d5228f841",
        "outputId": "7e08f20a-ace9-449c-d7c7-6a7b3c05bad5"
      },
      "outputs": [
        {
          "name": "stdout",
          "output_type": "stream",
          "text": [
            "0\n",
            "1\n",
            "2\n",
            "3\n",
            "4\n",
            "5\n",
            "6\n",
            "7\n",
            "8\n",
            "9\n",
            "10\n",
            "11\n",
            "12\n",
            "13\n",
            "14\n",
            "15\n",
            "16\n",
            "17\n",
            "18\n",
            "19\n",
            "20\n",
            "21\n",
            "22\n",
            "23\n",
            "24\n",
            "25\n",
            "26\n",
            "27\n",
            "28\n",
            "29\n",
            "30\n",
            "31\n",
            "32\n",
            "33\n",
            "34\n",
            "35\n",
            "36\n",
            "37\n",
            "38\n",
            "39\n",
            "40\n",
            "41\n",
            "42\n",
            "43\n",
            "44\n",
            "45\n",
            "46\n",
            "47\n",
            "48\n",
            "49\n",
            "50\n",
            "51\n",
            "52\n",
            "53\n",
            "54\n",
            "55\n",
            "56\n",
            "57\n",
            "58\n",
            "59\n",
            "60\n",
            "61\n",
            "62\n",
            "63\n",
            "64\n",
            "65\n",
            "66\n",
            "67\n",
            "68\n",
            "69\n",
            "70\n",
            "71\n",
            "72\n",
            "73\n",
            "74\n",
            "75\n",
            "76\n",
            "77\n",
            "78\n",
            "79\n",
            "80\n",
            "81\n",
            "82\n",
            "83\n",
            "84\n",
            "85\n",
            "86\n",
            "87\n",
            "88\n",
            "89\n",
            "90\n",
            "91\n",
            "92\n",
            "93\n",
            "94\n",
            "95\n",
            "96\n",
            "97\n",
            "98\n",
            "99\n",
            "100\n",
            "101\n",
            "102\n",
            "103\n",
            "104\n",
            "105\n",
            "106\n",
            "107\n",
            "108\n",
            "109\n",
            "110\n",
            "111\n",
            "112\n",
            "113\n",
            "114\n",
            "115\n",
            "116\n",
            "117\n",
            "118\n",
            "119\n",
            "120\n",
            "121\n",
            "122\n",
            "123\n",
            "124\n",
            "125\n",
            "126\n",
            "127\n",
            "128\n",
            "129\n",
            "130\n",
            "131\n",
            "132\n",
            "133\n",
            "134\n",
            "135\n",
            "136\n",
            "137\n",
            "138\n",
            "139\n",
            "140\n",
            "141\n",
            "142\n",
            "143\n",
            "144\n",
            "145\n",
            "146\n",
            "147\n",
            "148\n",
            "149\n",
            "150\n",
            "151\n",
            "152\n",
            "153\n",
            "154\n",
            "155\n",
            "156\n",
            "157\n",
            "158\n",
            "159\n",
            "160\n",
            "161\n",
            "162\n",
            "163\n",
            "164\n",
            "165\n",
            "166\n",
            "167\n",
            "168\n",
            "169\n",
            "170\n",
            "171\n",
            "172\n",
            "173\n",
            "174\n",
            "175\n",
            "176\n",
            "177\n",
            "178\n",
            "179\n",
            "180\n",
            "181\n",
            "182\n",
            "183\n",
            "184\n",
            "185\n",
            "186\n",
            "187\n",
            "188\n",
            "189\n",
            "190\n",
            "191\n",
            "192\n",
            "193\n",
            "194\n",
            "195\n",
            "196\n",
            "197\n",
            "198\n",
            "199\n",
            "200\n",
            "201\n",
            "202\n",
            "203\n",
            "204\n",
            "205\n",
            "206\n",
            "207\n",
            "208\n",
            "209\n",
            "210\n",
            "211\n",
            "212\n",
            "213\n",
            "214\n",
            "215\n",
            "216\n",
            "217\n",
            "218\n",
            "219\n",
            "220\n",
            "221\n",
            "222\n",
            "223\n",
            "224\n",
            "225\n",
            "226\n",
            "227\n",
            "228\n",
            "229\n",
            "230\n",
            "231\n",
            "232\n",
            "233\n",
            "234\n",
            "235\n",
            "236\n",
            "237\n",
            "238\n",
            "239\n",
            "240\n",
            "241\n",
            "242\n",
            "243\n",
            "244\n",
            "245\n",
            "246\n",
            "247\n",
            "248\n",
            "249\n",
            "250\n",
            "251\n",
            "252\n",
            "253\n",
            "254\n",
            "255\n",
            "256\n",
            "257\n",
            "258\n",
            "259\n",
            "260\n",
            "261\n",
            "262\n",
            "263\n",
            "264\n",
            "265\n",
            "266\n",
            "267\n",
            "268\n",
            "269\n",
            "270\n",
            "271\n",
            "272\n",
            "273\n",
            "274\n",
            "275\n",
            "276\n",
            "277\n",
            "278\n",
            "279\n",
            "280\n",
            "281\n",
            "282\n",
            "283\n",
            "284\n",
            "285\n",
            "286\n",
            "287\n",
            "288\n",
            "289\n",
            "290\n",
            "291\n",
            "292\n",
            "293\n",
            "294\n",
            "295\n",
            "296\n",
            "297\n",
            "298\n",
            "299\n",
            "300\n",
            "301\n",
            "302\n",
            "303\n",
            "304\n",
            "305\n",
            "306\n",
            "307\n",
            "308\n",
            "309\n",
            "310\n",
            "311\n",
            "312\n",
            "313\n",
            "314\n",
            "315\n",
            "316\n",
            "317\n",
            "318\n",
            "319\n",
            "320\n",
            "321\n",
            "322\n",
            "323\n",
            "324\n",
            "325\n",
            "326\n",
            "327\n",
            "328\n",
            "329\n",
            "330\n",
            "331\n",
            "332\n",
            "333\n",
            "334\n",
            "335\n",
            "336\n",
            "337\n",
            "338\n",
            "339\n",
            "340\n",
            "341\n",
            "342\n",
            "343\n",
            "344\n",
            "345\n",
            "346\n",
            "347\n",
            "348\n",
            "349\n",
            "350\n",
            "351\n",
            "352\n",
            "353\n",
            "354\n",
            "355\n",
            "356\n",
            "357\n",
            "358\n",
            "359\n",
            "360\n",
            "361\n",
            "362\n",
            "363\n",
            "364\n",
            "365\n",
            "366\n",
            "367\n",
            "368\n",
            "369\n",
            "370\n",
            "371\n",
            "372\n",
            "373\n",
            "374\n",
            "375\n",
            "376\n",
            "377\n",
            "378\n",
            "379\n",
            "380\n",
            "381\n",
            "382\n",
            "383\n",
            "384\n",
            "385\n",
            "386\n",
            "387\n",
            "388\n",
            "389\n",
            "390\n",
            "391\n",
            "392\n",
            "393\n",
            "394\n",
            "395\n",
            "396\n",
            "397\n",
            "398\n",
            "399\n",
            "400\n",
            "401\n",
            "402\n",
            "403\n",
            "404\n",
            "405\n",
            "406\n",
            "407\n",
            "408\n",
            "409\n",
            "410\n",
            "411\n",
            "412\n",
            "413\n",
            "414\n",
            "415\n",
            "416\n",
            "417\n",
            "418\n",
            "419\n",
            "420\n",
            "421\n",
            "422\n",
            "423\n",
            "424\n",
            "425\n",
            "426\n",
            "427\n",
            "428\n",
            "429\n",
            "430\n",
            "431\n",
            "432\n",
            "433\n",
            "434\n",
            "435\n",
            "436\n",
            "437\n",
            "438\n",
            "439\n",
            "440\n",
            "441\n",
            "442\n",
            "443\n",
            "444\n",
            "445\n",
            "446\n",
            "447\n",
            "448\n",
            "449\n",
            "450\n",
            "451\n",
            "452\n",
            "453\n",
            "454\n",
            "455\n",
            "456\n",
            "457\n",
            "458\n",
            "459\n",
            "460\n",
            "461\n",
            "462\n",
            "463\n",
            "464\n",
            "465\n",
            "466\n",
            "467\n",
            "468\n",
            "469\n",
            "470\n",
            "471\n",
            "472\n",
            "473\n",
            "474\n",
            "475\n",
            "476\n",
            "477\n",
            "478\n",
            "479\n",
            "480\n",
            "481\n",
            "482\n",
            "483\n",
            "484\n",
            "485\n",
            "486\n",
            "487\n",
            "488\n",
            "489\n",
            "490\n",
            "491\n",
            "492\n",
            "493\n",
            "494\n",
            "495\n",
            "496\n",
            "497\n",
            "498\n",
            "499\n",
            "500\n",
            "501\n",
            "502\n",
            "503\n",
            "504\n",
            "505\n",
            "506\n",
            "507\n",
            "508\n",
            "509\n",
            "510\n",
            "511\n",
            "512\n",
            "513\n",
            "514\n",
            "515\n",
            "516\n",
            "517\n",
            "518\n",
            "519\n",
            "520\n",
            "521\n",
            "522\n",
            "523\n",
            "524\n",
            "525\n",
            "526\n",
            "527\n",
            "528\n",
            "529\n",
            "530\n",
            "531\n",
            "532\n",
            "533\n",
            "534\n",
            "535\n",
            "536\n",
            "537\n",
            "538\n",
            "539\n",
            "540\n",
            "541\n",
            "542\n",
            "543\n",
            "544\n",
            "545\n",
            "546\n",
            "547\n",
            "548\n",
            "549\n",
            "550\n",
            "551\n",
            "552\n",
            "553\n",
            "554\n",
            "555\n",
            "556\n",
            "557\n",
            "558\n",
            "559\n",
            "560\n",
            "561\n",
            "562\n",
            "563\n",
            "564\n",
            "565\n",
            "566\n",
            "567\n",
            "568\n",
            "569\n",
            "570\n",
            "571\n",
            "572\n",
            "573\n",
            "574\n",
            "575\n",
            "576\n",
            "577\n",
            "578\n",
            "579\n",
            "580\n",
            "581\n",
            "582\n",
            "583\n",
            "584\n",
            "585\n",
            "586\n",
            "587\n",
            "588\n",
            "589\n",
            "590\n",
            "591\n",
            "592\n",
            "593\n",
            "594\n",
            "595\n",
            "596\n",
            "597\n",
            "598\n",
            "599\n",
            "600\n",
            "601\n",
            "602\n",
            "603\n",
            "604\n",
            "605\n",
            "606\n",
            "607\n",
            "608\n",
            "609\n",
            "610\n",
            "611\n",
            "612\n",
            "613\n",
            "614\n",
            "615\n",
            "616\n",
            "617\n",
            "618\n",
            "619\n",
            "620\n",
            "621\n",
            "622\n",
            "623\n",
            "624\n",
            "625\n",
            "626\n",
            "627\n",
            "628\n",
            "629\n",
            "630\n",
            "631\n",
            "632\n",
            "633\n",
            "634\n",
            "635\n",
            "636\n",
            "637\n",
            "638\n",
            "639\n",
            "640\n",
            "641\n",
            "642\n",
            "643\n",
            "644\n",
            "645\n",
            "646\n",
            "647\n",
            "648\n",
            "649\n",
            "650\n",
            "651\n",
            "652\n",
            "653\n",
            "654\n",
            "655\n",
            "656\n",
            "657\n",
            "658\n",
            "659\n",
            "660\n",
            "661\n",
            "662\n",
            "663\n",
            "664\n",
            "665\n",
            "666\n",
            "667\n",
            "668\n",
            "669\n",
            "670\n",
            "671\n",
            "672\n",
            "673\n",
            "674\n",
            "675\n",
            "676\n",
            "677\n",
            "678\n",
            "679\n",
            "680\n",
            "681\n",
            "682\n",
            "683\n",
            "684\n",
            "685\n",
            "686\n",
            "687\n",
            "688\n",
            "689\n",
            "690\n",
            "691\n",
            "692\n",
            "693\n",
            "694\n",
            "695\n",
            "696\n",
            "697\n",
            "698\n",
            "699\n",
            "700\n",
            "701\n",
            "702\n",
            "703\n",
            "704\n",
            "705\n",
            "706\n",
            "707\n",
            "708\n",
            "709\n",
            "710\n",
            "711\n",
            "712\n",
            "713\n",
            "714\n",
            "715\n",
            "716\n",
            "717\n",
            "718\n",
            "719\n",
            "720\n",
            "721\n",
            "722\n",
            "723\n",
            "724\n",
            "725\n",
            "726\n",
            "727\n",
            "728\n",
            "729\n",
            "730\n",
            "731\n",
            "732\n",
            "733\n",
            "734\n",
            "735\n",
            "736\n",
            "737\n",
            "738\n",
            "739\n",
            "740\n",
            "741\n",
            "742\n",
            "743\n",
            "744\n",
            "745\n",
            "746\n",
            "747\n",
            "748\n",
            "749\n",
            "750\n",
            "751\n",
            "752\n",
            "753\n",
            "754\n",
            "755\n",
            "756\n",
            "757\n",
            "758\n",
            "759\n",
            "760\n",
            "761\n",
            "762\n",
            "763\n",
            "764\n",
            "765\n",
            "766\n",
            "767\n",
            "768\n",
            "769\n",
            "770\n",
            "771\n",
            "772\n",
            "773\n",
            "774\n",
            "775\n",
            "776\n",
            "777\n",
            "778\n",
            "779\n",
            "780\n",
            "781\n",
            "782\n",
            "783\n",
            "784\n",
            "785\n",
            "786\n",
            "787\n",
            "788\n",
            "789\n",
            "790\n",
            "791\n",
            "792\n",
            "793\n",
            "794\n",
            "795\n",
            "796\n",
            "797\n",
            "798\n",
            "799\n",
            "800\n",
            "801\n",
            "802\n",
            "803\n",
            "804\n",
            "805\n",
            "806\n",
            "807\n",
            "808\n",
            "809\n",
            "810\n",
            "811\n",
            "812\n",
            "813\n",
            "814\n",
            "815\n",
            "816\n",
            "817\n",
            "818\n",
            "819\n",
            "820\n",
            "821\n",
            "822\n",
            "823\n",
            "824\n",
            "825\n",
            "826\n",
            "827\n",
            "828\n",
            "829\n",
            "830\n",
            "831\n",
            "832\n",
            "833\n",
            "834\n",
            "835\n",
            "836\n",
            "837\n",
            "838\n",
            "839\n",
            "840\n",
            "841\n",
            "842\n",
            "843\n",
            "844\n",
            "845\n",
            "846\n",
            "847\n",
            "848\n",
            "849\n",
            "850\n",
            "851\n",
            "852\n",
            "853\n",
            "854\n",
            "855\n",
            "856\n",
            "857\n",
            "858\n",
            "859\n",
            "860\n",
            "861\n",
            "862\n",
            "863\n",
            "864\n",
            "865\n",
            "866\n",
            "867\n",
            "868\n",
            "869\n",
            "870\n",
            "871\n",
            "872\n",
            "873\n",
            "874\n",
            "875\n",
            "876\n",
            "877\n",
            "878\n",
            "879\n",
            "880\n",
            "881\n",
            "882\n",
            "883\n",
            "884\n",
            "885\n",
            "886\n",
            "887\n",
            "888\n",
            "889\n",
            "890\n",
            "891\n",
            "892\n",
            "893\n",
            "894\n",
            "895\n",
            "896\n",
            "897\n",
            "898\n",
            "899\n",
            "900\n",
            "901\n",
            "902\n",
            "903\n",
            "904\n",
            "905\n",
            "906\n",
            "907\n",
            "908\n",
            "909\n",
            "910\n",
            "911\n",
            "912\n",
            "913\n",
            "914\n",
            "915\n",
            "916\n",
            "917\n",
            "918\n",
            "919\n",
            "920\n",
            "921\n",
            "922\n",
            "923\n",
            "924\n",
            "925\n",
            "926\n",
            "927\n",
            "928\n",
            "929\n",
            "930\n",
            "931\n",
            "932\n",
            "933\n",
            "934\n",
            "935\n",
            "936\n",
            "937\n",
            "938\n",
            "939\n",
            "940\n",
            "941\n",
            "942\n",
            "943\n",
            "944\n",
            "945\n",
            "946\n",
            "947\n",
            "948\n",
            "949\n",
            "950\n",
            "951\n",
            "952\n",
            "953\n",
            "954\n",
            "955\n",
            "956\n",
            "957\n",
            "958\n",
            "959\n",
            "960\n",
            "961\n",
            "962\n",
            "963\n",
            "964\n",
            "965\n",
            "966\n",
            "967\n",
            "968\n",
            "969\n",
            "970\n",
            "971\n",
            "972\n",
            "973\n",
            "974\n",
            "975\n",
            "976\n",
            "977\n",
            "978\n",
            "979\n",
            "980\n",
            "981\n",
            "982\n",
            "983\n",
            "984\n",
            "985\n",
            "986\n",
            "987\n",
            "988\n",
            "989\n",
            "990\n",
            "991\n",
            "992\n",
            "993\n",
            "994\n",
            "995\n",
            "996\n",
            "997\n",
            "998\n",
            "999\n"
          ]
        }
      ],
      "source": [
        "for n in g:\n",
        "    print(n)"
      ]
    },
    {
      "cell_type": "code",
      "execution_count": null,
      "id": "37133f6f-c4d0-4556-86bc-71c10f3c1e82",
      "metadata": {
        "id": "37133f6f-c4d0-4556-86bc-71c10f3c1e82"
      },
      "outputs": [],
      "source": []
    }
  ],
  "metadata": {
    "kernelspec": {
      "display_name": "Python 3 (ipykernel)",
      "language": "python",
      "name": "python3"
    },
    "language_info": {
      "codemirror_mode": {
        "name": "ipython",
        "version": 3
      },
      "file_extension": ".py",
      "mimetype": "text/x-python",
      "name": "python",
      "nbconvert_exporter": "python",
      "pygments_lexer": "ipython3",
      "version": "3.12.4"
    },
    "colab": {
      "provenance": [],
      "include_colab_link": true
    }
  },
  "nbformat": 4,
  "nbformat_minor": 5
}