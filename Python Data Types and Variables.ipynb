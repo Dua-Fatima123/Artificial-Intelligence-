{
  "cells": [
    {
      "cell_type": "markdown",
      "metadata": {
        "id": "view-in-github",
        "colab_type": "text"
      },
      "source": [
        "<a href=\"https://colab.research.google.com/github/Dua-Fatima123/Artificial-Intelligence-/blob/main/Python%20Data%20Types%20and%20Variables.ipynb\" target=\"_parent\"><img src=\"https://colab.research.google.com/assets/colab-badge.svg\" alt=\"Open In Colab\"/></a>"
      ]
    },
    {
      "cell_type": "code",
      "execution_count": null,
      "id": "9ac17282-c11a-4c50-bbe6-3b390565e406",
      "metadata": {
        "id": "9ac17282-c11a-4c50-bbe6-3b390565e406",
        "outputId": "c2721c65-5856-4468-d337-fe1e6f614a4d"
      },
      "outputs": [
        {
          "name": "stdout",
          "output_type": "stream",
          "text": [
            "12\n"
          ]
        }
      ],
      "source": [
        "print(12)"
      ]
    },
    {
      "cell_type": "code",
      "execution_count": null,
      "id": "d647a7be-eed1-45f7-b2e4-a1c2cb0a718f",
      "metadata": {
        "id": "d647a7be-eed1-45f7-b2e4-a1c2cb0a718f"
      },
      "outputs": [],
      "source": [
        "a = 12"
      ]
    },
    {
      "cell_type": "code",
      "execution_count": null,
      "id": "b272b63d-2005-4bfb-942e-3c7f9e382498",
      "metadata": {
        "id": "b272b63d-2005-4bfb-942e-3c7f9e382498",
        "outputId": "4934ca8e-0d8c-45d9-ad05-80a539ff7d2f"
      },
      "outputs": [
        {
          "data": {
            "text/plain": [
              "12"
            ]
          },
          "execution_count": 6,
          "metadata": {},
          "output_type": "execute_result"
        }
      ],
      "source": [
        "a"
      ]
    },
    {
      "cell_type": "code",
      "execution_count": null,
      "id": "81e07a92-2479-4589-84d1-1c7a63c98761",
      "metadata": {
        "id": "81e07a92-2479-4589-84d1-1c7a63c98761",
        "outputId": "23e238e1-162d-47d1-a16c-0bd64e1cffba"
      },
      "outputs": [
        {
          "name": "stdout",
          "output_type": "stream",
          "text": [
            "1 2 12 True Pak\n"
          ]
        }
      ],
      "source": [
        "print(1,2,12,True,'Pak')"
      ]
    },
    {
      "cell_type": "code",
      "execution_count": null,
      "id": "53992f3b-c4c2-466b-906c-a8e42321cdfa",
      "metadata": {
        "id": "53992f3b-c4c2-466b-906c-a8e42321cdfa",
        "outputId": "a41ee88d-c59c-4f6b-a7ac-6bc5fff77529"
      },
      "outputs": [
        {
          "name": "stdout",
          "output_type": "stream",
          "text": [
            "11:10:12\tPak\n"
          ]
        }
      ],
      "source": [
        "print(11,10,12,sep=':', end='\\t')\n",
        "print('Pak')"
      ]
    },
    {
      "cell_type": "code",
      "execution_count": null,
      "id": "a2793ea8-db54-482c-84af-092fafdc3d63",
      "metadata": {
        "id": "a2793ea8-db54-482c-84af-092fafdc3d63"
      },
      "outputs": [],
      "source": [
        "import numpy as np"
      ]
    },
    {
      "cell_type": "code",
      "execution_count": null,
      "id": "cb8c3ff4-7f7b-4dbd-9743-60876ae45b9d",
      "metadata": {
        "id": "cb8c3ff4-7f7b-4dbd-9743-60876ae45b9d",
        "outputId": "8d929740-df77-4194-d4ef-44128e0cca21"
      },
      "outputs": [
        {
          "data": {
            "text/plain": [
              "'1.26.4'"
            ]
          },
          "execution_count": 24,
          "metadata": {},
          "output_type": "execute_result"
        }
      ],
      "source": [
        "np.__version__"
      ]
    },
    {
      "cell_type": "code",
      "execution_count": null,
      "id": "56305f1c-f49a-4ce9-ac86-2bd7b3dd4146",
      "metadata": {
        "id": "56305f1c-f49a-4ce9-ac86-2bd7b3dd4146"
      },
      "outputs": [],
      "source": [
        "import matplotlib.pyplot as plt"
      ]
    },
    {
      "cell_type": "code",
      "execution_count": null,
      "id": "27b3dfed-24ee-4b9d-9611-3a907250f6ae",
      "metadata": {
        "id": "27b3dfed-24ee-4b9d-9611-3a907250f6ae"
      },
      "outputs": [],
      "source": []
    },
    {
      "cell_type": "code",
      "execution_count": null,
      "id": "18be6746-55db-4431-ac82-0df9f7a81927",
      "metadata": {
        "id": "18be6746-55db-4431-ac82-0df9f7a81927"
      },
      "outputs": [],
      "source": []
    }
  ],
  "metadata": {
    "kernelspec": {
      "display_name": "Python 3 (ipykernel)",
      "language": "python",
      "name": "python3"
    },
    "language_info": {
      "codemirror_mode": {
        "name": "ipython",
        "version": 3
      },
      "file_extension": ".py",
      "mimetype": "text/x-python",
      "name": "python",
      "nbconvert_exporter": "python",
      "pygments_lexer": "ipython3",
      "version": "3.12.4"
    },
    "colab": {
      "provenance": [],
      "include_colab_link": true
    }
  },
  "nbformat": 4,
  "nbformat_minor": 5
}