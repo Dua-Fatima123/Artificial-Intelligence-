{
  "cells": [
    {
      "cell_type": "markdown",
      "metadata": {
        "id": "view-in-github",
        "colab_type": "text"
      },
      "source": [
        "<a href=\"https://colab.research.google.com/github/Dua-Fatima123/Artificial-Intelligence-/blob/main/Comprehension.ipynb\" target=\"_parent\"><img src=\"https://colab.research.google.com/assets/colab-badge.svg\" alt=\"Open In Colab\"/></a>"
      ]
    },
    {
      "cell_type": "markdown",
      "id": "88c50ee6-303d-4938-8792-f18b370f7c9b",
      "metadata": {
        "id": "88c50ee6-303d-4938-8792-f18b370f7c9b"
      },
      "source": [
        "# Comprehension"
      ]
    },
    {
      "cell_type": "code",
      "execution_count": null,
      "id": "0539b9ce-3b98-40b4-88b7-ff17e3cd0a1e",
      "metadata": {
        "id": "0539b9ce-3b98-40b4-88b7-ff17e3cd0a1e",
        "outputId": "c2912481-9d79-400a-aa78-2ad1d249f23c"
      },
      "outputs": [
        {
          "data": {
            "text/plain": [
              "[0, 1, 2, 3, 4, 5, 6, 7, 8, 9]"
            ]
          },
          "execution_count": 8,
          "metadata": {},
          "output_type": "execute_result"
        }
      ],
      "source": [
        "a = [i for i in range(10)]\n",
        "a"
      ]
    },
    {
      "cell_type": "code",
      "execution_count": null,
      "id": "5e85bc69-2a79-4fa3-ad7d-f5607a116164",
      "metadata": {
        "id": "5e85bc69-2a79-4fa3-ad7d-f5607a116164",
        "outputId": "cb595b4c-70dc-450a-9517-614cb54fe7c3"
      },
      "outputs": [
        {
          "data": {
            "text/plain": [
              "[0, 2, 4, 6, 8]"
            ]
          },
          "execution_count": 12,
          "metadata": {},
          "output_type": "execute_result"
        }
      ],
      "source": [
        "a = [i for i in range(10) if(i%2 == 0)]\n",
        "a"
      ]
    },
    {
      "cell_type": "code",
      "execution_count": null,
      "id": "14fa6553-4a2d-4733-89cb-901e12a03292",
      "metadata": {
        "id": "14fa6553-4a2d-4733-89cb-901e12a03292",
        "outputId": "c45d576b-dbde-4601-efa9-40f526348d51"
      },
      "outputs": [
        {
          "data": {
            "text/plain": [
              "[0, 2, 4, 6, 8]"
            ]
          },
          "execution_count": 14,
          "metadata": {},
          "output_type": "execute_result"
        }
      ],
      "source": [
        " a = []\n",
        "for i in range(10):\n",
        "    if i %2 == 0 :\n",
        "        a.append(i)\n",
        "a"
      ]
    },
    {
      "cell_type": "code",
      "execution_count": null,
      "id": "a33e900f-9093-468e-b9cf-eb1542300f8c",
      "metadata": {
        "id": "a33e900f-9093-468e-b9cf-eb1542300f8c"
      },
      "outputs": [],
      "source": [
        "a = [i for i in range(100) if(i%2 == 0) if i%3== 0 ]"
      ]
    },
    {
      "cell_type": "code",
      "execution_count": null,
      "id": "205e2f62-8c21-492a-a9e6-9defbb036905",
      "metadata": {
        "id": "205e2f62-8c21-492a-a9e6-9defbb036905",
        "outputId": "e26d01b3-b225-4ef6-d12d-9f6870372d18"
      },
      "outputs": [
        {
          "data": {
            "text/plain": [
              "[0, 6, 12, 18, 24, 30, 36, 42, 48, 54, 60, 66, 72, 78, 84, 90, 96]"
            ]
          },
          "execution_count": 18,
          "metadata": {},
          "output_type": "execute_result"
        }
      ],
      "source": [
        "a"
      ]
    },
    {
      "cell_type": "code",
      "execution_count": null,
      "id": "b4a41741-f3e5-46ce-a12e-5f74477efd86",
      "metadata": {
        "id": "b4a41741-f3e5-46ce-a12e-5f74477efd86",
        "outputId": "3a55fb34-7e00-425a-922e-7a723bea5c4d"
      },
      "outputs": [
        {
          "data": {
            "text/plain": [
              "['Lower No',\n",
              " 'Lower No',\n",
              " 'Lower No',\n",
              " 'Lower No',\n",
              " 'Lower No',\n",
              " 'Lower No',\n",
              " 'Lower No',\n",
              " 'Lower No',\n",
              " 'Lower No',\n",
              " 'High No',\n",
              " 'High No',\n",
              " 'High No',\n",
              " 'High No',\n",
              " 'High No',\n",
              " 'High No',\n",
              " 'High No',\n",
              " 'High No']"
            ]
          },
          "execution_count": 26,
          "metadata": {},
          "output_type": "execute_result"
        }
      ],
      "source": [
        "a = ['Lower No' if i<= 50 else 'High No'  for i in range(100) if(i % 2 == 0) if(i % 3 == 0)]\n",
        "a"
      ]
    },
    {
      "cell_type": "code",
      "execution_count": null,
      "id": "7fa3b5d4-b343-46fa-b4d6-a5db48222462",
      "metadata": {
        "id": "7fa3b5d4-b343-46fa-b4d6-a5db48222462"
      },
      "outputs": [],
      "source": [
        "a = [f'Even Lower No {i}' if i<= 50 and i%2 ==0 else f'Even Higher No {i}' if i > 50  and i %2==0  else f'Odd Lower No {i}' if i <= 50 and i %2==1 else f'Odd Higher No {i}' for i in range(100) if (i**2)%11 == 0 ]"
      ]
    },
    {
      "cell_type": "code",
      "execution_count": null,
      "id": "7bc7e9cf-9e5a-49b0-9785-36bb8bde5dbe",
      "metadata": {
        "id": "7bc7e9cf-9e5a-49b0-9785-36bb8bde5dbe",
        "outputId": "e8549ce4-4c80-49fe-fb14-f3091c557bb5"
      },
      "outputs": [
        {
          "data": {
            "text/plain": [
              "['Even Lower No 0',\n",
              " 'Odd Lower No 11',\n",
              " 'Even Lower No 22',\n",
              " 'Odd Lower No 33',\n",
              " 'Even Lower No 44',\n",
              " 'Odd Higher No 55',\n",
              " 'Even Higher No 66',\n",
              " 'Odd Higher No 77',\n",
              " 'Even Higher No 88',\n",
              " 'Odd Higher No 99']"
            ]
          },
          "execution_count": 48,
          "metadata": {},
          "output_type": "execute_result"
        }
      ],
      "source": [
        "a"
      ]
    },
    {
      "cell_type": "code",
      "execution_count": null,
      "id": "cf2839ae-77fe-4e80-83f3-834b1fba8e5d",
      "metadata": {
        "id": "cf2839ae-77fe-4e80-83f3-834b1fba8e5d",
        "outputId": "2690a8d1-fdd2-4c14-9534-17261c3b8bc6"
      },
      "outputs": [
        {
          "data": {
            "text/plain": [
              "{0: 0,\n",
              " 1: 1,\n",
              " 2: 4,\n",
              " 3: 9,\n",
              " 4: 16,\n",
              " 5: 25,\n",
              " 6: 36,\n",
              " 7: 49,\n",
              " 8: 64,\n",
              " 9: 81,\n",
              " 10: 100,\n",
              " 11: 121,\n",
              " 12: 144,\n",
              " 13: 169,\n",
              " 14: 196,\n",
              " 15: 225,\n",
              " 16: 256,\n",
              " 17: 289,\n",
              " 18: 324,\n",
              " 19: 361,\n",
              " 20: 400,\n",
              " 21: 441,\n",
              " 22: 484,\n",
              " 23: 529,\n",
              " 24: 576,\n",
              " 25: 625,\n",
              " 26: 676,\n",
              " 27: 729,\n",
              " 28: 784,\n",
              " 29: 841,\n",
              " 30: 900,\n",
              " 31: 961,\n",
              " 32: 1024,\n",
              " 33: 1089,\n",
              " 34: 1156,\n",
              " 35: 1225,\n",
              " 36: 1296,\n",
              " 37: 1369,\n",
              " 38: 1444,\n",
              " 39: 1521,\n",
              " 40: 1600,\n",
              " 41: 1681,\n",
              " 42: 1764,\n",
              " 43: 1849,\n",
              " 44: 1936,\n",
              " 45: 2025,\n",
              " 46: 2116,\n",
              " 47: 2209,\n",
              " 48: 2304,\n",
              " 49: 2401,\n",
              " 50: 2500,\n",
              " 51: 2601,\n",
              " 52: 2704,\n",
              " 53: 2809,\n",
              " 54: 2916,\n",
              " 55: 3025,\n",
              " 56: 3136,\n",
              " 57: 3249,\n",
              " 58: 3364,\n",
              " 59: 3481,\n",
              " 60: 3600,\n",
              " 61: 3721,\n",
              " 62: 3844,\n",
              " 63: 3969,\n",
              " 64: 4096,\n",
              " 65: 4225,\n",
              " 66: 4356,\n",
              " 67: 4489,\n",
              " 68: 4624,\n",
              " 69: 4761,\n",
              " 70: 4900,\n",
              " 71: 5041,\n",
              " 72: 5184,\n",
              " 73: 5329,\n",
              " 74: 5476,\n",
              " 75: 5625,\n",
              " 76: 5776,\n",
              " 77: 5929,\n",
              " 78: 6084,\n",
              " 79: 6241,\n",
              " 80: 6400,\n",
              " 81: 6561,\n",
              " 82: 6724,\n",
              " 83: 6889,\n",
              " 84: 7056,\n",
              " 85: 7225,\n",
              " 86: 7396,\n",
              " 87: 7569,\n",
              " 88: 7744,\n",
              " 89: 7921,\n",
              " 90: 8100,\n",
              " 91: 8281,\n",
              " 92: 8464,\n",
              " 93: 8649,\n",
              " 94: 8836,\n",
              " 95: 9025,\n",
              " 96: 9216,\n",
              " 97: 9409,\n",
              " 98: 9604,\n",
              " 99: 9801}"
            ]
          },
          "execution_count": 50,
          "metadata": {},
          "output_type": "execute_result"
        }
      ],
      "source": [
        "a = {x:x**2 for x in range(100)}\n",
        "a"
      ]
    },
    {
      "cell_type": "code",
      "execution_count": null,
      "id": "ee7c2daa-a369-4393-93d5-877b69d5026e",
      "metadata": {
        "id": "ee7c2daa-a369-4393-93d5-877b69d5026e",
        "outputId": "b555cc3d-0807-47cb-c9df-89b5bf10db43"
      },
      "outputs": [
        {
          "data": {
            "text/plain": [
              "{0: 0,\n",
              " 2: 4,\n",
              " 4: 16,\n",
              " 6: 36,\n",
              " 8: 64,\n",
              " 10: 100,\n",
              " 12: 144,\n",
              " 14: 196,\n",
              " 16: 256,\n",
              " 18: 324,\n",
              " 20: 400,\n",
              " 22: 484,\n",
              " 24: 576,\n",
              " 26: 676,\n",
              " 28: 784,\n",
              " 30: 900,\n",
              " 32: 1024,\n",
              " 34: 1156,\n",
              " 36: 1296,\n",
              " 38: 1444,\n",
              " 40: 1600,\n",
              " 42: 1764,\n",
              " 44: 1936,\n",
              " 46: 2116,\n",
              " 48: 2304,\n",
              " 50: 2500,\n",
              " 52: 2704,\n",
              " 54: 2916,\n",
              " 56: 3136,\n",
              " 58: 3364,\n",
              " 60: 3600,\n",
              " 62: 3844,\n",
              " 64: 4096,\n",
              " 66: 4356,\n",
              " 68: 4624,\n",
              " 70: 4900,\n",
              " 72: 5184,\n",
              " 74: 5476,\n",
              " 76: 5776,\n",
              " 78: 6084,\n",
              " 80: 6400,\n",
              " 82: 6724,\n",
              " 84: 7056,\n",
              " 86: 7396,\n",
              " 88: 7744,\n",
              " 90: 8100,\n",
              " 92: 8464,\n",
              " 94: 8836,\n",
              " 96: 9216,\n",
              " 98: 9604}"
            ]
          },
          "execution_count": 54,
          "metadata": {},
          "output_type": "execute_result"
        }
      ],
      "source": [
        "a = {x:x**2 for x in range(100) if x%2 == 0}\n",
        "a"
      ]
    },
    {
      "cell_type": "code",
      "execution_count": null,
      "id": "20f39a1f-6836-46a9-8f14-5bae15135411",
      "metadata": {
        "id": "20f39a1f-6836-46a9-8f14-5bae15135411",
        "outputId": "dcdf3dd8-880a-4774-b718-c4e7b6c32d13"
      },
      "outputs": [
        {
          "data": {
            "text/plain": [
              "[90, 83, 25, 67, 0, 60, 55, 78, 96, 36, 99, 44, 27, 13, 7]"
            ]
          },
          "execution_count": 56,
          "metadata": {},
          "output_type": "execute_result"
        }
      ],
      "source": [
        "marks = [90,83,25,67,0,60,55,78,96,36,99,44,27,13,7]\n",
        "marks"
      ]
    },
    {
      "cell_type": "code",
      "execution_count": null,
      "id": "8d6f67bd-5af8-4767-ba58-aff2ee0dbce1",
      "metadata": {
        "id": "8d6f67bd-5af8-4767-ba58-aff2ee0dbce1",
        "outputId": "9e85e2f1-0cd6-41c0-db95-1c15b2ec8728"
      },
      "outputs": [
        {
          "data": {
            "text/plain": [
              "{90: 'Grade A',\n",
              " 83: 'Grade B',\n",
              " 25: 'Fail',\n",
              " 67: 'Grade D',\n",
              " 0: 'Fail',\n",
              " 60: 'Grade D',\n",
              " 55: 'Grade E',\n",
              " 78: 'Grade C',\n",
              " 96: 'Grade A',\n",
              " 36: 'Fail',\n",
              " 99: 'Grade A',\n",
              " 44: 'Fail',\n",
              " 27: 'Fail',\n",
              " 13: 'Fail',\n",
              " 7: 'Fail'}"
            ]
          },
          "execution_count": 60,
          "metadata": {},
          "output_type": "execute_result"
        }
      ],
      "source": [
        "result = {item: 'Grade A' if item >= 90 else 'Grade B' if item >= 80 else 'Grade C' if item >= 70 else 'Grade D' if item >= 60 else 'Grade E' if item >= 50 else 'Fail' for item in marks}\n",
        "result\n"
      ]
    },
    {
      "cell_type": "code",
      "execution_count": null,
      "id": "ae79c876-da36-4deb-8a68-522d76815fda",
      "metadata": {
        "id": "ae79c876-da36-4deb-8a68-522d76815fda"
      },
      "outputs": [],
      "source": []
    }
  ],
  "metadata": {
    "kernelspec": {
      "display_name": "Python 3 (ipykernel)",
      "language": "python",
      "name": "python3"
    },
    "language_info": {
      "codemirror_mode": {
        "name": "ipython",
        "version": 3
      },
      "file_extension": ".py",
      "mimetype": "text/x-python",
      "name": "python",
      "nbconvert_exporter": "python",
      "pygments_lexer": "ipython3",
      "version": "3.12.4"
    },
    "colab": {
      "provenance": [],
      "include_colab_link": true
    }
  },
  "nbformat": 4,
  "nbformat_minor": 5
}