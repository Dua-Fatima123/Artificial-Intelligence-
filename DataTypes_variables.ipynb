{
  "cells": [
    {
      "cell_type": "markdown",
      "metadata": {
        "id": "view-in-github",
        "colab_type": "text"
      },
      "source": [
        "<a href=\"https://colab.research.google.com/github/Dua-Fatima123/Artificial-Intelligence-/blob/main/DataTypes_variables.ipynb\" target=\"_parent\"><img src=\"https://colab.research.google.com/assets/colab-badge.svg\" alt=\"Open In Colab\"/></a>"
      ]
    },
    {
      "cell_type": "markdown",
      "id": "ecf1d1cb-db3a-4cd0-a674-e5a22d023b72",
      "metadata": {
        "id": "ecf1d1cb-db3a-4cd0-a674-e5a22d023b72"
      },
      "source": [
        "# Data Types and Variables"
      ]
    },
    {
      "cell_type": "raw",
      "id": "ddf3898e-6616-400f-ac8b-bb3b0daafdc2",
      "metadata": {
        "id": "ddf3898e-6616-400f-ac8b-bb3b0daafdc2"
      },
      "source": [
        "int a = 10;"
      ]
    },
    {
      "cell_type": "markdown",
      "id": "9cd95e3b-c388-4b8f-add1-6e7d00c5593e",
      "metadata": {
        "id": "9cd95e3b-c388-4b8f-add1-6e7d00c5593e"
      },
      "source": [
        "## Numeric Datatype"
      ]
    },
    {
      "cell_type": "code",
      "execution_count": null,
      "id": "4ec1bd73-4887-4703-b203-8ae948a028c0",
      "metadata": {
        "id": "4ec1bd73-4887-4703-b203-8ae948a028c0"
      },
      "outputs": [],
      "source": [
        "import keyword as kw"
      ]
    },
    {
      "cell_type": "code",
      "execution_count": null,
      "id": "6effeb38-e316-4bab-86e2-5d844734b913",
      "metadata": {
        "id": "6effeb38-e316-4bab-86e2-5d844734b913",
        "outputId": "e828868a-5312-4b30-9e85-1b3c4ac580e7"
      },
      "outputs": [
        {
          "name": "stdout",
          "output_type": "stream",
          "text": [
            "['False', 'None', 'True', 'and', 'as', 'assert', 'async', 'await', 'break', 'class', 'continue', 'def', 'del', 'elif', 'else', 'except', 'finally', 'for', 'from', 'global', 'if', 'import', 'in', 'is', 'lambda', 'nonlocal', 'not', 'or', 'pass', 'raise', 'return', 'try', 'while', 'with', 'yield']\n"
          ]
        }
      ],
      "source": [
        "print(kw.kwlist)"
      ]
    },
    {
      "cell_type": "code",
      "execution_count": null,
      "id": "96346235-8233-4185-b256-292007285d2d",
      "metadata": {
        "id": "96346235-8233-4185-b256-292007285d2d"
      },
      "outputs": [],
      "source": [
        "a = 10"
      ]
    },
    {
      "cell_type": "code",
      "execution_count": null,
      "id": "88dfbdfc-5729-43d4-93e6-420d9759f044",
      "metadata": {
        "id": "88dfbdfc-5729-43d4-93e6-420d9759f044"
      },
      "outputs": [],
      "source": [
        "a = \"Pakistan\""
      ]
    },
    {
      "cell_type": "code",
      "execution_count": null,
      "id": "5a50c232-ed80-460e-bb54-6a0d174908dc",
      "metadata": {
        "id": "5a50c232-ed80-460e-bb54-6a0d174908dc",
        "outputId": "341be00a-6fcd-4e78-ba10-001162ff3c2d"
      },
      "outputs": [
        {
          "data": {
            "text/plain": [
              "'Pakistan'"
            ]
          },
          "execution_count": 20,
          "metadata": {},
          "output_type": "execute_result"
        }
      ],
      "source": [
        "a"
      ]
    },
    {
      "cell_type": "code",
      "execution_count": null,
      "id": "77d771f2-cfaf-4de4-a47c-9c70923e8682",
      "metadata": {
        "id": "77d771f2-cfaf-4de4-a47c-9c70923e8682"
      },
      "outputs": [],
      "source": [
        "gross_salary = 56687"
      ]
    },
    {
      "cell_type": "code",
      "execution_count": null,
      "id": "3ac2f25b-c114-4510-9eba-f2089f437c09",
      "metadata": {
        "id": "3ac2f25b-c114-4510-9eba-f2089f437c09"
      },
      "outputs": [],
      "source": [
        "gros_salary = 23"
      ]
    },
    {
      "cell_type": "code",
      "execution_count": null,
      "id": "7fc05e09-1b47-474d-bf0e-e75881ee8cc2",
      "metadata": {
        "id": "7fc05e09-1b47-474d-bf0e-e75881ee8cc2"
      },
      "outputs": [],
      "source": [
        "PI = 3.1417"
      ]
    },
    {
      "cell_type": "code",
      "execution_count": null,
      "id": "63505bf4-1d64-4775-a50b-9a80285ec65e",
      "metadata": {
        "id": "63505bf4-1d64-4775-a50b-9a80285ec65e",
        "outputId": "51736091-deb6-4ddf-fa02-dd6f90dfa00f"
      },
      "outputs": [
        {
          "data": {
            "text/plain": [
              "500000000000000000000000000000"
            ]
          },
          "execution_count": 30,
          "metadata": {},
          "output_type": "execute_result"
        }
      ],
      "source": [
        "a = 500000000000000000000000000000\n",
        "a"
      ]
    },
    {
      "cell_type": "markdown",
      "id": "06565a2b-36c0-4650-9666-4153edc8bab7",
      "metadata": {
        "id": "06565a2b-36c0-4650-9666-4153edc8bab7"
      },
      "source": [
        "### Integer Range"
      ]
    },
    {
      "cell_type": "code",
      "execution_count": null,
      "id": "61fd0e47-0340-4fad-9f70-5f9f946beb23",
      "metadata": {
        "id": "61fd0e47-0340-4fad-9f70-5f9f946beb23",
        "outputId": "c7262aeb-efcd-4a9a-b14f-4d7b9fe63409"
      },
      "outputs": [
        {
          "data": {
            "text/plain": [
              "1e+308"
            ]
          },
          "execution_count": 37,
          "metadata": {},
          "output_type": "execute_result"
        }
      ],
      "source": [
        "a = 1e308\n",
        "a"
      ]
    },
    {
      "cell_type": "markdown",
      "id": "dd2fc64c-b5c5-481d-ba75-ced7a519980f",
      "metadata": {
        "id": "dd2fc64c-b5c5-481d-ba75-ced7a519980f"
      },
      "source": [
        "### Integer Literals"
      ]
    },
    {
      "cell_type": "code",
      "execution_count": null,
      "id": "6c8f8456-115c-47d6-8973-df2fa821dfc7",
      "metadata": {
        "id": "6c8f8456-115c-47d6-8973-df2fa821dfc7",
        "outputId": "4df2c681-bb04-4b81-99f7-7e9cfde341ec"
      },
      "outputs": [
        {
          "data": {
            "text/plain": [
              "0.01"
            ]
          },
          "execution_count": 54,
          "metadata": {},
          "output_type": "execute_result"
        }
      ],
      "source": [
        "a = 65\n",
        "b = 0b01000001\n",
        "c = 0o101\n",
        "d = 0x41\n",
        "e = 1e5\n",
        "f = 1e-2\n",
        "f"
      ]
    },
    {
      "cell_type": "markdown",
      "id": "5157ab57-f7d1-44f5-8f42-ef7cb476a320",
      "metadata": {
        "id": "5157ab57-f7d1-44f5-8f42-ef7cb476a320"
      },
      "source": [
        "### Double / Float"
      ]
    },
    {
      "cell_type": "code",
      "execution_count": null,
      "id": "667423b2-2130-4e76-bc6f-cb4dd9b37473",
      "metadata": {
        "id": "667423b2-2130-4e76-bc6f-cb4dd9b37473",
        "outputId": "31d0c239-c956-498a-eb38-7e8658eac2b7"
      },
      "outputs": [
        {
          "name": "stdout",
          "output_type": "stream",
          "text": [
            "12.312 1.5e+35 0.00015\n"
          ]
        }
      ],
      "source": [
        "a = 12.312\n",
        "b = 1.5e35\n",
        "c = 1.5e-4\n",
        "print(a,b,c)"
      ]
    },
    {
      "cell_type": "code",
      "execution_count": null,
      "id": "e56aa918-8944-4ed5-b442-e065043268e2",
      "metadata": {
        "id": "e56aa918-8944-4ed5-b442-e065043268e2",
        "outputId": "74879f01-8568-4aaf-98ee-38cf40457f72"
      },
      "outputs": [
        {
          "data": {
            "text/plain": [
              "1.7e+308"
            ]
          },
          "execution_count": 127,
          "metadata": {},
          "output_type": "execute_result"
        }
      ],
      "source": [
        "a = 1.7e308\n",
        "a"
      ]
    },
    {
      "cell_type": "markdown",
      "id": "d9549287-defe-4453-9b34-525edb68d85d",
      "metadata": {
        "id": "d9549287-defe-4453-9b34-525edb68d85d"
      },
      "source": [
        "### Complex Numbers"
      ]
    },
    {
      "cell_type": "code",
      "execution_count": null,
      "id": "48bc07eb-75f3-4b07-92e8-73fbe6e9c941",
      "metadata": {
        "id": "48bc07eb-75f3-4b07-92e8-73fbe6e9c941",
        "outputId": "97422482-cacf-4a6d-efa0-2e2017365854"
      },
      "outputs": [
        {
          "data": {
            "text/plain": [
              "(12+5j)"
            ]
          },
          "execution_count": 66,
          "metadata": {},
          "output_type": "execute_result"
        }
      ],
      "source": [
        "a = 12+5j\n",
        "a"
      ]
    },
    {
      "cell_type": "code",
      "execution_count": null,
      "id": "b79d625d-aa6d-41f7-bc44-fa85b94ffa20",
      "metadata": {
        "id": "b79d625d-aa6d-41f7-bc44-fa85b94ffa20",
        "outputId": "05c1df0e-4ef7-4575-cc51-cb88a0638da9"
      },
      "outputs": [
        {
          "name": "stdout",
          "output_type": "stream",
          "text": [
            "5.0\n",
            "12.0\n"
          ]
        }
      ],
      "source": [
        "print(a.imag)\n",
        "print(a.real)"
      ]
    },
    {
      "cell_type": "code",
      "execution_count": null,
      "id": "e9691fe1-e510-4939-9a4b-23eea55cfa06",
      "metadata": {
        "id": "e9691fe1-e510-4939-9a4b-23eea55cfa06",
        "outputId": "625ba5ae-9885-4ca7-9ca5-5560c1a6e5b4"
      },
      "outputs": [
        {
          "data": {
            "text/plain": [
              "5.0"
            ]
          },
          "execution_count": 72,
          "metadata": {},
          "output_type": "execute_result"
        }
      ],
      "source": [
        "a.imag"
      ]
    },
    {
      "cell_type": "markdown",
      "id": "76ddc669-1bfe-4e6b-a4f7-c5f37bb7883f",
      "metadata": {
        "id": "76ddc669-1bfe-4e6b-a4f7-c5f37bb7883f"
      },
      "source": [
        "### String"
      ]
    },
    {
      "cell_type": "code",
      "execution_count": null,
      "id": "a21ba597-b1e4-4059-9e9f-eced18e58624",
      "metadata": {
        "id": "a21ba597-b1e4-4059-9e9f-eced18e58624",
        "outputId": "56a61aea-eb45-48d3-adb9-7fcc5bb59389"
      },
      "outputs": [
        {
          "data": {
            "text/plain": [
              "' Pakistan'"
            ]
          },
          "execution_count": 77,
          "metadata": {},
          "output_type": "execute_result"
        }
      ],
      "source": [
        "a = \" Pakistan\"\n",
        "a"
      ]
    },
    {
      "cell_type": "code",
      "execution_count": null,
      "id": "f02530d1-55a2-411e-83a9-8ec257c6943e",
      "metadata": {
        "id": "f02530d1-55a2-411e-83a9-8ec257c6943e",
        "outputId": "3c62193a-592a-421d-b99a-3301ceed181a"
      },
      "outputs": [
        {
          "data": {
            "text/plain": [
              "'Bahawalpur'"
            ]
          },
          "execution_count": 81,
          "metadata": {},
          "output_type": "execute_result"
        }
      ],
      "source": [
        "a = 'Bahawalpur'\n",
        "a"
      ]
    },
    {
      "cell_type": "code",
      "execution_count": null,
      "id": "13db9595-89a8-47eb-ac3f-28bef2b72258",
      "metadata": {
        "id": "13db9595-89a8-47eb-ac3f-28bef2b72258",
        "outputId": "92c6b35f-2cae-4582-9f81-58b2cdfda116"
      },
      "outputs": [
        {
          "data": {
            "text/plain": [
              "\"What is Lorem Ipsum?\\nLorem Ipsum is simply dummy text of the printing and typesetting industry. Lorem Ipsum has been the industry's standard dummy text ever since the 1500s, when an unknown printer took a galley of type and scrambled it to make a type specimen book. It has survived not only five centuries, but also the leap into electronic typesetting, remaining essentially unchanged. It was popularised in the 1960s with the release of Letraset sheets containing Lorem Ipsum passages, and more recently with desktop publishing software like Aldus PageMaker including versions of Lorem Ipsum \""
            ]
          },
          "execution_count": 83,
          "metadata": {},
          "output_type": "execute_result"
        }
      ],
      "source": [
        "a = '''What is Lorem Ipsum?\n",
        "Lorem Ipsum is simply dummy text of the printing and typesetting industry. Lorem Ipsum has been the industry's standard dummy text ever since the 1500s, when an unknown printer took a galley of type and scrambled it to make a type specimen book. It has survived not only five centuries, but also the leap into electronic typesetting, remaining essentially unchanged. It was popularised in the 1960s with the release of Letraset sheets containing Lorem Ipsum passages, and more recently with desktop publishing software like Aldus PageMaker including versions of Lorem Ipsum '''\n",
        "a"
      ]
    },
    {
      "cell_type": "code",
      "execution_count": null,
      "id": "1c5822a3-dd5d-470c-803e-64799560e319",
      "metadata": {
        "id": "1c5822a3-dd5d-470c-803e-64799560e319",
        "outputId": "15a4b490-078f-478c-b68c-e4825481a487"
      },
      "outputs": [
        {
          "data": {
            "text/plain": [
              "'☺'"
            ]
          },
          "execution_count": 115,
          "metadata": {},
          "output_type": "execute_result"
        }
      ],
      "source": [
        "a = u'\\u263A'\n",
        "a"
      ]
    },
    {
      "cell_type": "code",
      "execution_count": null,
      "id": "39bd45b0-9eb2-48c2-97f1-117cdb1f01bc",
      "metadata": {
        "id": "39bd45b0-9eb2-48c2-97f1-117cdb1f01bc",
        "outputId": "af30278f-cca1-48a3-b600-34e838cb6f24"
      },
      "outputs": [
        {
          "data": {
            "text/plain": [
              "'Pakistan Zindabad'"
            ]
          },
          "execution_count": 103,
          "metadata": {},
          "output_type": "execute_result"
        }
      ],
      "source": [
        "a = r'Pakistan Zindabad'\n",
        "a"
      ]
    },
    {
      "cell_type": "code",
      "execution_count": null,
      "id": "2225c416-5e98-4728-87f4-55bed2c2d75d",
      "metadata": {
        "id": "2225c416-5e98-4728-87f4-55bed2c2d75d",
        "outputId": "481d361a-b5fa-498d-c9ba-920c59d751af"
      },
      "outputs": [
        {
          "data": {
            "text/plain": [
              "'The value of a:23'"
            ]
          },
          "execution_count": 105,
          "metadata": {},
          "output_type": "execute_result"
        }
      ],
      "source": [
        "a = 23\n",
        "b = f'The value of a:{a}'\n",
        "b"
      ]
    },
    {
      "cell_type": "markdown",
      "id": "73f15c39-98b0-408b-b336-fa69f2e114ab",
      "metadata": {
        "id": "73f15c39-98b0-408b-b336-fa69f2e114ab"
      },
      "source": [
        "### Boolean"
      ]
    },
    {
      "cell_type": "code",
      "execution_count": null,
      "id": "da395dbc-c996-4108-ade5-8e687ac4abef",
      "metadata": {
        "id": "da395dbc-c996-4108-ade5-8e687ac4abef",
        "outputId": "af3d1462-9c81-4c0f-ae52-9a035eda9ad0"
      },
      "outputs": [
        {
          "data": {
            "text/plain": [
              "True"
            ]
          },
          "execution_count": 117,
          "metadata": {},
          "output_type": "execute_result"
        }
      ],
      "source": [
        "a = True\n",
        "a"
      ]
    },
    {
      "cell_type": "code",
      "execution_count": null,
      "id": "2fb5223f-a98e-4966-9894-c6e97bec556b",
      "metadata": {
        "id": "2fb5223f-a98e-4966-9894-c6e97bec556b",
        "outputId": "32b68fbd-9063-429b-e9e7-b89e467ec421"
      },
      "outputs": [
        {
          "data": {
            "text/plain": [
              "False"
            ]
          },
          "execution_count": 138,
          "metadata": {},
          "output_type": "execute_result"
        }
      ],
      "source": [
        "a = False\n",
        "a"
      ]
    },
    {
      "cell_type": "code",
      "execution_count": null,
      "id": "ae1810d0-0711-4507-9ca1-15cd6ef96479",
      "metadata": {
        "id": "ae1810d0-0711-4507-9ca1-15cd6ef96479",
        "outputId": "c4190b3b-b3b7-4b67-f3ec-da167d615247"
      },
      "outputs": [
        {
          "data": {
            "text/plain": [
              "bool"
            ]
          },
          "execution_count": 140,
          "metadata": {},
          "output_type": "execute_result"
        }
      ],
      "source": [
        "type(a)"
      ]
    },
    {
      "cell_type": "code",
      "execution_count": null,
      "id": "3de28064-522f-4148-bad7-883756627709",
      "metadata": {
        "id": "3de28064-522f-4148-bad7-883756627709",
        "outputId": "46ffc66e-730d-484a-dbc8-bd167f84d842"
      },
      "outputs": [
        {
          "data": {
            "text/plain": [
              "4"
            ]
          },
          "execution_count": 132,
          "metadata": {},
          "output_type": "execute_result"
        }
      ],
      "source": [
        "a = True * 4\n",
        "a"
      ]
    },
    {
      "cell_type": "code",
      "execution_count": null,
      "id": "f1f73fef-2822-40de-8633-de451f78a3d8",
      "metadata": {
        "id": "f1f73fef-2822-40de-8633-de451f78a3d8",
        "outputId": "c6b06973-3abc-4c5e-db79-7af09f3df484"
      },
      "outputs": [
        {
          "data": {
            "text/plain": [
              "int"
            ]
          },
          "execution_count": 134,
          "metadata": {},
          "output_type": "execute_result"
        }
      ],
      "source": [
        "type(a)"
      ]
    },
    {
      "cell_type": "code",
      "execution_count": null,
      "id": "8a6f809f-642e-4fc0-949b-a1fa89e5f25e",
      "metadata": {
        "id": "8a6f809f-642e-4fc0-949b-a1fa89e5f25e"
      },
      "outputs": [],
      "source": []
    }
  ],
  "metadata": {
    "kernelspec": {
      "display_name": "Python 3 (ipykernel)",
      "language": "python",
      "name": "python3"
    },
    "language_info": {
      "codemirror_mode": {
        "name": "ipython",
        "version": 3
      },
      "file_extension": ".py",
      "mimetype": "text/x-python",
      "name": "python",
      "nbconvert_exporter": "python",
      "pygments_lexer": "ipython3",
      "version": "3.12.4"
    },
    "colab": {
      "provenance": [],
      "include_colab_link": true
    }
  },
  "nbformat": 4,
  "nbformat_minor": 5
}