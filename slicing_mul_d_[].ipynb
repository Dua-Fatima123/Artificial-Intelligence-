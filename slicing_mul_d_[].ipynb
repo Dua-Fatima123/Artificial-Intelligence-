{
  "cells": [
    {
      "cell_type": "markdown",
      "metadata": {
        "id": "view-in-github",
        "colab_type": "text"
      },
      "source": [
        "<a href=\"https://colab.research.google.com/github/Dua-Fatima123/Artificial-Intelligence-/blob/main/slicing_mul_d_%5B%5D.ipynb\" target=\"_parent\"><img src=\"https://colab.research.google.com/assets/colab-badge.svg\" alt=\"Open In Colab\"/></a>"
      ]
    },
    {
      "cell_type": "markdown",
      "id": "a47c76a2-087b-4504-80c9-3f4f05442e95",
      "metadata": {
        "id": "a47c76a2-087b-4504-80c9-3f4f05442e95"
      },
      "source": [
        "# Unpacking of List"
      ]
    },
    {
      "cell_type": "code",
      "execution_count": null,
      "id": "45f15e5d-3c90-49bb-b91b-d38921a5647b",
      "metadata": {
        "id": "45f15e5d-3c90-49bb-b91b-d38921a5647b",
        "outputId": "4bdc4833-12ac-4864-ce87-dcc99d42ed4c"
      },
      "outputs": [
        {
          "data": {
            "text/plain": [
              "[1, 2, 3]"
            ]
          },
          "execution_count": 12,
          "metadata": {},
          "output_type": "execute_result"
        }
      ],
      "source": [
        "a = [1,2,3]\n",
        "a"
      ]
    },
    {
      "cell_type": "code",
      "execution_count": null,
      "id": "78547355-1b48-49c9-bf57-f92f8f52873a",
      "metadata": {
        "id": "78547355-1b48-49c9-bf57-f92f8f52873a",
        "outputId": "a77cd8d0-d848-40a3-9aaf-1b4bc073aa1a"
      },
      "outputs": [
        {
          "name": "stdout",
          "output_type": "stream",
          "text": [
            "1\n",
            "2\n",
            "3\n"
          ]
        }
      ],
      "source": [
        "x,y,z = a\n",
        "print(x)\n",
        "print(y)\n",
        "print(z)"
      ]
    },
    {
      "cell_type": "code",
      "execution_count": null,
      "id": "17a6696f-8172-445d-bc59-1e48d38199ea",
      "metadata": {
        "id": "17a6696f-8172-445d-bc59-1e48d38199ea",
        "outputId": "5e2de481-7d2b-4389-dd72-5e978c9ccbd2"
      },
      "outputs": [
        {
          "data": {
            "text/plain": [
              "[1, 2, 3, 4, 5, 6, 7, 8, 9]"
            ]
          },
          "execution_count": 16,
          "metadata": {},
          "output_type": "execute_result"
        }
      ],
      "source": [
        "a = [1,2,3,4,5,6,7,8,9]\n",
        "a"
      ]
    },
    {
      "cell_type": "code",
      "execution_count": null,
      "id": "9a348036-a345-4682-bb2b-f608a1b63e46",
      "metadata": {
        "id": "9a348036-a345-4682-bb2b-f608a1b63e46",
        "outputId": "9dc43516-733e-4b7e-a3ad-55e75fe4cab7"
      },
      "outputs": [
        {
          "name": "stdout",
          "output_type": "stream",
          "text": [
            "1 2 [3, 4, 5, 6, 7, 8, 9]\n"
          ]
        }
      ],
      "source": [
        "x,y,*z = a\n",
        "print(x,y,z)"
      ]
    },
    {
      "cell_type": "code",
      "execution_count": null,
      "id": "00d02412-6333-48ab-8ad8-cd5d45396e43",
      "metadata": {
        "id": "00d02412-6333-48ab-8ad8-cd5d45396e43",
        "outputId": "94e37ac2-eb82-411b-81c8-e10e91adb2f1"
      },
      "outputs": [
        {
          "name": "stdout",
          "output_type": "stream",
          "text": [
            "1 [2, 3, 4, 5, 6, 7, 8] 9\n"
          ]
        }
      ],
      "source": [
        "x, *y , z =a\n",
        "print(x,y,z)"
      ]
    },
    {
      "cell_type": "code",
      "execution_count": null,
      "id": "8f848578-80e7-45e0-b574-b9d73a2aa01a",
      "metadata": {
        "id": "8f848578-80e7-45e0-b574-b9d73a2aa01a",
        "outputId": "f9b08f89-02f0-4a00-f54e-9c9b7686deb3"
      },
      "outputs": [
        {
          "name": "stdout",
          "output_type": "stream",
          "text": [
            "2 3 [4, 5, 6, 7, 8]\n"
          ]
        }
      ],
      "source": [
        "h,j,*k=y\n",
        "print(h,j,k)"
      ]
    },
    {
      "cell_type": "code",
      "execution_count": null,
      "id": "edaabb51-aba2-41f7-8e44-82f6ecf92797",
      "metadata": {
        "id": "edaabb51-aba2-41f7-8e44-82f6ecf92797",
        "outputId": "757dd240-5a1f-461c-85ab-44d3db646457"
      },
      "outputs": [
        {
          "name": "stdout",
          "output_type": "stream",
          "text": [
            "2 [4, 5, 6, 7, 8]\n"
          ]
        }
      ],
      "source": [
        "h,_,*k = y\n",
        "print(h,k)"
      ]
    },
    {
      "cell_type": "code",
      "execution_count": null,
      "id": "439dfa5c-5945-45ed-97bf-13f54b552070",
      "metadata": {
        "id": "439dfa5c-5945-45ed-97bf-13f54b552070"
      },
      "outputs": [],
      "source": [
        "_,_,*k = y"
      ]
    },
    {
      "cell_type": "code",
      "execution_count": null,
      "id": "8d692e63-bf27-42a6-abe6-890097850c49",
      "metadata": {
        "id": "8d692e63-bf27-42a6-abe6-890097850c49",
        "outputId": "957019e0-6466-4f01-ad6d-3c38fb20e331"
      },
      "outputs": [
        {
          "data": {
            "text/plain": [
              "[4, 5, 6, 7, 8]"
            ]
          },
          "execution_count": 28,
          "metadata": {},
          "output_type": "execute_result"
        }
      ],
      "source": [
        "k"
      ]
    },
    {
      "cell_type": "code",
      "execution_count": null,
      "id": "142d5414-4f52-471e-959d-be5d1801ee6f",
      "metadata": {
        "id": "142d5414-4f52-471e-959d-be5d1801ee6f",
        "outputId": "19ac902d-0e90-4370-f382-e8dc4ea60aba"
      },
      "outputs": [
        {
          "name": "stdout",
          "output_type": "stream",
          "text": [
            "2 8\n"
          ]
        }
      ],
      "source": [
        "h,*_,k = y\n",
        "print(h,k)"
      ]
    },
    {
      "cell_type": "code",
      "execution_count": null,
      "id": "d8184503-b181-419f-a222-49912aaee7c8",
      "metadata": {
        "id": "d8184503-b181-419f-a222-49912aaee7c8",
        "outputId": "16389912-4775-4450-f874-7965e55e9f62"
      },
      "outputs": [
        {
          "data": {
            "text/plain": [
              "[1, 2, 3, 4, 5, 6, 7, 8, 10, 20, 30, 40, 50, 60, 70, 80]"
            ]
          },
          "execution_count": 32,
          "metadata": {},
          "output_type": "execute_result"
        }
      ],
      "source": [
        "a = [1,2,3,4,5,6,7,8]\n",
        "b = [10,20,30,40,50,60,70,80]\n",
        "c = [*a, *b]\n",
        "c"
      ]
    },
    {
      "cell_type": "code",
      "execution_count": null,
      "id": "91ea73d5-900f-4f2a-9319-73d694310265",
      "metadata": {
        "id": "91ea73d5-900f-4f2a-9319-73d694310265",
        "outputId": "3462e545-14f2-426c-e037-995757693163"
      },
      "outputs": [
        {
          "data": {
            "text/plain": [
              "[1, 2, 3, 4, 5, 6, 7, 8, 10, 20, 30, 40, 50, 60, 70, 80]"
            ]
          },
          "execution_count": 34,
          "metadata": {},
          "output_type": "execute_result"
        }
      ],
      "source": [
        "d = a+b\n",
        "d"
      ]
    },
    {
      "cell_type": "code",
      "execution_count": null,
      "id": "f4053b94-31fe-4d9e-8ce2-61cb54cf5c05",
      "metadata": {
        "id": "f4053b94-31fe-4d9e-8ce2-61cb54cf5c05"
      },
      "outputs": [],
      "source": [
        "d = a * 2"
      ]
    },
    {
      "cell_type": "code",
      "execution_count": null,
      "id": "ebe53cee-89bd-46f1-b885-3dd87eaf586a",
      "metadata": {
        "id": "ebe53cee-89bd-46f1-b885-3dd87eaf586a",
        "outputId": "8bc0bbb6-09e4-4a88-c187-bdd23a86b262"
      },
      "outputs": [
        {
          "data": {
            "text/plain": [
              "[1, 2, 3, 4, 5, 6, 7, 8, 1, 2, 3, 4, 5, 6, 7, 8]"
            ]
          },
          "execution_count": 38,
          "metadata": {},
          "output_type": "execute_result"
        }
      ],
      "source": [
        "d"
      ]
    },
    {
      "cell_type": "code",
      "execution_count": null,
      "id": "3f6353f9-2917-46af-8b61-0bff93d4e1d7",
      "metadata": {
        "id": "3f6353f9-2917-46af-8b61-0bff93d4e1d7",
        "outputId": "da09711f-b797-41c9-e8c9-a4dae0e98deb"
      },
      "outputs": [
        {
          "data": {
            "text/plain": [
              "[(1, 10), (2, 20), (3, 30), (4, 40), (5, 50), (6, 60), (7, 70), (8, 80)]"
            ]
          },
          "execution_count": 40,
          "metadata": {},
          "output_type": "execute_result"
        }
      ],
      "source": [
        "d = list( zip(a,b))\n",
        "d"
      ]
    },
    {
      "cell_type": "code",
      "execution_count": null,
      "id": "fc8eeda3-6bd2-4ff5-9411-64f55606abbd",
      "metadata": {
        "id": "fc8eeda3-6bd2-4ff5-9411-64f55606abbd",
        "outputId": "a9aa9411-28ee-4648-b760-f2660bd68183"
      },
      "outputs": [
        {
          "data": {
            "text/plain": [
              "[1, 2, 3, 4, 5, 6, 7, 8, 10, 20, 30, 40, 50, 60, 70, 80]"
            ]
          },
          "execution_count": 42,
          "metadata": {},
          "output_type": "execute_result"
        }
      ],
      "source": [
        "a.extend(b)\n",
        "a"
      ]
    },
    {
      "cell_type": "code",
      "execution_count": null,
      "id": "77a71cb0-37e2-4384-8bd2-48830ae06c54",
      "metadata": {
        "id": "77a71cb0-37e2-4384-8bd2-48830ae06c54",
        "outputId": "e71023e9-15e8-4d4d-b416-2872844472ba"
      },
      "outputs": [
        {
          "data": {
            "text/plain": [
              "[[1, 2, 3], [4, 5, 6], [7, 8, 9]]"
            ]
          },
          "execution_count": 48,
          "metadata": {},
          "output_type": "execute_result"
        }
      ],
      "source": [
        "a = [[1,2,3],[4,5,6],[7,8,9]]\n",
        "a"
      ]
    },
    {
      "cell_type": "code",
      "execution_count": null,
      "id": "95c8427c-afbe-48b3-a536-4cfea20c4364",
      "metadata": {
        "id": "95c8427c-afbe-48b3-a536-4cfea20c4364"
      },
      "outputs": [],
      "source": [
        "b = [ [[1,2,3],[4,5,6],[7,8,9]], [[1,2,3],[4,5,6],[7,8,9]]]"
      ]
    },
    {
      "cell_type": "code",
      "execution_count": null,
      "id": "b872055e-bc60-4b4a-b4a2-2061fdd24c0d",
      "metadata": {
        "id": "b872055e-bc60-4b4a-b4a2-2061fdd24c0d"
      },
      "outputs": [],
      "source": [
        "c = [[ [[1,2,3],[4,5,6],[7,8,9]], [[1,2,3],[4,5,6],[7,8,9]]],[ [[1,2,3],[4,5,6],[7,8,9]], [[1,2,3],[4,5,6],[7,8,9]]]]"
      ]
    },
    {
      "cell_type": "code",
      "execution_count": null,
      "id": "755d4f5a-456d-4313-bf12-4eb6f0d149d1",
      "metadata": {
        "id": "755d4f5a-456d-4313-bf12-4eb6f0d149d1",
        "outputId": "5c4a1901-9637-430e-e0bf-2b4e285f1d38"
      },
      "outputs": [
        {
          "data": {
            "text/plain": [
              "[[1, 2, 3], [4, 5, 6], [7, 8, 9]]"
            ]
          },
          "execution_count": 60,
          "metadata": {},
          "output_type": "execute_result"
        }
      ],
      "source": [
        "a"
      ]
    },
    {
      "cell_type": "code",
      "execution_count": null,
      "id": "c610e92c-d6bf-43d5-a09a-68921bcb3f5f",
      "metadata": {
        "id": "c610e92c-d6bf-43d5-a09a-68921bcb3f5f",
        "outputId": "c2f2bb11-73c5-4842-ef38-53988e788f3e"
      },
      "outputs": [
        {
          "data": {
            "text/plain": [
              "[[[1, 2, 3], [4, 5, 6], [7, 8, 9]], [[1, 2, 3], [4, 5, 6], [7, 8, 9]]]"
            ]
          },
          "execution_count": 62,
          "metadata": {},
          "output_type": "execute_result"
        }
      ],
      "source": [
        "b"
      ]
    },
    {
      "cell_type": "code",
      "execution_count": null,
      "id": "4b044f84-91a2-48c3-9f58-213f5b0e11a2",
      "metadata": {
        "id": "4b044f84-91a2-48c3-9f58-213f5b0e11a2",
        "outputId": "7cadcfef-9a0e-4daa-8833-05eb8d9f6678"
      },
      "outputs": [
        {
          "data": {
            "text/plain": [
              "[[[[1, 2, 3], [4, 5, 6], [7, 8, 9]], [[1, 2, 3], [4, 5, 6], [7, 8, 9]]],\n",
              " [[[1, 2, 3], [4, 5, 6], [7, 8, 9]], [[1, 2, 3], [4, 5, 6], [7, 8, 9]]]]"
            ]
          },
          "execution_count": 64,
          "metadata": {},
          "output_type": "execute_result"
        }
      ],
      "source": [
        "c"
      ]
    },
    {
      "cell_type": "code",
      "execution_count": null,
      "id": "5dd7abcc-0c96-4f9b-8512-6c88d7cf3d70",
      "metadata": {
        "id": "5dd7abcc-0c96-4f9b-8512-6c88d7cf3d70",
        "outputId": "603b356f-c96a-47b8-a60e-c6d0370e6ba8"
      },
      "outputs": [
        {
          "data": {
            "text/plain": [
              "1"
            ]
          },
          "execution_count": 66,
          "metadata": {},
          "output_type": "execute_result"
        }
      ],
      "source": [
        "a[0][0]"
      ]
    },
    {
      "cell_type": "code",
      "execution_count": null,
      "id": "67b1499e-f3a6-4a60-a440-15152e6b8ca8",
      "metadata": {
        "id": "67b1499e-f3a6-4a60-a440-15152e6b8ca8",
        "outputId": "f933631c-0a61-4d59-8405-deb2538eddd0"
      },
      "outputs": [
        {
          "data": {
            "text/plain": [
              "8"
            ]
          },
          "execution_count": 68,
          "metadata": {},
          "output_type": "execute_result"
        }
      ],
      "source": [
        "a[2][1]"
      ]
    },
    {
      "cell_type": "code",
      "execution_count": null,
      "id": "ec52328f-97fd-422a-98db-c7a7f8291f19",
      "metadata": {
        "id": "ec52328f-97fd-422a-98db-c7a7f8291f19",
        "outputId": "fe5f405f-d6a3-4ef5-d45d-1f1973722d50"
      },
      "outputs": [
        {
          "data": {
            "text/plain": [
              "1"
            ]
          },
          "execution_count": 86,
          "metadata": {},
          "output_type": "execute_result"
        }
      ],
      "source": [
        "a[:2][0][0]"
      ]
    },
    {
      "cell_type": "code",
      "execution_count": null,
      "id": "0aae0f86-359a-401f-9107-4cc84cb6ea9e",
      "metadata": {
        "id": "0aae0f86-359a-401f-9107-4cc84cb6ea9e",
        "outputId": "c1fe5303-74dc-47d4-a4ab-8b4a72d9162e"
      },
      "outputs": [
        {
          "data": {
            "text/plain": [
              "[1, 2]"
            ]
          },
          "execution_count": 74,
          "metadata": {},
          "output_type": "execute_result"
        }
      ],
      "source": [
        "a[0][:2]"
      ]
    },
    {
      "cell_type": "code",
      "execution_count": null,
      "id": "050a07bc-0719-4cbd-8ecd-811e376a581a",
      "metadata": {
        "id": "050a07bc-0719-4cbd-8ecd-811e376a581a",
        "outputId": "33e00bbd-a7c6-4617-a108-ab4987c1dc07"
      },
      "outputs": [
        {
          "data": {
            "text/plain": [
              "[[1, 2, 3], [4, 5, 6]]"
            ]
          },
          "execution_count": 78,
          "metadata": {},
          "output_type": "execute_result"
        }
      ],
      "source": [
        "a[:2][:2]"
      ]
    },
    {
      "cell_type": "code",
      "execution_count": null,
      "id": "3f179f73-4de0-496e-8bc5-1819fa9617d4",
      "metadata": {
        "id": "3f179f73-4de0-496e-8bc5-1819fa9617d4"
      },
      "outputs": [],
      "source": []
    }
  ],
  "metadata": {
    "kernelspec": {
      "display_name": "Python 3 (ipykernel)",
      "language": "python",
      "name": "python3"
    },
    "language_info": {
      "codemirror_mode": {
        "name": "ipython",
        "version": 3
      },
      "file_extension": ".py",
      "mimetype": "text/x-python",
      "name": "python",
      "nbconvert_exporter": "python",
      "pygments_lexer": "ipython3",
      "version": "3.12.4"
    },
    "colab": {
      "provenance": [],
      "include_colab_link": true
    }
  },
  "nbformat": 4,
  "nbformat_minor": 5
}