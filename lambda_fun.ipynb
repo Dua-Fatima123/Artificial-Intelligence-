{
  "cells": [
    {
      "cell_type": "markdown",
      "metadata": {
        "id": "view-in-github",
        "colab_type": "text"
      },
      "source": [
        "<a href=\"https://colab.research.google.com/github/Dua-Fatima123/Artificial-Intelligence-/blob/main/lambda_fun.ipynb\" target=\"_parent\"><img src=\"https://colab.research.google.com/assets/colab-badge.svg\" alt=\"Open In Colab\"/></a>"
      ]
    },
    {
      "cell_type": "code",
      "execution_count": null,
      "id": "37b33038-966e-48f4-98d3-b41665dd787a",
      "metadata": {
        "id": "37b33038-966e-48f4-98d3-b41665dd787a"
      },
      "outputs": [],
      "source": [
        "def sum(a,b):\n",
        "    return a+b"
      ]
    },
    {
      "cell_type": "code",
      "execution_count": null,
      "id": "ddeb0cdf-b785-4856-96f9-b51e2ac0da45",
      "metadata": {
        "id": "ddeb0cdf-b785-4856-96f9-b51e2ac0da45",
        "outputId": "25327f39-9351-4cab-c19e-367ed1cb4ac8"
      },
      "outputs": [
        {
          "data": {
            "text/plain": [
              "30"
            ]
          },
          "execution_count": 4,
          "metadata": {},
          "output_type": "execute_result"
        }
      ],
      "source": [
        "sum(10,20)"
      ]
    },
    {
      "cell_type": "code",
      "execution_count": null,
      "id": "c9e58d7a-f296-42c4-8507-513b85b262a7",
      "metadata": {
        "id": "c9e58d7a-f296-42c4-8507-513b85b262a7",
        "outputId": "ce91e7e6-5630-4e07-9dad-5f7ff60fb3ed"
      },
      "outputs": [
        {
          "data": {
            "text/plain": [
              "150"
            ]
          },
          "execution_count": 5,
          "metadata": {},
          "output_type": "execute_result"
        }
      ],
      "source": [
        "sum(10,sum(20,sum(30,sum(40,50))))"
      ]
    },
    {
      "cell_type": "markdown",
      "id": "d7adec25-f27f-4b25-8070-0a9452c3dea9",
      "metadata": {
        "id": "d7adec25-f27f-4b25-8070-0a9452c3dea9"
      },
      "source": [
        "# *args"
      ]
    },
    {
      "cell_type": "code",
      "execution_count": null,
      "id": "667fdfa8-1cc9-4607-a52c-f3c55abf1cef",
      "metadata": {
        "id": "667fdfa8-1cc9-4607-a52c-f3c55abf1cef"
      },
      "outputs": [],
      "source": [
        "def addition(*numbers):\n",
        "    print( type(numbers))\n",
        "    s = 0\n",
        "    for number in numbers:\n",
        "        s += number\n",
        "    return s"
      ]
    },
    {
      "cell_type": "code",
      "execution_count": null,
      "id": "12ef9338-5cd5-49fe-8ffa-67b5a2425154",
      "metadata": {
        "id": "12ef9338-5cd5-49fe-8ffa-67b5a2425154",
        "outputId": "ec65132a-6c1e-43c7-939e-d9c27de339b4"
      },
      "outputs": [
        {
          "name": "stdout",
          "output_type": "stream",
          "text": [
            "<class 'tuple'>\n"
          ]
        },
        {
          "data": {
            "text/plain": [
              "46"
            ]
          },
          "execution_count": 28,
          "metadata": {},
          "output_type": "execute_result"
        }
      ],
      "source": [
        "addition(1,2,3,4,5,6,7,8,10)"
      ]
    },
    {
      "cell_type": "code",
      "execution_count": null,
      "id": "5572eebb-7291-43b2-9387-73348f39aff7",
      "metadata": {
        "id": "5572eebb-7291-43b2-9387-73348f39aff7",
        "outputId": "f8e1e073-ad16-4df7-d125-2d65b3683e32"
      },
      "outputs": [
        {
          "name": "stdout",
          "output_type": "stream",
          "text": [
            "<class 'tuple'>\n"
          ]
        },
        {
          "data": {
            "text/plain": [
              "150"
            ]
          },
          "execution_count": 29,
          "metadata": {},
          "output_type": "execute_result"
        }
      ],
      "source": [
        "addition(10,20,30,40,50)"
      ]
    },
    {
      "cell_type": "markdown",
      "id": "de238ff0-7be1-46b0-ae62-968b4a3b10dc",
      "metadata": {
        "id": "de238ff0-7be1-46b0-ae62-968b4a3b10dc"
      },
      "source": [
        "# **kwargs"
      ]
    },
    {
      "cell_type": "code",
      "execution_count": null,
      "id": "9570089c-a94e-4797-ac2d-a121ea5505d1",
      "metadata": {
        "id": "9570089c-a94e-4797-ac2d-a121ea5505d1"
      },
      "outputs": [],
      "source": [
        "def foo(**inputs):\n",
        "    print(type(inputs))\n",
        "    for key,value in inputs.items():\n",
        "        print(f'Key :{key} Value : {value}')\n",
        ""
      ]
    },
    {
      "cell_type": "code",
      "execution_count": null,
      "id": "406d02d8-b3f3-4183-b6ca-22e0f70f67c2",
      "metadata": {
        "id": "406d02d8-b3f3-4183-b6ca-22e0f70f67c2",
        "outputId": "06f67d0d-4542-46e6-a7f0-8439748179d5"
      },
      "outputs": [
        {
          "name": "stdout",
          "output_type": "stream",
          "text": [
            "<class 'dict'>\n",
            "Key :a Value : 10\n",
            "Key :hamiz Value : 50\n"
          ]
        }
      ],
      "source": [
        "foo(a =10, hamiz = 50)"
      ]
    },
    {
      "cell_type": "code",
      "execution_count": null,
      "id": "04ad3ed5-aa17-4a45-ad4f-06180cb1691b",
      "metadata": {
        "id": "04ad3ed5-aa17-4a45-ad4f-06180cb1691b"
      },
      "outputs": [],
      "source": [
        "def demo(*args,**kwargs):\n",
        "    print(args,kwargs.items(),kwargs)"
      ]
    },
    {
      "cell_type": "code",
      "execution_count": null,
      "id": "e6605b5c-aa6f-4efc-bfa0-294b6fe03137",
      "metadata": {
        "id": "e6605b5c-aa6f-4efc-bfa0-294b6fe03137",
        "outputId": "8454b6c0-fd1f-45f9-983b-450f61e7ff3e"
      },
      "outputs": [
        {
          "name": "stdout",
          "output_type": "stream",
          "text": [
            "() dict_items([]) {}\n"
          ]
        }
      ],
      "source": [
        "demo()"
      ]
    },
    {
      "cell_type": "code",
      "execution_count": null,
      "id": "b1a87361-0707-4ad2-b44d-92eeadb7d4c6",
      "metadata": {
        "id": "b1a87361-0707-4ad2-b44d-92eeadb7d4c6",
        "outputId": "74091e2b-8398-4b65-c5df-011986094f25"
      },
      "outputs": [
        {
          "name": "stdout",
          "output_type": "stream",
          "text": [
            "(1, 2, 3, 'Pak', 'UAE') dict_items([('a', 30), ('b', 67)]) {'a': 30, 'b': 67}\n"
          ]
        }
      ],
      "source": [
        "demo(1,2,3,'Pak','UAE', a = 30 , b = 67)"
      ]
    },
    {
      "cell_type": "code",
      "execution_count": null,
      "id": "2e837d1d-3e17-473a-9354-d5843f133c56",
      "metadata": {
        "id": "2e837d1d-3e17-473a-9354-d5843f133c56",
        "outputId": "f1468007-4fa9-4551-92aa-704ba6ed89a4"
      },
      "outputs": [
        {
          "ename": "SyntaxError",
          "evalue": "arguments cannot follow var-keyword argument (3595016005.py, line 1)",
          "output_type": "error",
          "traceback": [
            "\u001b[0;36m  Cell \u001b[0;32mIn[32], line 1\u001b[0;36m\u001b[0m\n\u001b[0;31m    def demo1(**kwargs, *args):\u001b[0m\n\u001b[0m                        ^\u001b[0m\n\u001b[0;31mSyntaxError\u001b[0m\u001b[0;31m:\u001b[0m arguments cannot follow var-keyword argument\n"
          ]
        }
      ],
      "source": [
        "def demo1(**kwargs, *args):\n",
        "    print(args,kwargs.items(),kwargs)"
      ]
    },
    {
      "cell_type": "code",
      "execution_count": null,
      "id": "a77ff7da-1259-40d6-bd5f-fa4dc24e2b4c",
      "metadata": {
        "id": "a77ff7da-1259-40d6-bd5f-fa4dc24e2b4c",
        "outputId": "e62d24d4-a506-4cbd-b659-a9703dc9f252"
      },
      "outputs": [
        {
          "name": "stdout",
          "output_type": "stream",
          "text": [
            "30\n"
          ]
        }
      ],
      "source": [
        "x = 20\n",
        "def scope():\n",
        "    global x\n",
        "    x = 30\n",
        "scope()\n",
        "print(x)"
      ]
    },
    {
      "cell_type": "code",
      "execution_count": null,
      "id": "79ca051d-93e9-4526-b6b8-4f733586cebc",
      "metadata": {
        "id": "79ca051d-93e9-4526-b6b8-4f733586cebc"
      },
      "outputs": [],
      "source": [
        "def nestedFunction():\n",
        "    x = 99\n",
        "    print('Nested Function')\n",
        "    def localFunction():\n",
        "        global x\n",
        "        print(f'Local Function : {x}')\n",
        "    localFunction()"
      ]
    },
    {
      "cell_type": "code",
      "execution_count": null,
      "id": "3e6dbd41-f42d-412d-a404-52f1c0925ffa",
      "metadata": {
        "id": "3e6dbd41-f42d-412d-a404-52f1c0925ffa",
        "outputId": "a55e4cf0-b851-4a1c-9ae9-7463579ff1ec"
      },
      "outputs": [
        {
          "name": "stdout",
          "output_type": "stream",
          "text": [
            "Nested Function\n",
            "Local Function : 30\n"
          ]
        }
      ],
      "source": [
        "nestedFunction()"
      ]
    },
    {
      "cell_type": "markdown",
      "id": "721cec51-efce-4fbc-8376-1ffe0e5163a8",
      "metadata": {
        "id": "721cec51-efce-4fbc-8376-1ffe0e5163a8"
      },
      "source": [
        "# Higher Order Functions"
      ]
    },
    {
      "cell_type": "code",
      "execution_count": null,
      "id": "4202cc8e-4d0d-4223-b7ca-10cf33dbc23b",
      "metadata": {
        "id": "4202cc8e-4d0d-4223-b7ca-10cf33dbc23b"
      },
      "outputs": [],
      "source": [
        "def dynamicFunction(func):\n",
        "    func()\n",
        ""
      ]
    },
    {
      "cell_type": "code",
      "execution_count": null,
      "id": "fc35e5ba-658e-451e-9ef5-cefcd35414a8",
      "metadata": {
        "id": "fc35e5ba-658e-451e-9ef5-cefcd35414a8",
        "outputId": "32e1064c-7745-48e4-9bba-2580f6f35b22"
      },
      "outputs": [
        {
          "name": "stdout",
          "output_type": "stream",
          "text": [
            "Nested Function\n",
            "Local Function : 30\n"
          ]
        }
      ],
      "source": [
        "dynamicFunction(nestedFunction)"
      ]
    },
    {
      "cell_type": "code",
      "execution_count": null,
      "id": "86fcac22-c021-4047-a7a6-62122f151ea2",
      "metadata": {
        "id": "86fcac22-c021-4047-a7a6-62122f151ea2",
        "outputId": "a5668b81-5f8a-41eb-8f8f-457e0a73f6fb"
      },
      "outputs": [
        {
          "ename": "TypeError",
          "evalue": "sum() missing 2 required positional arguments: 'a' and 'b'",
          "output_type": "error",
          "traceback": [
            "\u001b[0;31m---------------------------------------------------------------------------\u001b[0m",
            "\u001b[0;31mTypeError\u001b[0m                                 Traceback (most recent call last)",
            "Cell \u001b[0;32mIn[46], line 1\u001b[0m\n\u001b[0;32m----> 1\u001b[0m dynamicFunction(\u001b[38;5;28msum\u001b[39m)\n",
            "Cell \u001b[0;32mIn[44], line 2\u001b[0m, in \u001b[0;36mdynamicFunction\u001b[0;34m(func)\u001b[0m\n\u001b[1;32m      1\u001b[0m \u001b[38;5;28;01mdef\u001b[39;00m \u001b[38;5;21mdynamicFunction\u001b[39m(func):\n\u001b[0;32m----> 2\u001b[0m     func()\n",
            "\u001b[0;31mTypeError\u001b[0m: sum() missing 2 required positional arguments: 'a' and 'b'"
          ]
        }
      ],
      "source": [
        "dynamicFunction(sum)"
      ]
    },
    {
      "cell_type": "code",
      "execution_count": null,
      "id": "66557943-48b1-429d-8e9b-39b240b907e8",
      "metadata": {
        "id": "66557943-48b1-429d-8e9b-39b240b907e8"
      },
      "outputs": [],
      "source": [
        "def higherFunc(a):\n",
        "    def inner():\n",
        "        print(f'Inner {a}')\n",
        "    return inner"
      ]
    },
    {
      "cell_type": "code",
      "execution_count": null,
      "id": "d66f86af-ff25-4218-9fdd-15562050804d",
      "metadata": {
        "id": "d66f86af-ff25-4218-9fdd-15562050804d",
        "outputId": "8f318ffc-93b5-44da-f679-5f3a34ddd0ea"
      },
      "outputs": [
        {
          "data": {
            "text/plain": [
              "function"
            ]
          },
          "execution_count": 48,
          "metadata": {},
          "output_type": "execute_result"
        }
      ],
      "source": [
        "b = higherFunc(50)\n",
        "type(b)\n"
      ]
    },
    {
      "cell_type": "code",
      "execution_count": null,
      "id": "68f6bca5-af5c-42fc-bbf4-ab37ab22a32d",
      "metadata": {
        "id": "68f6bca5-af5c-42fc-bbf4-ab37ab22a32d",
        "outputId": "c0ee6931-3434-44b5-dcb9-bcc560fc92d4"
      },
      "outputs": [
        {
          "name": "stdout",
          "output_type": "stream",
          "text": [
            "Inner 50\n"
          ]
        }
      ],
      "source": [
        "b()"
      ]
    },
    {
      "cell_type": "markdown",
      "id": "e6fd6aaa-09c5-4b67-b007-738cc4759d2e",
      "metadata": {
        "id": "e6fd6aaa-09c5-4b67-b007-738cc4759d2e"
      },
      "source": [
        "# Lambda Expression / Inline Functions"
      ]
    },
    {
      "cell_type": "code",
      "execution_count": null,
      "id": "77a616c1-6a58-429d-b1ad-9546ae926768",
      "metadata": {
        "id": "77a616c1-6a58-429d-b1ad-9546ae926768"
      },
      "outputs": [],
      "source": [
        "b =  lambda x:x**2"
      ]
    },
    {
      "cell_type": "code",
      "execution_count": null,
      "id": "78c17e4a-1f82-47a5-bac0-377526966605",
      "metadata": {
        "id": "78c17e4a-1f82-47a5-bac0-377526966605",
        "outputId": "561e2b74-15d3-467b-fe42-24c4b52b66a7"
      },
      "outputs": [
        {
          "data": {
            "text/plain": [
              "4"
            ]
          },
          "execution_count": 51,
          "metadata": {},
          "output_type": "execute_result"
        }
      ],
      "source": [
        "b(2)"
      ]
    },
    {
      "cell_type": "code",
      "execution_count": null,
      "id": "ab752170-0246-4374-a068-17a583656267",
      "metadata": {
        "id": "ab752170-0246-4374-a068-17a583656267"
      },
      "outputs": [],
      "source": [
        "summ = lambda x,y: x+y"
      ]
    },
    {
      "cell_type": "code",
      "execution_count": null,
      "id": "651d59e1-4a31-46df-826a-101fa47dec26",
      "metadata": {
        "id": "651d59e1-4a31-46df-826a-101fa47dec26",
        "outputId": "c0729228-e62a-44f3-cf2e-bcb2f68ff371"
      },
      "outputs": [
        {
          "data": {
            "text/plain": [
              "22"
            ]
          },
          "execution_count": 53,
          "metadata": {},
          "output_type": "execute_result"
        }
      ],
      "source": [
        "summ(12,10)"
      ]
    },
    {
      "cell_type": "code",
      "execution_count": null,
      "id": "de90a5e7-f190-4288-b2e4-c428fb79102a",
      "metadata": {
        "id": "de90a5e7-f190-4288-b2e4-c428fb79102a"
      },
      "outputs": [],
      "source": [
        "dynamicFunction(lambda :print('pak'))"
      ]
    }
  ],
  "metadata": {
    "kernelspec": {
      "display_name": "Python 3 (ipykernel)",
      "language": "python",
      "name": "python3"
    },
    "language_info": {
      "codemirror_mode": {
        "name": "ipython",
        "version": 3
      },
      "file_extension": ".py",
      "mimetype": "text/x-python",
      "name": "python",
      "nbconvert_exporter": "python",
      "pygments_lexer": "ipython3",
      "version": "3.12.4"
    },
    "colab": {
      "provenance": [],
      "include_colab_link": true
    }
  },
  "nbformat": 4,
  "nbformat_minor": 5
}