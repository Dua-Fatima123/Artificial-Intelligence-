{
  "cells": [
    {
      "cell_type": "markdown",
      "metadata": {
        "id": "view-in-github",
        "colab_type": "text"
      },
      "source": [
        "<a href=\"https://colab.research.google.com/github/Dua-Fatima123/Artificial-Intelligence-/blob/main/if_else_for.ipynb\" target=\"_parent\"><img src=\"https://colab.research.google.com/assets/colab-badge.svg\" alt=\"Open In Colab\"/></a>"
      ]
    },
    {
      "cell_type": "code",
      "execution_count": null,
      "id": "703bd636-e1a1-4212-8cf8-e9bfb30f611a",
      "metadata": {
        "id": "703bd636-e1a1-4212-8cf8-e9bfb30f611a",
        "outputId": "0f9d7cca-dcab-476b-fc25-e3a71615d032"
      },
      "outputs": [
        {
          "name": "stdin",
          "output_type": "stream",
          "text": [
            "Enter Marks of the Student :  78\n"
          ]
        },
        {
          "name": "stdout",
          "output_type": "stream",
          "text": [
            "Pass\n",
            "Congratulations\n"
          ]
        }
      ],
      "source": [
        "a = int(input('Enter Marks of the Student : '))\n",
        "if a >= 60 :\n",
        "    print('Pass')\n",
        "    print('Congratulations')\n",
        "else :\n",
        "    print('Fail')\n",
        ""
      ]
    },
    {
      "cell_type": "code",
      "execution_count": null,
      "id": "7b02ffd7-b664-45dd-a567-ae082701c7b2",
      "metadata": {
        "id": "7b02ffd7-b664-45dd-a567-ae082701c7b2",
        "outputId": "d52b2d7a-5bf2-46dc-f8ab-1186372f61a8"
      },
      "outputs": [
        {
          "name": "stdout",
          "output_type": "stream",
          "text": [
            "C Grade\n"
          ]
        }
      ],
      "source": [
        "if a >= 90 :\n",
        "    print('A Grade')\n",
        "elif a >= 80 :\n",
        "    print('B Grade')\n",
        "elif a >= 70 :\n",
        "    print('C Grade')\n",
        "elif a >= 60 :\n",
        "    print('D Grade')\n",
        "elif a >= 50 :\n",
        "    print('E Grade')\n",
        "else :\n",
        "    print('Fail')"
      ]
    },
    {
      "cell_type": "code",
      "execution_count": null,
      "id": "a81eaa2e-c164-4c95-91bf-cbdfe91f18af",
      "metadata": {
        "id": "a81eaa2e-c164-4c95-91bf-cbdfe91f18af",
        "outputId": "b35319f4-f6e4-430c-966d-be2c1df048cd"
      },
      "outputs": [
        {
          "name": "stdout",
          "output_type": "stream",
          "text": [
            "0\n",
            "1\n",
            "2\n",
            "3\n",
            "4\n",
            "5\n",
            "6\n",
            "7\n",
            "8\n",
            "9\n"
          ]
        }
      ],
      "source": [
        "for i in range(10) :\n",
        "    print(i)"
      ]
    },
    {
      "cell_type": "code",
      "execution_count": null,
      "id": "164524b4-5428-4e1f-b990-8943075c4eec",
      "metadata": {
        "id": "164524b4-5428-4e1f-b990-8943075c4eec",
        "outputId": "94b1efb7-2049-46c2-b72b-ef50d718f70a"
      },
      "outputs": [
        {
          "name": "stdout",
          "output_type": "stream",
          "text": [
            "1\n",
            "2\n",
            "3\n",
            "4\n",
            "5\n",
            "6\n",
            "7\n",
            "8\n",
            "9\n"
          ]
        }
      ],
      "source": [
        "for i in range(1,10) :\n",
        "    print(i)"
      ]
    },
    {
      "cell_type": "code",
      "execution_count": null,
      "id": "fcdbe80c-a5c7-434b-896a-19501812b5e3",
      "metadata": {
        "id": "fcdbe80c-a5c7-434b-896a-19501812b5e3",
        "outputId": "8c3fa1d2-02a3-4efb-db3e-dc8a7d0b53f3"
      },
      "outputs": [
        {
          "name": "stdout",
          "output_type": "stream",
          "text": [
            "1\n",
            "3\n",
            "5\n",
            "7\n",
            "9\n",
            "11\n",
            "13\n",
            "15\n",
            "17\n",
            "19\n",
            "21\n",
            "23\n",
            "25\n",
            "27\n",
            "29\n",
            "31\n",
            "33\n",
            "35\n",
            "37\n",
            "39\n",
            "41\n",
            "43\n",
            "45\n",
            "47\n",
            "49\n"
          ]
        }
      ],
      "source": [
        "for i in range(1,50,2) :\n",
        "    print(i)"
      ]
    },
    {
      "cell_type": "code",
      "execution_count": null,
      "id": "29b8b669-f370-4fea-9a7d-fd9e925ec970",
      "metadata": {
        "id": "29b8b669-f370-4fea-9a7d-fd9e925ec970",
        "outputId": "e0415305-98a9-4043-ad93-23b320d890db"
      },
      "outputs": [
        {
          "name": "stdout",
          "output_type": "stream",
          "text": [
            "1\n",
            "2\n",
            "3\n",
            "4\n",
            "5\n",
            "6\n",
            "7\n",
            "8\n",
            "9\n"
          ]
        }
      ],
      "source": [
        "a = [1,2,3,4,5,6,7,8,9]\n",
        "for i in a :\n",
        "    print(i)"
      ]
    },
    {
      "cell_type": "code",
      "execution_count": null,
      "id": "e4a316e8-c204-41e4-9cec-de377d069a83",
      "metadata": {
        "id": "e4a316e8-c204-41e4-9cec-de377d069a83",
        "outputId": "bcfcbefc-8a3f-484e-b6da-f502b99b6dca"
      },
      "outputs": [
        {
          "name": "stdout",
          "output_type": "stream",
          "text": [
            "[1, 2, 3, 4, 5, 6, 7, 8, 9]\n"
          ]
        }
      ],
      "source": [
        "for i in a :\n",
        "    i =10\n",
        "print(a)"
      ]
    },
    {
      "cell_type": "code",
      "execution_count": null,
      "id": "18b2a870-c73c-4b1b-8e44-6c50c52f9486",
      "metadata": {
        "id": "18b2a870-c73c-4b1b-8e44-6c50c52f9486",
        "outputId": "c78d5f17-a410-4279-8251-c6e9cb932902"
      },
      "outputs": [
        {
          "name": "stdout",
          "output_type": "stream",
          "text": [
            "1 2 3\n"
          ]
        }
      ],
      "source": [
        "b = [1,2,3]\n",
        "x,y,z = b\n",
        "print(x,y,z)"
      ]
    },
    {
      "cell_type": "code",
      "execution_count": null,
      "id": "9466bad7-fe80-4127-a01b-eee1c3c8a08d",
      "metadata": {
        "id": "9466bad7-fe80-4127-a01b-eee1c3c8a08d",
        "outputId": "d3dc87ed-2186-447f-cffd-7de6597d49c7"
      },
      "outputs": [
        {
          "name": "stdout",
          "output_type": "stream",
          "text": [
            "0 1\n",
            "1 2\n",
            "2 3\n",
            "3 4\n",
            "4 5\n",
            "5 6\n",
            "6 7\n",
            "7 8\n",
            "8 9\n"
          ]
        }
      ],
      "source": [
        "for index,value in enumerate(a) :\n",
        "    print(index,value)"
      ]
    },
    {
      "cell_type": "code",
      "execution_count": null,
      "id": "ee0155aa-92a2-41a2-a406-39d09f55fe22",
      "metadata": {
        "id": "ee0155aa-92a2-41a2-a406-39d09f55fe22",
        "outputId": "f3bd1326-1289-4230-fec2-de69f07c24d1"
      },
      "outputs": [
        {
          "name": "stdout",
          "output_type": "stream",
          "text": [
            "4\n"
          ]
        }
      ],
      "source": [
        "for index,value in enumerate(a) :\n",
        "    if value == 5 :\n",
        "        print(index)\n",
        ""
      ]
    },
    {
      "cell_type": "code",
      "execution_count": null,
      "id": "edc7524d-96a5-4988-9c2e-dab4d484ed1a",
      "metadata": {
        "id": "edc7524d-96a5-4988-9c2e-dab4d484ed1a",
        "outputId": "bb164352-cc64-45da-8858-6c8ad73fb435"
      },
      "outputs": [
        {
          "data": {
            "text/plain": [
              "[10, 10, 10, 10, 10, 10, 10, 10, 10]"
            ]
          },
          "execution_count": 45,
          "metadata": {},
          "output_type": "execute_result"
        }
      ],
      "source": [
        "for index,value in enumerate(a) :\n",
        "    a[index] = a[index] ** b\n",
        "a"
      ]
    },
    {
      "cell_type": "code",
      "execution_count": null,
      "id": "2883ad92-9a25-46dd-800e-8efea030d78f",
      "metadata": {
        "id": "2883ad92-9a25-46dd-800e-8efea030d78f",
        "outputId": "74ff4c86-00bf-43f1-9185-6b6095cdbac4"
      },
      "outputs": [
        {
          "data": {
            "text/plain": [
              "{0: 10, 1: 10, 2: 10, 3: 10, 4: 10, 5: 10, 6: 10, 7: 10, 8: 10}"
            ]
          },
          "execution_count": 47,
          "metadata": {},
          "output_type": "execute_result"
        }
      ],
      "source": [
        "c = dict(enumerate(a))\n",
        "c"
      ]
    },
    {
      "cell_type": "code",
      "execution_count": null,
      "id": "82503038-93d9-4ffd-b9d4-6d4fc1c30a5c",
      "metadata": {
        "id": "82503038-93d9-4ffd-b9d4-6d4fc1c30a5c",
        "outputId": "d65774ea-f98e-475b-92dd-f9ce0fa274ec"
      },
      "outputs": [
        {
          "data": {
            "text/plain": [
              "[1, 4, 9, 16, 25, 36, 49, 64, 81]"
            ]
          },
          "execution_count": 53,
          "metadata": {},
          "output_type": "execute_result"
        }
      ],
      "source": [
        "a = [1,2,3,4,5,6,7,8,9]\n",
        "c = ['Jamshad','Hamiz','Ashir','Khurum','Noman','Ahmed','Abdullah Qurashi','Abdullah','Muzamil']\n",
        "b = []\n",
        "for i in a:\n",
        "    b.append(i**2)\n",
        "b"
      ]
    },
    {
      "cell_type": "code",
      "execution_count": null,
      "id": "42ddbe67-a205-4f69-8035-f02ad1786e33",
      "metadata": {
        "id": "42ddbe67-a205-4f69-8035-f02ad1786e33",
        "outputId": "6695fded-8393-4ef3-c2e2-10071126ec74"
      },
      "outputs": [
        {
          "data": {
            "text/plain": [
              "[(1, 'Jamshad'),\n",
              " (2, 'Hamiz'),\n",
              " (3, 'Ashir'),\n",
              " (4, 'Khurum'),\n",
              " (5, 'Noman'),\n",
              " (6, 'Ahmed'),\n",
              " (7, 'Abdullah Qurashi'),\n",
              " (8, 'Abdullah'),\n",
              " (9, 'Muzamil')]"
            ]
          },
          "execution_count": 55,
          "metadata": {},
          "output_type": "execute_result"
        }
      ],
      "source": [
        "d =  list(zip(a,c))\n",
        "d"
      ]
    },
    {
      "cell_type": "code",
      "execution_count": null,
      "id": "89fd0f1d-a722-4009-94c8-e679b63de670",
      "metadata": {
        "id": "89fd0f1d-a722-4009-94c8-e679b63de670",
        "outputId": "27367eb4-2f15-4629-fcd7-2d2502327fa6"
      },
      "outputs": [
        {
          "data": {
            "text/plain": [
              "1"
            ]
          },
          "execution_count": 57,
          "metadata": {},
          "output_type": "execute_result"
        }
      ],
      "source": [
        "min(a)"
      ]
    },
    {
      "cell_type": "code",
      "execution_count": null,
      "id": "71b13770-54ec-4d3c-aa09-65a2b095070e",
      "metadata": {
        "id": "71b13770-54ec-4d3c-aa09-65a2b095070e",
        "outputId": "8930f62b-492b-41c2-e422-f05e5315553e"
      },
      "outputs": [
        {
          "data": {
            "text/plain": [
              "9"
            ]
          },
          "execution_count": 59,
          "metadata": {},
          "output_type": "execute_result"
        }
      ],
      "source": [
        "max(a)"
      ]
    },
    {
      "cell_type": "code",
      "execution_count": null,
      "id": "005794dd-6611-4f8a-8df0-c39bf6edb42c",
      "metadata": {
        "id": "005794dd-6611-4f8a-8df0-c39bf6edb42c",
        "outputId": "a79f2095-d369-4a2e-9917-e76b19732f6c"
      },
      "outputs": [
        {
          "data": {
            "text/plain": [
              "45"
            ]
          },
          "execution_count": 61,
          "metadata": {},
          "output_type": "execute_result"
        }
      ],
      "source": [
        "sum(a)"
      ]
    },
    {
      "cell_type": "code",
      "execution_count": null,
      "id": "9b4e0d1f-3729-42c0-8f2e-e723eb565a4c",
      "metadata": {
        "id": "9b4e0d1f-3729-42c0-8f2e-e723eb565a4c",
        "outputId": "25022679-6d76-4283-c0ee-4c058ab1ea8a"
      },
      "outputs": [
        {
          "data": {
            "text/plain": [
              "[1, 2, 3, 4, 5, 6, 7, 8, 9, 1, 4, 9, 16, 25, 36, 49, 64, 81]"
            ]
          },
          "execution_count": 65,
          "metadata": {},
          "output_type": "execute_result"
        }
      ],
      "source": [
        "c = a + b\n",
        "c"
      ]
    },
    {
      "cell_type": "code",
      "execution_count": null,
      "id": "f9e3d7d8-ea83-4c40-9723-29cd215f422a",
      "metadata": {
        "id": "f9e3d7d8-ea83-4c40-9723-29cd215f422a",
        "outputId": "5182e1aa-b98c-41c8-c23c-7e09978071e0"
      },
      "outputs": [
        {
          "data": {
            "text/plain": [
              "[1, 2, 3, 4, 5, 6, 7, 8, 9, 1, 2, 3, 4, 5, 6, 7, 8, 9]"
            ]
          },
          "execution_count": 67,
          "metadata": {},
          "output_type": "execute_result"
        }
      ],
      "source": [
        "c = a * 2\n",
        "c"
      ]
    },
    {
      "cell_type": "code",
      "execution_count": null,
      "id": "44156961-8348-413f-93cd-aedc212f5e00",
      "metadata": {
        "id": "44156961-8348-413f-93cd-aedc212f5e00"
      },
      "outputs": [],
      "source": []
    }
  ],
  "metadata": {
    "kernelspec": {
      "display_name": "Python 3 (ipykernel)",
      "language": "python",
      "name": "python3"
    },
    "language_info": {
      "codemirror_mode": {
        "name": "ipython",
        "version": 3
      },
      "file_extension": ".py",
      "mimetype": "text/x-python",
      "name": "python",
      "nbconvert_exporter": "python",
      "pygments_lexer": "ipython3",
      "version": "3.12.4"
    },
    "colab": {
      "provenance": [],
      "include_colab_link": true
    }
  },
  "nbformat": 4,
  "nbformat_minor": 5
}