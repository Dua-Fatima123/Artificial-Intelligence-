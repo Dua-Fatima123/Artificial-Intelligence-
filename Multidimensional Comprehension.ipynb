{
  "cells": [
    {
      "cell_type": "markdown",
      "metadata": {
        "id": "view-in-github",
        "colab_type": "text"
      },
      "source": [
        "<a href=\"https://colab.research.google.com/github/Dua-Fatima123/Artificial-Intelligence-/blob/main/Multidimensional%20Comprehension.ipynb\" target=\"_parent\"><img src=\"https://colab.research.google.com/assets/colab-badge.svg\" alt=\"Open In Colab\"/></a>"
      ]
    },
    {
      "cell_type": "markdown",
      "id": "4d23c864-e69e-413f-9a13-f2770e1207f5",
      "metadata": {
        "id": "4d23c864-e69e-413f-9a13-f2770e1207f5"
      },
      "source": [
        "# Multidimension Comprehension"
      ]
    },
    {
      "cell_type": "code",
      "execution_count": null,
      "id": "fd4de723-fc9a-4091-8fcb-8a6a8dc1f66c",
      "metadata": {
        "id": "fd4de723-fc9a-4091-8fcb-8a6a8dc1f66c",
        "outputId": "6893f39e-fb20-4689-9515-bf7f409be0a9"
      },
      "outputs": [
        {
          "data": {
            "text/plain": [
              "[[0, 1, 2, 3, 4],\n",
              " [1, 2, 3, 4, 5],\n",
              " [2, 3, 4, 5, 6],\n",
              " [3, 4, 5, 6, 7],\n",
              " [4, 5, 6, 7, 8]]"
            ]
          },
          "execution_count": 6,
          "metadata": {},
          "output_type": "execute_result"
        }
      ],
      "source": [
        "a = [[x+y for x in range(5)] for y in range(5)]\n",
        "a"
      ]
    },
    {
      "cell_type": "code",
      "execution_count": null,
      "id": "7ea32d40-eaa5-470e-9f21-6623d13b4075",
      "metadata": {
        "id": "7ea32d40-eaa5-470e-9f21-6623d13b4075",
        "outputId": "54e12a72-c2fc-42fd-f3e1-347372474f1c"
      },
      "outputs": [
        {
          "data": {
            "text/plain": [
              "[[[0, 1, 2, 3, 4],\n",
              "  [1, 2, 3, 4, 5],\n",
              "  [2, 3, 4, 5, 6],\n",
              "  [3, 4, 5, 6, 7],\n",
              "  [4, 5, 6, 7, 8]],\n",
              " [[0, 1, 2, 3, 4],\n",
              "  [1, 2, 3, 4, 5],\n",
              "  [2, 3, 4, 5, 6],\n",
              "  [3, 4, 5, 6, 7],\n",
              "  [4, 5, 6, 7, 8]],\n",
              " [[0, 1, 2, 3, 4],\n",
              "  [1, 2, 3, 4, 5],\n",
              "  [2, 3, 4, 5, 6],\n",
              "  [3, 4, 5, 6, 7],\n",
              "  [4, 5, 6, 7, 8]],\n",
              " [[0, 1, 2, 3, 4],\n",
              "  [1, 2, 3, 4, 5],\n",
              "  [2, 3, 4, 5, 6],\n",
              "  [3, 4, 5, 6, 7],\n",
              "  [4, 5, 6, 7, 8]],\n",
              " [[0, 1, 2, 3, 4],\n",
              "  [1, 2, 3, 4, 5],\n",
              "  [2, 3, 4, 5, 6],\n",
              "  [3, 4, 5, 6, 7],\n",
              "  [4, 5, 6, 7, 8]]]"
            ]
          },
          "execution_count": 8,
          "metadata": {},
          "output_type": "execute_result"
        }
      ],
      "source": [
        "a = [[[x+y for x in range(5)] for y in range(5)] for _ in range(5)]\n",
        "a"
      ]
    },
    {
      "cell_type": "markdown",
      "id": "755997ef-f552-4c10-8a66-3f90562fb0c3",
      "metadata": {
        "id": "755997ef-f552-4c10-8a66-3f90562fb0c3"
      },
      "source": [
        "# Function"
      ]
    },
    {
      "cell_type": "code",
      "execution_count": null,
      "id": "8a0de635-fcc6-4abc-93a3-f12c2bb1048e",
      "metadata": {
        "id": "8a0de635-fcc6-4abc-93a3-f12c2bb1048e"
      },
      "outputs": [],
      "source": [
        "def foo(a:int)->int:\n",
        "    \"\"\"\n",
        "    foo is very nice function\n",
        "    \"\"\"\n",
        "    if type(a) == int :\n",
        "        return a**2\n",
        "    else:\n",
        "       # print(f'Invalid datatype ! it should be int but actully {type(a)}')\n",
        "        raise  Exception(f'Invalid datatype ! it should be int but actully {type(a)}')\n",
        "        pass"
      ]
    },
    {
      "cell_type": "code",
      "execution_count": null,
      "id": "840fdc85-76da-4d3c-afbf-c01c0bfe094f",
      "metadata": {
        "id": "840fdc85-76da-4d3c-afbf-c01c0bfe094f",
        "outputId": "cb7a6ce4-5369-4055-b8f3-704251ffd8c7"
      },
      "outputs": [
        {
          "name": "stdout",
          "output_type": "stream",
          "text": [
            "Help on function foo in module __main__:\n",
            "\n",
            "foo(a: int) -> int\n",
            "    foo is very nice function\n",
            "\n"
          ]
        }
      ],
      "source": [
        "help(foo)"
      ]
    },
    {
      "cell_type": "code",
      "execution_count": null,
      "id": "7c41ebf3-e49c-4675-afef-ca077dd39c9c",
      "metadata": {
        "id": "7c41ebf3-e49c-4675-afef-ca077dd39c9c",
        "outputId": "796636d8-2372-4852-f297-9224cde0cd2b"
      },
      "outputs": [
        {
          "data": {
            "text/plain": [
              "4"
            ]
          },
          "execution_count": 49,
          "metadata": {},
          "output_type": "execute_result"
        }
      ],
      "source": [
        "foo(2)"
      ]
    },
    {
      "cell_type": "code",
      "execution_count": null,
      "id": "2f412c22-d52b-4234-b867-978f1d299efb",
      "metadata": {
        "id": "2f412c22-d52b-4234-b867-978f1d299efb",
        "outputId": "3be4fd28-53ec-43e1-f95d-68b1e8788687"
      },
      "outputs": [
        {
          "ename": "Exception",
          "evalue": "Invalid datatype ! it should be int but actully <class 'bool'>",
          "output_type": "error",
          "traceback": [
            "\u001b[0;31m---------------------------------------------------------------------------\u001b[0m",
            "\u001b[0;31mException\u001b[0m                                 Traceback (most recent call last)",
            "Cell \u001b[0;32mIn[51], line 1\u001b[0m\n\u001b[0;32m----> 1\u001b[0m foo(\u001b[38;5;28;01mTrue\u001b[39;00m)\n",
            "Cell \u001b[0;32mIn[45], line 9\u001b[0m, in \u001b[0;36mfoo\u001b[0;34m(a)\u001b[0m\n\u001b[1;32m      6\u001b[0m     \u001b[38;5;28;01mreturn\u001b[39;00m a\u001b[38;5;241m*\u001b[39m\u001b[38;5;241m*\u001b[39m\u001b[38;5;241m2\u001b[39m\n\u001b[1;32m      7\u001b[0m \u001b[38;5;28;01melse\u001b[39;00m:\n\u001b[1;32m      8\u001b[0m    \u001b[38;5;66;03m# print(f'Invalid datatype ! it should be int but actully {type(a)}')\u001b[39;00m\n\u001b[0;32m----> 9\u001b[0m     \u001b[38;5;28;01mraise\u001b[39;00m  \u001b[38;5;167;01mException\u001b[39;00m(\u001b[38;5;124mf\u001b[39m\u001b[38;5;124m'\u001b[39m\u001b[38;5;124mInvalid datatype ! it should be int but actully \u001b[39m\u001b[38;5;132;01m{\u001b[39;00m\u001b[38;5;28mtype\u001b[39m(a)\u001b[38;5;132;01m}\u001b[39;00m\u001b[38;5;124m'\u001b[39m)\n\u001b[1;32m     10\u001b[0m     \u001b[38;5;28;01mpass\u001b[39;00m\n",
            "\u001b[0;31mException\u001b[0m: Invalid datatype ! it should be int but actully <class 'bool'>"
          ]
        }
      ],
      "source": [
        "foo(True)"
      ]
    },
    {
      "cell_type": "code",
      "execution_count": null,
      "id": "e7b7395f-2221-4de2-b6de-70a3a6f69b08",
      "metadata": {
        "id": "e7b7395f-2221-4de2-b6de-70a3a6f69b08",
        "outputId": "dd49d55d-e7e3-4d7e-c324-ec0c7009eca7"
      },
      "outputs": [
        {
          "data": {
            "text/plain": [
              "[1, 2, 3, 4, 5, 6, 7, 8, <function __main__.foo(a: int) -> int>]"
            ]
          },
          "execution_count": 25,
          "metadata": {},
          "output_type": "execute_result"
        }
      ],
      "source": [
        "a = [1,2,3,4,5,6,7,8,foo]\n",
        "a"
      ]
    },
    {
      "cell_type": "code",
      "execution_count": null,
      "id": "201e788c-e03c-4702-bd7c-3c8d5a9da7c2",
      "metadata": {
        "id": "201e788c-e03c-4702-bd7c-3c8d5a9da7c2",
        "outputId": "5d418d06-15cf-4dc9-865b-2952d18b6a82"
      },
      "outputs": [
        {
          "data": {
            "text/plain": [
              "4"
            ]
          },
          "execution_count": 27,
          "metadata": {},
          "output_type": "execute_result"
        }
      ],
      "source": [
        "a[8](2)"
      ]
    },
    {
      "cell_type": "code",
      "execution_count": null,
      "id": "99bd35bc-0f15-4677-aba9-88a962282e2b",
      "metadata": {
        "id": "99bd35bc-0f15-4677-aba9-88a962282e2b"
      },
      "outputs": [],
      "source": [
        "def demo(a,b,c):\n",
        "    print(a,b,c)"
      ]
    },
    {
      "cell_type": "code",
      "execution_count": null,
      "id": "16b3ffff-4eef-491a-9e21-f5df25e82392",
      "metadata": {
        "id": "16b3ffff-4eef-491a-9e21-f5df25e82392",
        "outputId": "8d374444-3206-492c-be8b-1939e2b11f01"
      },
      "outputs": [
        {
          "name": "stdout",
          "output_type": "stream",
          "text": [
            "1 2 3\n"
          ]
        }
      ],
      "source": [
        "demo(1,2,3)"
      ]
    },
    {
      "cell_type": "code",
      "execution_count": null,
      "id": "7c92af1b-9f38-46d5-963c-72877b99ca0d",
      "metadata": {
        "id": "7c92af1b-9f38-46d5-963c-72877b99ca0d",
        "outputId": "7dafbdaa-87cc-4163-abef-74b5a31dd2b9"
      },
      "outputs": [
        {
          "name": "stdout",
          "output_type": "stream",
          "text": [
            "1 2 3\n"
          ]
        }
      ],
      "source": [
        "demo(1,b =2,c =3)"
      ]
    },
    {
      "cell_type": "code",
      "execution_count": null,
      "id": "726086d1-f4b8-4c59-878c-0289f05ac447",
      "metadata": {
        "id": "726086d1-f4b8-4c59-878c-0289f05ac447",
        "outputId": "3f19798b-87cc-4191-bca5-1517358c8800"
      },
      "outputs": [
        {
          "name": "stdout",
          "output_type": "stream",
          "text": [
            "1 3 2\n"
          ]
        }
      ],
      "source": [
        "demo(1,c =2,b =3)"
      ]
    },
    {
      "cell_type": "code",
      "execution_count": null,
      "id": "9fc3483b-b69b-4550-a7e6-33018dc5f47f",
      "metadata": {
        "id": "9fc3483b-b69b-4550-a7e6-33018dc5f47f",
        "outputId": "26b42081-b38f-4845-fa3b-f7074e2a7ace"
      },
      "outputs": [
        {
          "name": "stdout",
          "output_type": "stream",
          "text": [
            "3 2 1\n"
          ]
        }
      ],
      "source": [
        "demo(c =1,b =2,a =3)"
      ]
    },
    {
      "cell_type": "code",
      "execution_count": null,
      "id": "eb2abc8c-84d0-47c3-8d99-ba356bfd8311",
      "metadata": {
        "id": "eb2abc8c-84d0-47c3-8d99-ba356bfd8311",
        "outputId": "2aa85fee-ef21-4a96-a52d-6239e6d6a06c"
      },
      "outputs": [
        {
          "ename": "SyntaxError",
          "evalue": "positional argument follows keyword argument (196662018.py, line 1)",
          "output_type": "error",
          "traceback": [
            "\u001b[0;36m  Cell \u001b[0;32mIn[63], line 1\u001b[0;36m\u001b[0m\n\u001b[0;31m    demo(c =2 , 1,2)\u001b[0m\n\u001b[0m                   ^\u001b[0m\n\u001b[0;31mSyntaxError\u001b[0m\u001b[0;31m:\u001b[0m positional argument follows keyword argument\n"
          ]
        }
      ],
      "source": [
        "#demo(c =2 , 1,2)"
      ]
    },
    {
      "cell_type": "code",
      "execution_count": null,
      "id": "f00bd926-f5ad-4738-a4a9-33f1a81eae31",
      "metadata": {
        "id": "f00bd926-f5ad-4738-a4a9-33f1a81eae31"
      },
      "outputs": [],
      "source": [
        "def haroon(a,b = None,c =10 , d =30):\n",
        "    print(a,b,c,d)"
      ]
    },
    {
      "cell_type": "code",
      "execution_count": null,
      "id": "b304c74e-d028-41c4-aaec-4f5083758232",
      "metadata": {
        "id": "b304c74e-d028-41c4-aaec-4f5083758232",
        "outputId": "903e939f-6ed0-431a-efff-f7ea00b73b57"
      },
      "outputs": [
        {
          "name": "stdout",
          "output_type": "stream",
          "text": [
            "1 2 10 30\n"
          ]
        }
      ],
      "source": [
        "haroon(1,2)"
      ]
    },
    {
      "cell_type": "code",
      "execution_count": null,
      "id": "8eef7b7f-8da7-4241-a1c9-420605f0f81f",
      "metadata": {
        "id": "8eef7b7f-8da7-4241-a1c9-420605f0f81f",
        "outputId": "620328dc-61bb-4c56-b278-afe85e62886e"
      },
      "outputs": [
        {
          "name": "stdout",
          "output_type": "stream",
          "text": [
            "1 2 45 30\n"
          ]
        }
      ],
      "source": [
        "haroon(1,2,45)"
      ]
    },
    {
      "cell_type": "code",
      "execution_count": null,
      "id": "04ace6ee-13f0-4491-bf13-b565a7815d7d",
      "metadata": {
        "id": "04ace6ee-13f0-4491-bf13-b565a7815d7d",
        "outputId": "7a1c062d-d5c2-4dd7-e3f8-134e7537908c"
      },
      "outputs": [
        {
          "name": "stdout",
          "output_type": "stream",
          "text": [
            "1 2 10 67\n"
          ]
        }
      ],
      "source": [
        "haroon(1,2,d = 67)"
      ]
    },
    {
      "cell_type": "code",
      "execution_count": null,
      "id": "3adfe596-06cf-40bc-9961-b5b9d1b903d0",
      "metadata": {
        "id": "3adfe596-06cf-40bc-9961-b5b9d1b903d0"
      },
      "outputs": [],
      "source": [
        "a = None"
      ]
    },
    {
      "cell_type": "code",
      "execution_count": null,
      "id": "b27f0971-adea-47c5-b9d8-55bb7f476be8",
      "metadata": {
        "id": "b27f0971-adea-47c5-b9d8-55bb7f476be8",
        "outputId": "3b2742e7-86b2-4305-9a43-b9049fe053be"
      },
      "outputs": [
        {
          "data": {
            "text/plain": [
              "NoneType"
            ]
          },
          "execution_count": 75,
          "metadata": {},
          "output_type": "execute_result"
        }
      ],
      "source": [
        "type(a)"
      ]
    },
    {
      "cell_type": "code",
      "execution_count": null,
      "id": "74b9d146-c457-4f49-8ba7-543f9774c77f",
      "metadata": {
        "id": "74b9d146-c457-4f49-8ba7-543f9774c77f"
      },
      "outputs": [],
      "source": []
    }
  ],
  "metadata": {
    "kernelspec": {
      "display_name": "Python 3 (ipykernel)",
      "language": "python",
      "name": "python3"
    },
    "language_info": {
      "codemirror_mode": {
        "name": "ipython",
        "version": 3
      },
      "file_extension": ".py",
      "mimetype": "text/x-python",
      "name": "python",
      "nbconvert_exporter": "python",
      "pygments_lexer": "ipython3",
      "version": "3.12.4"
    },
    "colab": {
      "provenance": [],
      "include_colab_link": true
    }
  },
  "nbformat": 4,
  "nbformat_minor": 5
}